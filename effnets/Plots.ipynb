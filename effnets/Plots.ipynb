{
 "cells": [
  {
   "cell_type": "markdown",
   "id": "1ce929ce",
   "metadata": {},
   "source": [
    "# Plots for Paper"
   ]
  },
  {
   "cell_type": "code",
   "execution_count": 1,
   "id": "3c6f5486",
   "metadata": {},
   "outputs": [
    {
     "name": "stderr",
     "output_type": "stream",
     "text": [
      "C:\\APPS\\Anaconda3\\lib\\site-packages\\numpy\\_distributor_init.py:30: UserWarning: loaded more than 1 DLL from .libs:\n",
      "C:\\APPS\\Anaconda3\\lib\\site-packages\\numpy\\.libs\\libopenblas.PYQHXLVVQ7VESDPUVUADXEVJOBGHJPAY.gfortran-win_amd64.dll\n",
      "C:\\APPS\\Anaconda3\\lib\\site-packages\\numpy\\.libs\\libopenblas64__v0.3.21-gcc_10_3_0.dll\n",
      "  warnings.warn(\"loaded more than 1 DLL from .libs:\"\n"
     ]
    }
   ],
   "source": [
    "import pandas as pd\n",
    "import seaborn as sns\n",
    "import matplotlib.pyplot as plt\n",
    "import os"
   ]
  },
  {
   "cell_type": "code",
   "execution_count": 2,
   "id": "ae409d05",
   "metadata": {},
   "outputs": [],
   "source": [
    "from matplotlib import rc\n",
    "#rc('font',**{'family':'sans-serif','sans-serif':['Helvetica']})\n",
    "rc('font',**{'family':'serif','serif':['Times'], 'size':12})\n",
    "rc('text', usetex=True)\n",
    "import sys \n",
    "sys.path.append(\"C:/APPS/MiKTeX/21.7/fonts/source/public/rsfs\")"
   ]
  },
  {
   "cell_type": "code",
   "execution_count": 3,
   "id": "54dc1519",
   "metadata": {},
   "outputs": [],
   "source": [
    "# create plot directory if it does not already exist\n",
    "os.makedirs(\"results/plots\", exist_ok=True)"
   ]
  },
  {
   "cell_type": "code",
   "execution_count": 4,
   "id": "f6e376dc",
   "metadata": {},
   "outputs": [],
   "source": [
    "def change_width(ax, new_value) :\n",
    "    for patch in ax.patches :\n",
    "        current_width = patch.get_width()\n",
    "        diff = current_width - new_value\n",
    "\n",
    "        # we change the bar width\n",
    "        patch.set_width(new_value)\n",
    "\n",
    "        # we recenter the bar\n",
    "        patch.set_x(patch.get_x() + diff * .5)"
   ]
  },
  {
   "cell_type": "code",
   "execution_count": 5,
   "id": "967d87e1",
   "metadata": {},
   "outputs": [],
   "source": [
    "def add_labels(x,y, ax):\n",
    "    for i in range(len(x)):\n",
    "        ax.text(x[i], y[i]+0.04, y[i], ha = 'center')"
   ]
  },
  {
   "cell_type": "code",
   "execution_count": 6,
   "id": "bb6af2a3",
   "metadata": {},
   "outputs": [
    {
     "data": {
      "text/html": [
       "<svg  width=\"660\" height=\"55\"><rect x=\"0\" y=\"0\" width=\"55\" height=\"55\" style=\"fill:#a6cee3;stroke-width:2;stroke:rgb(255,255,255)\"/><rect x=\"55\" y=\"0\" width=\"55\" height=\"55\" style=\"fill:#1f78b4;stroke-width:2;stroke:rgb(255,255,255)\"/><rect x=\"110\" y=\"0\" width=\"55\" height=\"55\" style=\"fill:#b2df8a;stroke-width:2;stroke:rgb(255,255,255)\"/><rect x=\"165\" y=\"0\" width=\"55\" height=\"55\" style=\"fill:#33a02c;stroke-width:2;stroke:rgb(255,255,255)\"/><rect x=\"220\" y=\"0\" width=\"55\" height=\"55\" style=\"fill:#fb9a99;stroke-width:2;stroke:rgb(255,255,255)\"/><rect x=\"275\" y=\"0\" width=\"55\" height=\"55\" style=\"fill:#e31a1c;stroke-width:2;stroke:rgb(255,255,255)\"/><rect x=\"330\" y=\"0\" width=\"55\" height=\"55\" style=\"fill:#fdbf6f;stroke-width:2;stroke:rgb(255,255,255)\"/><rect x=\"385\" y=\"0\" width=\"55\" height=\"55\" style=\"fill:#ff7f00;stroke-width:2;stroke:rgb(255,255,255)\"/><rect x=\"440\" y=\"0\" width=\"55\" height=\"55\" style=\"fill:#cab2d6;stroke-width:2;stroke:rgb(255,255,255)\"/><rect x=\"495\" y=\"0\" width=\"55\" height=\"55\" style=\"fill:#6a3d9a;stroke-width:2;stroke:rgb(255,255,255)\"/><rect x=\"550\" y=\"0\" width=\"55\" height=\"55\" style=\"fill:#ffff99;stroke-width:2;stroke:rgb(255,255,255)\"/><rect x=\"605\" y=\"0\" width=\"55\" height=\"55\" style=\"fill:#b15928;stroke-width:2;stroke:rgb(255,255,255)\"/></svg>"
      ],
      "text/plain": [
       "[(0.6509803921568628, 0.807843137254902, 0.8901960784313725),\n",
       " (0.12156862745098039, 0.47058823529411764, 0.7058823529411765),\n",
       " (0.6980392156862745, 0.8745098039215686, 0.5411764705882353),\n",
       " (0.2, 0.6274509803921569, 0.17254901960784313),\n",
       " (0.984313725490196, 0.6039215686274509, 0.6),\n",
       " (0.8901960784313725, 0.10196078431372549, 0.10980392156862745),\n",
       " (0.9921568627450981, 0.7490196078431373, 0.43529411764705883),\n",
       " (1.0, 0.4980392156862745, 0.0),\n",
       " (0.792156862745098, 0.6980392156862745, 0.8392156862745098),\n",
       " (0.41568627450980394, 0.23921568627450981, 0.6039215686274509),\n",
       " (1.0, 1.0, 0.6),\n",
       " (0.6941176470588235, 0.34901960784313724, 0.1568627450980392)]"
      ]
     },
     "execution_count": 6,
     "metadata": {},
     "output_type": "execute_result"
    }
   ],
   "source": [
    "sns.color_palette(\"Paired\")"
   ]
  },
  {
   "cell_type": "code",
   "execution_count": 7,
   "id": "db4e0b9e",
   "metadata": {},
   "outputs": [],
   "source": [
    "# flag whether figures should be saved or not\n",
    "save_fig = True"
   ]
  },
  {
   "cell_type": "markdown",
   "id": "86d09bc5",
   "metadata": {},
   "source": [
    "## Weighting"
   ]
  },
  {
   "cell_type": "code",
   "execution_count": 8,
   "id": "930ebc7e",
   "metadata": {},
   "outputs": [
    {
     "data": {
      "text/html": [
       "<div>\n",
       "<style scoped>\n",
       "    .dataframe tbody tr th:only-of-type {\n",
       "        vertical-align: middle;\n",
       "    }\n",
       "\n",
       "    .dataframe tbody tr th {\n",
       "        vertical-align: top;\n",
       "    }\n",
       "\n",
       "    .dataframe thead th {\n",
       "        text-align: right;\n",
       "    }\n",
       "</style>\n",
       "<table border=\"1\" class=\"dataframe\">\n",
       "  <thead>\n",
       "    <tr style=\"text-align: right;\">\n",
       "      <th></th>\n",
       "      <th>Efficient Grid</th>\n",
       "      <th>Fairness and Customer Acceptance</th>\n",
       "      <th>Expansion of DER</th>\n",
       "      <th>Efficient Electricity Usage</th>\n",
       "    </tr>\n",
       "    <tr>\n",
       "      <th>Stakeholder</th>\n",
       "      <th></th>\n",
       "      <th></th>\n",
       "      <th></th>\n",
       "      <th></th>\n",
       "    </tr>\n",
       "  </thead>\n",
       "  <tbody>\n",
       "    <tr>\n",
       "      <th>Authority</th>\n",
       "      <td>0.728584</td>\n",
       "      <td>0.162579</td>\n",
       "      <td>0.021767</td>\n",
       "      <td>0.087069</td>\n",
       "    </tr>\n",
       "    <tr>\n",
       "      <th>Politics</th>\n",
       "      <td>0.090909</td>\n",
       "      <td>0.454545</td>\n",
       "      <td>0.340909</td>\n",
       "      <td>0.113636</td>\n",
       "    </tr>\n",
       "    <tr>\n",
       "      <th>Third Party</th>\n",
       "      <td>0.454545</td>\n",
       "      <td>0.090909</td>\n",
       "      <td>0.113636</td>\n",
       "      <td>0.340909</td>\n",
       "    </tr>\n",
       "    <tr>\n",
       "      <th>DSO</th>\n",
       "      <td>0.785391</td>\n",
       "      <td>0.148815</td>\n",
       "      <td>0.032897</td>\n",
       "      <td>0.032897</td>\n",
       "    </tr>\n",
       "    <tr>\n",
       "      <th>Regulator</th>\n",
       "      <td>0.795863</td>\n",
       "      <td>0.121149</td>\n",
       "      <td>0.041494</td>\n",
       "      <td>0.041494</td>\n",
       "    </tr>\n",
       "  </tbody>\n",
       "</table>\n",
       "</div>"
      ],
      "text/plain": [
       "             Efficient Grid  Fairness and Customer Acceptance  \\\n",
       "Stakeholder                                                     \n",
       "Authority          0.728584                          0.162579   \n",
       "Politics           0.090909                          0.454545   \n",
       "Third Party        0.454545                          0.090909   \n",
       "DSO                0.785391                          0.148815   \n",
       "Regulator          0.795863                          0.121149   \n",
       "\n",
       "             Expansion of DER  Efficient Electricity Usage  \n",
       "Stakeholder                                                 \n",
       "Authority            0.021767                     0.087069  \n",
       "Politics             0.340909                     0.113636  \n",
       "Third Party          0.113636                     0.340909  \n",
       "DSO                  0.032897                     0.032897  \n",
       "Regulator            0.041494                     0.041494  "
      ]
     },
     "execution_count": 8,
     "metadata": {},
     "output_type": "execute_result"
    }
   ],
   "source": [
    "# import data for weights\n",
    "weights = pd.read_csv(\"results/weighting.csv\", index_col=0)\n",
    "weights"
   ]
  },
  {
   "cell_type": "code",
   "execution_count": 9,
   "id": "301123e0",
   "metadata": {},
   "outputs": [],
   "source": [
    "tmp = sns.color_palette(\"Paired\")\n",
    "colors = [tmp[5], tmp[10], tmp[2], tmp[1]]"
   ]
  },
  {
   "cell_type": "code",
   "execution_count": 10,
   "id": "b011958f",
   "metadata": {},
   "outputs": [
    {
     "data": {
      "image/png": "[encoded data removed]",
      "text/plain": [
       "<Figure size 396x180 with 1 Axes>"
      ]
     },
     "metadata": {
      "needs_background": "light"
     },
     "output_type": "display_data"
    }
   ],
   "source": [
    "ax = weights.multiply(100).loc[[\"Authority\", \"Politics\", \"Third Party\", \"DSO\", \"Regulator\"]].plot.bar(\n",
    "    stacked=True, color=colors, figsize=(5.5,2.5))#(5.5,3.5)\n",
    "change_width(ax, 0.8)\n",
    "ax.set_xlabel(\"\")\n",
    "ax.set_xticklabels(ax.get_xticklabels(), rotation=0)\n",
    "ax.set_ylim(0,100)\n",
    "ax.set_ylabel(\"Weight [\\%]\")\n",
    "plt.legend(ncols=2, loc=\"lower center\", bbox_to_anchor=(0.46,-0.45))\n",
    "if save_fig:\n",
    "    plt.savefig('results/plots/weights.pdf', bbox_inches='tight')"
   ]
  },
  {
   "cell_type": "markdown",
   "id": "b9d2f693",
   "metadata": {},
   "source": [
    "## Level of Fulfillment"
   ]
  },
  {
   "cell_type": "code",
   "execution_count": 11,
   "id": "96129a1b",
   "metadata": {},
   "outputs": [
    {
     "data": {
      "text/html": [
       "<div>\n",
       "<style scoped>\n",
       "    .dataframe tbody tr th:only-of-type {\n",
       "        vertical-align: middle;\n",
       "    }\n",
       "\n",
       "    .dataframe tbody tr th {\n",
       "        vertical-align: top;\n",
       "    }\n",
       "\n",
       "    .dataframe thead th {\n",
       "        text-align: right;\n",
       "    }\n",
       "</style>\n",
       "<table border=\"1\" class=\"dataframe\">\n",
       "  <thead>\n",
       "    <tr style=\"text-align: right;\">\n",
       "      <th></th>\n",
       "      <th>Volumetric Tariff</th>\n",
       "      <th>Monthly Power Peak</th>\n",
       "      <th>Yearly Power Peak</th>\n",
       "      <th>Capacity Tariff</th>\n",
       "      <th>Scenario</th>\n",
       "    </tr>\n",
       "  </thead>\n",
       "  <tbody>\n",
       "    <tr>\n",
       "      <th>Efficient Grid</th>\n",
       "      <td>0.727145</td>\n",
       "      <td>0.741548</td>\n",
       "      <td>0.745419</td>\n",
       "      <td>0.748067</td>\n",
       "      <td>1</td>\n",
       "    </tr>\n",
       "    <tr>\n",
       "      <th>Fairness and Customer Acceptance</th>\n",
       "      <td>0.500000</td>\n",
       "      <td>0.545728</td>\n",
       "      <td>0.539677</td>\n",
       "      <td>0.535830</td>\n",
       "      <td>1</td>\n",
       "    </tr>\n",
       "    <tr>\n",
       "      <th>Expansion of DER</th>\n",
       "      <td>0.768011</td>\n",
       "      <td>0.780376</td>\n",
       "      <td>0.726230</td>\n",
       "      <td>0.628305</td>\n",
       "      <td>1</td>\n",
       "    </tr>\n",
       "    <tr>\n",
       "      <th>Efficient Electricity Usage</th>\n",
       "      <td>0.750000</td>\n",
       "      <td>0.721540</td>\n",
       "      <td>0.725351</td>\n",
       "      <td>0.727559</td>\n",
       "      <td>1</td>\n",
       "    </tr>\n",
       "    <tr>\n",
       "      <th>Efficient Grid</th>\n",
       "      <td>0.701651</td>\n",
       "      <td>0.722842</td>\n",
       "      <td>0.734040</td>\n",
       "      <td>0.739553</td>\n",
       "      <td>2</td>\n",
       "    </tr>\n",
       "    <tr>\n",
       "      <th>Fairness and Customer Acceptance</th>\n",
       "      <td>0.576840</td>\n",
       "      <td>0.728227</td>\n",
       "      <td>0.695446</td>\n",
       "      <td>0.676341</td>\n",
       "      <td>2</td>\n",
       "    </tr>\n",
       "    <tr>\n",
       "      <th>Expansion of DER</th>\n",
       "      <td>0.755539</td>\n",
       "      <td>0.763193</td>\n",
       "      <td>0.715160</td>\n",
       "      <td>0.625355</td>\n",
       "      <td>2</td>\n",
       "    </tr>\n",
       "    <tr>\n",
       "      <th>Efficient Electricity Usage</th>\n",
       "      <td>0.750000</td>\n",
       "      <td>0.686311</td>\n",
       "      <td>0.697072</td>\n",
       "      <td>0.701393</td>\n",
       "      <td>2</td>\n",
       "    </tr>\n",
       "    <tr>\n",
       "      <th>Efficient Grid</th>\n",
       "      <td>0.563819</td>\n",
       "      <td>0.731655</td>\n",
       "      <td>0.765236</td>\n",
       "      <td>0.771632</td>\n",
       "      <td>3</td>\n",
       "    </tr>\n",
       "    <tr>\n",
       "      <th>Fairness and Customer Acceptance</th>\n",
       "      <td>0.575685</td>\n",
       "      <td>0.758570</td>\n",
       "      <td>0.725463</td>\n",
       "      <td>0.739485</td>\n",
       "      <td>3</td>\n",
       "    </tr>\n",
       "    <tr>\n",
       "      <th>Expansion of DER</th>\n",
       "      <td>0.750040</td>\n",
       "      <td>0.755617</td>\n",
       "      <td>0.710279</td>\n",
       "      <td>0.624054</td>\n",
       "      <td>3</td>\n",
       "    </tr>\n",
       "    <tr>\n",
       "      <th>Efficient Electricity Usage</th>\n",
       "      <td>0.750000</td>\n",
       "      <td>0.656469</td>\n",
       "      <td>0.698574</td>\n",
       "      <td>0.651921</td>\n",
       "      <td>3</td>\n",
       "    </tr>\n",
       "    <tr>\n",
       "      <th>Efficient Grid</th>\n",
       "      <td>0.618994</td>\n",
       "      <td>0.837722</td>\n",
       "      <td>0.855460</td>\n",
       "      <td>0.828614</td>\n",
       "      <td>4</td>\n",
       "    </tr>\n",
       "    <tr>\n",
       "      <th>Fairness and Customer Acceptance</th>\n",
       "      <td>0.614950</td>\n",
       "      <td>0.869423</td>\n",
       "      <td>0.823386</td>\n",
       "      <td>0.878447</td>\n",
       "      <td>4</td>\n",
       "    </tr>\n",
       "    <tr>\n",
       "      <th>Expansion of DER</th>\n",
       "      <td>0.741243</td>\n",
       "      <td>0.743495</td>\n",
       "      <td>0.702469</td>\n",
       "      <td>0.621973</td>\n",
       "      <td>4</td>\n",
       "    </tr>\n",
       "    <tr>\n",
       "      <th>Efficient Electricity Usage</th>\n",
       "      <td>0.750000</td>\n",
       "      <td>0.644128</td>\n",
       "      <td>0.657998</td>\n",
       "      <td>0.640895</td>\n",
       "      <td>4</td>\n",
       "    </tr>\n",
       "  </tbody>\n",
       "</table>\n",
       "</div>"
      ],
      "text/plain": [
       "                                  Volumetric Tariff  Monthly Power Peak  \\\n",
       "Efficient Grid                             0.727145            0.741548   \n",
       "Fairness and Customer Acceptance           0.500000            0.545728   \n",
       "Expansion of DER                           0.768011            0.780376   \n",
       "Efficient Electricity Usage                0.750000            0.721540   \n",
       "Efficient Grid                             0.701651            0.722842   \n",
       "Fairness and Customer Acceptance           0.576840            0.728227   \n",
       "Expansion of DER                           0.755539            0.763193   \n",
       "Efficient Electricity Usage                0.750000            0.686311   \n",
       "Efficient Grid                             0.563819            0.731655   \n",
       "Fairness and Customer Acceptance           0.575685            0.758570   \n",
       "Expansion of DER                           0.750040            0.755617   \n",
       "Efficient Electricity Usage                0.750000            0.656469   \n",
       "Efficient Grid                             0.618994            0.837722   \n",
       "Fairness and Customer Acceptance           0.614950            0.869423   \n",
       "Expansion of DER                           0.741243            0.743495   \n",
       "Efficient Electricity Usage                0.750000            0.644128   \n",
       "\n",
       "                                  Yearly Power Peak  Capacity Tariff  Scenario  \n",
       "Efficient Grid                             0.745419         0.748067         1  \n",
       "Fairness and Customer Acceptance           0.539677         0.535830         1  \n",
       "Expansion of DER                           0.726230         0.628305         1  \n",
       "Efficient Electricity Usage                0.725351         0.727559         1  \n",
       "Efficient Grid                             0.734040         0.739553         2  \n",
       "Fairness and Customer Acceptance           0.695446         0.676341         2  \n",
       "Expansion of DER                           0.715160         0.625355         2  \n",
       "Efficient Electricity Usage                0.697072         0.701393         2  \n",
       "Efficient Grid                             0.765236         0.771632         3  \n",
       "Fairness and Customer Acceptance           0.725463         0.739485         3  \n",
       "Expansion of DER                           0.710279         0.624054         3  \n",
       "Efficient Electricity Usage                0.698574         0.651921         3  \n",
       "Efficient Grid                             0.855460         0.828614         4  \n",
       "Fairness and Customer Acceptance           0.823386         0.878447         4  \n",
       "Expansion of DER                           0.702469         0.621973         4  \n",
       "Efficient Electricity Usage                0.657998         0.640895         4  "
      ]
     },
     "execution_count": 11,
     "metadata": {},
     "output_type": "execute_result"
    }
   ],
   "source": [
    "results = pd.read_csv(\"results/result_matrix.csv\", index_col=0)\n",
    "results"
   ]
  },
  {
   "cell_type": "code",
   "execution_count": 12,
   "id": "53c05325",
   "metadata": {},
   "outputs": [],
   "source": [
    "tariffs = ['Volumetric Tariff', 'Monthly Power Peak', 'Yearly Power Peak', 'Capacity Tariff']"
   ]
  },
  {
   "cell_type": "code",
   "execution_count": 13,
   "id": "912efd9d",
   "metadata": {},
   "outputs": [],
   "source": [
    "scenarios = [1, 2, 3, 4]\n",
    "scenario_names = {\n",
    "    1: \"Scenario 1: High Inflexibility\",\n",
    "    2: \"Scenario 2: Increase in Peak-Consumption\",\n",
    "    3: \"Scenario 3: Increase in Local Production\", \n",
    "    4: \"Scenario 4: High Flexibility\"\n",
    "}"
   ]
  },
  {
   "cell_type": "code",
   "execution_count": 14,
   "id": "0b0589c3",
   "metadata": {},
   "outputs": [],
   "source": [
    "criteria_translation = {\n",
    "    \"Reflection of Costs\": 'Reflection\\nof Costs',\n",
    "    \"Reflection of Usage-Related Costs\": 'Reflection\\nof Usage-\\nRelated Costs',\n",
    "    \"Reflection of Capacity-Related Costs\": 'Reflection\\nof Capacity-\\nRelated Costs',\n",
    "    \"Fairness and Customer Acceptance\": 'Fairness and\\nCustomer\\nAcceptance',\n",
    "    \"Expansion of DER\": 'Expansion\\nof DER', \n",
    "    \"Efficient Electricity Usage\": 'Efficient\\nElectricity\\nUsage',\n",
    "    \"Efficient Grid\": 'Efficient\\nGrid'}"
   ]
  },
  {
   "cell_type": "code",
   "execution_count": 15,
   "id": "e09458b6",
   "metadata": {},
   "outputs": [
    {
     "data": {
      "image/png": "[encoded data removed]",
      "text/plain": [
       "<Figure size 432x396 with 4 Axes>"
      ]
     },
     "metadata": {
      "needs_background": "light"
     },
     "output_type": "display_data"
    }
   ],
   "source": [
    "tmp = sns.color_palette(\"Paired\")\n",
    "colors = [tmp[1], tmp[6], tmp[5], \"k\"]\n",
    "fig, axes = plt.subplots(4, figsize=(6, 5.5))\n",
    "for idx, ax in enumerate(axes):\n",
    "    plot_df = results.loc[results[\"Scenario\"]==scenarios[idx]][tariffs].rename(index=criteria_translation)\n",
    "    plot_df.plot.bar(color=colors, width=0.8, ax=ax)\n",
    "    ax.legend().remove()\n",
    "    if idx==3:\n",
    "        ax.set_xticklabels(ax.get_xticklabels(), rotation=0)\n",
    "    else:\n",
    "        ax.set_xticklabels([])\n",
    "    ax.set_title(scenario_names[scenarios[idx]])\n",
    "    ax.set_ylim((0,1.1))\n",
    "plt.tight_layout()\n",
    "plt.legend(ncols=2, loc=\"lower center\", bbox_to_anchor=(0.475,-1.4))\n",
    "if save_fig:\n",
    "    plt.savefig('results/plots/fulfillment.pdf', bbox_inches='tight')"
   ]
  },
  {
   "cell_type": "code",
   "execution_count": 16,
   "id": "057f13e6",
   "metadata": {},
   "outputs": [],
   "source": [
    "scenario_names_reduced = {\n",
    "    1: \"Scenario 1: Low Flexibility\",\n",
    "    4: \"Scenario 2: High Flexibility\"\n",
    "}"
   ]
  },
  {
   "cell_type": "code",
   "execution_count": 17,
   "id": "43dd9ab9",
   "metadata": {},
   "outputs": [
    {
     "data": {
      "image/png": "[encoded data removed]",
      "text/plain": [
       "<Figure size 432x252 with 2 Axes>"
      ]
     },
     "metadata": {
      "needs_background": "light"
     },
     "output_type": "display_data"
    }
   ],
   "source": [
    "tmp = sns.color_palette(\"Paired\")\n",
    "colors = [tmp[1], tmp[6], tmp[5], \"k\", tmp[2]]\n",
    "colors[0] = tuple((color*0.8 for color in colors[0]))\n",
    "colors[4] = tuple((color*0.8 for color in colors[4]))\n",
    "fig, axes = plt.subplots(2, figsize=(6., 3.5))\n",
    "for idx, scenario in enumerate([1, 4]):\n",
    "    ax=axes[idx]\n",
    "    plot_df = results.loc[results[\"Scenario\"]==scenario][tariffs].rename(index=criteria_translation)\n",
    "    plot_df.plot.bar(color=colors, width=0.9, ax=ax)\n",
    "    ax.legend().remove()\n",
    "    if idx==1:\n",
    "        ax.set_xticklabels(ax.get_xticklabels(), rotation=0)\n",
    "    else:\n",
    "        ax.set_xticklabels([])\n",
    "    ax.set_title(scenario_names_reduced[scenario])\n",
    "    ax.set_ylim((0,1.1))\n",
    "    ax.set_ylabel(\"Indicator Value $I^i$\")\n",
    "    tmp = plot_df.round(2)\n",
    "    for i, idx in enumerate(tmp.index):\n",
    "        y = list(tmp.loc[idx].values)\n",
    "        x = [i-0.34+0.225*j for j in range(len(tmp))]\n",
    "        add_labels(x, y, ax)\n",
    "    ax.set_xlim(-0.55,3.55)\n",
    "plt.tight_layout()\n",
    "plt.legend(ncols=2, loc=\"lower center\", bbox_to_anchor=(0.475,-1.05))\n",
    "# plt.savefig('results/plots/fulfillment_reduced_hybrid.pdf', bbox_inches='tight')\n",
    "if save_fig:\n",
    "    plt.savefig('results/plots/fulfillment_reduced_labels.pdf', bbox_inches='tight')"
   ]
  },
  {
   "cell_type": "code",
   "execution_count": 18,
   "id": "2da8725b",
   "metadata": {},
   "outputs": [
    {
     "data": {
      "text/plain": [
       "<matplotlib.legend.Legend at 0x1f5d896ba60>"
      ]
     },
     "execution_count": 18,
     "metadata": {},
     "output_type": "execute_result"
    },
    {
     "data": {
      "image/png": "[encoded data removed]",
      "text/plain": [
       "<Figure size 396x396 with 4 Axes>"
      ]
     },
     "metadata": {
      "needs_background": "light"
     },
     "output_type": "display_data"
    }
   ],
   "source": [
    "tmp = sns.color_palette(\"Paired\")\n",
    "colors = [tmp[5], tmp[10], tmp[2], tmp[1]]#[tmp[5], tmp[6], tmp[10], tmp[2], tmp[1], tmp[9]]\n",
    "fig, axes = plt.subplots(4, figsize=(5.5, 5.5))\n",
    "for idx, ax in enumerate(axes):\n",
    "    plot_df = results.loc[results[\"Scenario\"]==scenarios[idx]][tariffs].rename(index=criteria_translation)\n",
    "    plot_df.T.plot.bar(color=colors, width=0.8, ax=ax, stacked=True)\n",
    "    ax.legend().remove()\n",
    "    if idx==3:\n",
    "        ax.set_xticklabels(ax.get_xticklabels(), rotation=0)\n",
    "    else:\n",
    "        ax.set_xticklabels([])\n",
    "    ax.set_title(scenario_names[scenarios[idx]])\n",
    "plt.tight_layout()\n",
    "plt.legend(ncols=2, loc=\"lower center\", bbox_to_anchor=(0.475,-1.4))"
   ]
  },
  {
   "cell_type": "code",
   "execution_count": 19,
   "id": "439aab04",
   "metadata": {},
   "outputs": [
    {
     "data": {
      "text/html": [
       "<div>\n",
       "<style scoped>\n",
       "    .dataframe tbody tr th:only-of-type {\n",
       "        vertical-align: middle;\n",
       "    }\n",
       "\n",
       "    .dataframe tbody tr th {\n",
       "        vertical-align: top;\n",
       "    }\n",
       "\n",
       "    .dataframe thead th {\n",
       "        text-align: right;\n",
       "    }\n",
       "</style>\n",
       "<table border=\"1\" class=\"dataframe\">\n",
       "  <thead>\n",
       "    <tr style=\"text-align: right;\">\n",
       "      <th></th>\n",
       "      <th>Volumetric Tariff</th>\n",
       "      <th>Monthly Power Peak</th>\n",
       "      <th>Yearly Power Peak</th>\n",
       "      <th>Capacity Tariff</th>\n",
       "      <th>Scenario</th>\n",
       "    </tr>\n",
       "  </thead>\n",
       "  <tbody>\n",
       "    <tr>\n",
       "      <th>Fairness and Customer Acceptance</th>\n",
       "      <td>0.500000</td>\n",
       "      <td>0.545728</td>\n",
       "      <td>0.539677</td>\n",
       "      <td>0.535830</td>\n",
       "      <td>1</td>\n",
       "    </tr>\n",
       "    <tr>\n",
       "      <th>Fairness and Customer Acceptance</th>\n",
       "      <td>0.576840</td>\n",
       "      <td>0.728227</td>\n",
       "      <td>0.695446</td>\n",
       "      <td>0.676341</td>\n",
       "      <td>2</td>\n",
       "    </tr>\n",
       "    <tr>\n",
       "      <th>Fairness and Customer Acceptance</th>\n",
       "      <td>0.575685</td>\n",
       "      <td>0.758570</td>\n",
       "      <td>0.725463</td>\n",
       "      <td>0.739485</td>\n",
       "      <td>3</td>\n",
       "    </tr>\n",
       "    <tr>\n",
       "      <th>Fairness and Customer Acceptance</th>\n",
       "      <td>0.614950</td>\n",
       "      <td>0.869423</td>\n",
       "      <td>0.823386</td>\n",
       "      <td>0.878447</td>\n",
       "      <td>4</td>\n",
       "    </tr>\n",
       "  </tbody>\n",
       "</table>\n",
       "</div>"
      ],
      "text/plain": [
       "                                  Volumetric Tariff  Monthly Power Peak  \\\n",
       "Fairness and Customer Acceptance           0.500000            0.545728   \n",
       "Fairness and Customer Acceptance           0.576840            0.728227   \n",
       "Fairness and Customer Acceptance           0.575685            0.758570   \n",
       "Fairness and Customer Acceptance           0.614950            0.869423   \n",
       "\n",
       "                                  Yearly Power Peak  Capacity Tariff  Scenario  \n",
       "Fairness and Customer Acceptance           0.539677         0.535830         1  \n",
       "Fairness and Customer Acceptance           0.695446         0.676341         2  \n",
       "Fairness and Customer Acceptance           0.725463         0.739485         3  \n",
       "Fairness and Customer Acceptance           0.823386         0.878447         4  "
      ]
     },
     "execution_count": 19,
     "metadata": {},
     "output_type": "execute_result"
    }
   ],
   "source": [
    "results.loc[\"Fairness and Customer Acceptance\"]"
   ]
  },
  {
   "cell_type": "markdown",
   "id": "adb3f3cd",
   "metadata": {},
   "source": [
    "## Individual Indicators"
   ]
  },
  {
   "cell_type": "code",
   "execution_count": 20,
   "id": "d52389b4",
   "metadata": {},
   "outputs": [],
   "source": [
    "# import packages\n",
    "import matplotlib.patches as mpatches\n",
    "import matplotlib.pyplot as plt\n",
    "import numpy as np\n",
    "import pandas as pd\n",
    "import seaborn as sns\n",
    "\n",
    "import indicators as ind\n",
    "from data.data_preparation import import_data"
   ]
  },
  {
   "cell_type": "code",
   "execution_count": 21,
   "id": "f1012c53",
   "metadata": {},
   "outputs": [],
   "source": [
    "from matplotlib import rcParams\n",
    "rcParams[\"mathtext.default\"] = \"regular\""
   ]
  },
  {
   "cell_type": "code",
   "execution_count": 22,
   "id": "7bf725be",
   "metadata": {},
   "outputs": [],
   "source": [
    "def plot_indicator(name, method_name, ax):\n",
    "    indicator_df = pd.DataFrame(columns=alternatives)\n",
    "    for scenario in scenarios:\n",
    "        indicator_df.loc[scenario] = getattr(ind, method_name)(dt, scenario, nr_alternatives).loc[0]\n",
    "    indicator_df.rename(index=scenario_names, columns=alternative_names).plot.bar(\n",
    "        color=colors, width=0.8, figsize=(5.5, 3.5), ax=ax)\n",
    "    ax.set_xticklabels(ax.get_xticklabels(), rotation=0)\n",
    "    ax.set_ylabel(name)\n",
    "    ax.legend().remove()\n",
    "    ax.set_ylim((0,1.05))"
   ]
  },
  {
   "cell_type": "code",
   "execution_count": 23,
   "id": "4d333a69",
   "metadata": {},
   "outputs": [],
   "source": [
    "def plot_indicator_horizontal(name, method_name, ax, xlim=(0, 1.05), ylim=(-0.55,1.55), plot_values=False, \n",
    "                              bar_width=0.8, ylabel=None):\n",
    "    indicator_df = pd.DataFrame(columns=alternatives)\n",
    "    for scenario in scenarios:\n",
    "        indicator_df.loc[scenario] = getattr(ind, method_name)(dt, scenario, nr_alternatives).loc[0]\n",
    "    plot_values_horizontal(indicator_df, name, ax, xlim, ylim, plot_values, bar_width, ylabel)"
   ]
  },
  {
   "cell_type": "code",
   "execution_count": 24,
   "id": "676324f7",
   "metadata": {},
   "outputs": [],
   "source": [
    "def plot_values_horizontal(val_df, name, ax, xlim=(0, 1.05), ylim=(-0.55,1.55), plot_values=False, \n",
    "                           bar_width=0.8, ylabel=None ):\n",
    "    plot_df = val_df.rename(index=scenario_names_horizontal, columns=alternative_names)\n",
    "    plot_df.plot.barh(color=colors, width=bar_width, ax=ax)\n",
    "    ax.set_xlim(xlim)\n",
    "    ax.set_xticks([])\n",
    "    ax.legend().remove()\n",
    "    ax.set_title(name)\n",
    "    if plot_values:\n",
    "        tmp = plot_df.round(2)\n",
    "        for i, idx in enumerate(tmp.index):\n",
    "            x = np.round(list(tmp.loc[idx].values),2)\n",
    "            y = [i-0.35*bar_width+(bar_width/4)*j for j in range(len(x))]\n",
    "            add_labels_horizontal_v1(x, y,ax, rotation=0)\n",
    "    if ylabel is not None:\n",
    "        ax.set_yticklabels([])\n",
    "    ax.set_ylim(ylim)\n",
    "    ax.invert_yaxis()"
   ]
  },
  {
   "cell_type": "code",
   "execution_count": 25,
   "id": "653b10d7",
   "metadata": {},
   "outputs": [],
   "source": [
    "def add_labels_horizontal_v1(x,y, ax, rotation=90):\n",
    "    colors = [\"white\", \"k\", \"k\", \"white\"]\n",
    "    for i in range(len(x)):\n",
    "        ax.text(x[i]-0.05, y[i], x[i], ha = 'right', va = 'center', rotation=rotation, color=colors[i])"
   ]
  },
  {
   "cell_type": "code",
   "execution_count": 26,
   "id": "302fa4ae",
   "metadata": {},
   "outputs": [],
   "source": [
    "# import input data from simulated network\n",
    "dt = import_data()"
   ]
  },
  {
   "cell_type": "code",
   "execution_count": 27,
   "id": "94ea1fe9",
   "metadata": {},
   "outputs": [],
   "source": [
    "# Number of scenarios\n",
    "nr_scenarios = 4\n",
    "scenarios = [1, 4]\n",
    "scenario_names = {1: \"S1: Low Flex\", 4: \"S2: High Flex\" }\n",
    "scenario_names_horizontal = {1: \"S1:\\nLow\\nFlex\", 4: \"S2:\\nHigh\\nFlex\" }\n",
    "scenario_names_full = {\n",
    "    1: \"Scenario 1: Low Flexibility\",\n",
    "    4: \"Scenario 2: High Flexibility\"\n",
    "}\n",
    "# Number of alternatives\n",
    "nr_alternatives = 4\n",
    "alternatives = [i+1 for i in range(nr_alternatives)]\n",
    "alternative_names = {1: \"Volumetric Tariff\", 2: \"Monthly Power Peak\", 3: \"Yearly Power Peak\", 4: \"Capacity Tariff\"}\n",
    "# Customer Groups\n",
    "consumers = [\"Inflexible\", \"PV Owners\", \"EV Owners\", \"PV plus Battery\", \"EV, PV, Battery\"]"
   ]
  },
  {
   "cell_type": "code",
   "execution_count": 28,
   "id": "5af491ba",
   "metadata": {},
   "outputs": [],
   "source": [
    "tmp = sns.color_palette(\"Paired\")\n",
    "colors = [tmp[1], tmp[6], tmp[5], \"k\"]\n",
    "markers = [\"o\", \"v\", \"d\", \"*\"]\n",
    "colors[0] = tuple((color*0.8 for color in colors[0]))"
   ]
  },
  {
   "cell_type": "code",
   "execution_count": 29,
   "id": "fe4fb7d9",
   "metadata": {},
   "outputs": [
    {
     "data": {
      "text/plain": [
       "(0.09725490196078432, 0.3764705882352941, 0.5647058823529413)"
      ]
     },
     "execution_count": 29,
     "metadata": {},
     "output_type": "execute_result"
    }
   ],
   "source": [
    "colors[0]"
   ]
  },
  {
   "cell_type": "code",
   "execution_count": 30,
   "id": "b3821fa0",
   "metadata": {},
   "outputs": [
    {
     "data": {
      "image/png": "[encoded data removed]",
      "text/plain": [
       "<Figure size 396x180 with 2 Axes>"
      ]
     },
     "metadata": {
      "needs_background": "light"
     },
     "output_type": "display_data"
    }
   ],
   "source": [
    "# calculate division into usage- and capacity-related costs\n",
    "cost_contribution_ur = pd.read_csv(\"data/cost_contribution_ur.csv\", index_col=0,\n",
    "                                   dtype={0: int})\n",
    "cost_contribution_ur.columns = cost_contribution_ur.columns.astype(int)\n",
    "cost_contribution_cr = 1 - cost_contribution_ur\n",
    "cost_contribution_ur.rename(index=scenario_names, columns=alternative_names)\n",
    "fig, axes = plt.subplots(1, 2, figsize=(5.5, 2.5))\n",
    "correlation = pd.DataFrame(columns=alternatives)\n",
    "slope = pd.DataFrame(columns=alternatives)\n",
    "for alternative in range(1, nr_alternatives + 1):\n",
    "    for idx, scenario in enumerate(scenarios):\n",
    "        tmp = dt[(dt['Scenario'] == scenario) & (dt['Alternative'] == alternative)]\n",
    "        cost_share = tmp[\"Cost Share\"].values/100\n",
    "        peak_share = tmp['Peak Share'].values/100\n",
    "        capacity_share = tmp['Capacity Share'].values/100\n",
    "        # scale to costs, Eq. (8)\n",
    "        peak_share_scaled = \\\n",
    "            cost_contribution_ur.loc[scenario, alternative] * peak_share\n",
    "        # scale to costs, Eq. (9)\n",
    "        capacity_share_scaled = \\\n",
    "            cost_contribution_cr.loc[scenario, alternative] * capacity_share\n",
    "        # extract correlation, Eq.()\n",
    "        correlation.loc[scenario, alternative] = \\\n",
    "            np.corrcoef(cost_share, peak_share_scaled + capacity_share_scaled)[0, 1]\n",
    "        # extract slope, Eq. () Todo: is a slope > 1 bad? Punishment too high then\n",
    "        beta_1 = np.polyfit(cost_share, peak_share_scaled + capacity_share_scaled, 1)[0]\n",
    "        slope.loc[scenario, alternative] = 1 - abs(1-beta_1)\n",
    "        # Plot scatters\n",
    "        plot_df = pd.DataFrame()\n",
    "        y = \"Cost Share\"\n",
    "        x = \"Cost Contribution\"\n",
    "        plot_df[y] = cost_share\n",
    "        plot_df[x] = peak_share_scaled + capacity_share_scaled\n",
    "        plot_df.plot.scatter(x=x, y=y, ax=axes[idx], label=alternative_names[alternative], \n",
    "                             color=colors[alternative-1], marker=markers[alternative-1])\n",
    "        if idx == 1:\n",
    "            axes[idx].set_ylabel(\"\")\n",
    "            axes[idx].set_yticklabels(\"\")\n",
    "        \n",
    "# add reference line with slope = 1\n",
    "plot_df = pd.DataFrame()\n",
    "plot_df[\"Perfect Reflection\"] = [0, 1]\n",
    "for idx, scenario in enumerate(scenarios):\n",
    "    plot_df.plot(ax=axes[idx], color=\"gray\", linestyle=\"--\")\n",
    "    axes[idx].set_title(scenario_names_full[scenario])\n",
    "    axes[idx].legend().remove()\n",
    "plt.tight_layout()\n",
    "plt.legend(ncols=3, loc=\"lower center\", bbox_to_anchor=(-0.12,-0.6))\n",
    "if save_fig:\n",
    "    plt.savefig('results/plots/indicators_roc.pdf', bbox_inches='tight')"
   ]
  },
  {
   "cell_type": "code",
   "execution_count": 31,
   "id": "915e330f",
   "metadata": {},
   "outputs": [
    {
     "data": {
      "image/png": "[encoded data removed]",
      "text/plain": [
       "<Figure size 396x342 with 4 Axes>"
      ]
     },
     "metadata": {
      "needs_background": "light"
     },
     "output_type": "display_data"
    }
   ],
   "source": [
    "xlim = (0, 1.0)\n",
    "ylim = (-0.55,1.55)\n",
    "bar_width = 0.8\n",
    "plot_values = True\n",
    "fig, axes = plt.subplots(2,2, figsize=(5.5, 4.75))\n",
    "# Reduction of usage-related costs - using \"Simultaneous Peak\"\n",
    "ax = axes[0,0]\n",
    "plot_indicator_horizontal(\"Indicator reduction of\\nusage-related costs $\\,UCR$\", \"get_reduction_of_usage_related_costs\", \n",
    "               ax, xlim=xlim, ylim=ylim, plot_values=plot_values)\n",
    "# Reduction of capacity-related costs - using \"Contracted Capacity\"\n",
    "ax = axes[0,1]\n",
    "plot_indicator_horizontal(\"Indicator reduction of\\ncapacity-related costs $\\,CCR$\", \"get_reduction_of_capacity_related_costs\", \n",
    "               ax, xlim=xlim, ylim=ylim, plot_values=plot_values, ylabel=[])\n",
    "# Plot correlation\n",
    "ax = axes[1,0]\n",
    "plot_values_horizontal(correlation, \"Correlation indicator for\\nreflection of costs $ROC^{corr}$\", \n",
    "                       ax, xlim, ylim, plot_values, bar_width)\n",
    "# Plot slope\n",
    "ax = axes[1,1]\n",
    "plot_values_horizontal(slope, \"Slope indicator for re-\\nflection of costs $ROC^{slope}$\", \n",
    "                       ax, xlim, ylim, plot_values, bar_width, [])\n",
    "plt.tight_layout()\n",
    "plt.legend(ncols=2, loc=\"lower center\", bbox_to_anchor=(-0.05,-0.35))\n",
    "\n",
    "if save_fig:\n",
    "    plt.savefig('results/plots/indicators_efficient_grid_horizontal.pdf', bbox_inches='tight')"
   ]
  },
  {
   "cell_type": "code",
   "execution_count": 32,
   "id": "17de3a30",
   "metadata": {},
   "outputs": [
    {
     "data": {
      "image/png": "[encoded data removed]",
      "text/plain": [
       "<Figure size 396x180 with 2 Axes>"
      ]
     },
     "metadata": {
      "needs_background": "light"
     },
     "output_type": "display_data"
    }
   ],
   "source": [
    "xlim = None\n",
    "ylim = (-0.55,1.55)\n",
    "bar_width = 0.8\n",
    "plot_values = True\n",
    "# plot cost-driving factors\n",
    "fig, axes = plt.subplots(1,2, figsize=(5.5, 2.5))\n",
    "peak = pd.DataFrame(columns=alternatives)\n",
    "capacity = pd.DataFrame(columns=alternatives)\n",
    "for idx, scenario in enumerate(scenarios):\n",
    "    for alternative in range(1, nr_alternatives + 1):\n",
    "        peak.loc[scenario, alternative] = dt[(dt['Scenario'] == scenario) &\n",
    "                      (dt['Alternative'] == alternative)]['Simultaneous Peak'].sum()\n",
    "        capacity.loc[scenario, alternative] = \\\n",
    "                dt[(dt['Scenario'] == scenario) &\n",
    "                   (dt['Alternative'] == alternative)]['Contracted Capacity'].sum()\n",
    "# usage-related\n",
    "ax=axes[0]\n",
    "plot_values_horizontal(peak.divide(1e3), \"Aggregated peak\\n$P^{peak}$ [MW]\", \n",
    "                       ax, xlim, ylim, plot_values, bar_width)\n",
    "# capacity-related\n",
    "ax=axes[1]\n",
    "plot_values_horizontal(capacity.divide(1e3), \"Aggregated contracted\\ncapacity $CC$ [MW]\", \n",
    "                       ax, xlim, ylim, plot_values, bar_width, [])\n",
    "plt.tight_layout()\n",
    "plt.legend(ncols=2, loc=\"lower center\", bbox_to_anchor=(-0.05,-0.35))\n",
    "if save_fig:\n",
    "    plt.savefig('results/plots/indicators_cost_driving_factors_horizontal.pdf', bbox_inches='tight')"
   ]
  },
  {
   "cell_type": "code",
   "execution_count": 33,
   "id": "aa06cfb0",
   "metadata": {},
   "outputs": [],
   "source": [
    "rename_dict_der_horizontal = {\n",
    "    \"PV\": \"PV\",\n",
    "    \"PV_BESS\": \"PV \\&\\nBattery\",\n",
    "    \"EV_PV\": \"PV\",\n",
    "    \"EV_PV_BESS\": \"PV \\&\\nBattery\",\n",
    "}"
   ]
  },
  {
   "cell_type": "code",
   "execution_count": 34,
   "id": "a1c96d0c",
   "metadata": {},
   "outputs": [
    {
     "data": {
      "image/png": "[encoded data removed]",
      "text/plain": [
       "<Figure size 396x180 with 2 Axes>"
      ]
     },
     "metadata": {
      "needs_background": "light"
     },
     "output_type": "display_data"
    }
   ],
   "source": [
    "xlim = None\n",
    "ylim = (-0.55,1.55)\n",
    "bar_width = 0.8\n",
    "plot_values = True\n",
    "# plot cost-driving factors\n",
    "fig, axes = plt.subplots(1,2, figsize=(5.5, 2.5))\n",
    "# new calculations\n",
    "tmp = pd.read_csv(\"data/pv_cost_reduction.csv\", index_col=0).rename(columns={\n",
    "    \"VT\": \"Volumetric Tariff\", \"MPT\": \"Monthly Power Peak\", \"YPT\": \"Yearly Power Peak\", \"CT\": \"Capacity Tariff\"})\n",
    "\n",
    "ax=axes[0]\n",
    "plot_values_horizontal(tmp.loc[[\"PV\",\"PV_BESS\"]].rename(rename_dict_der_horizontal), \n",
    "                       \"Relative costs after purchasing\\nDERs for inflex. consumers $\\,cr_{CG1}^{der}$\", \n",
    "                       ax, xlim, ylim, plot_values, bar_width)\n",
    "ax=axes[1]\n",
    "plot_values_horizontal(tmp.loc[[\"EV_PV\",\"EV_PV_BESS\"]].rename(rename_dict_der_horizontal), \n",
    "                       \"Relative costs after purchasing\\nDERs for EV owners $\\,cr_{CG2}^{der}$\", \n",
    "                       ax, xlim, ylim, plot_values, bar_width, [])\n",
    "plt.tight_layout()\n",
    "plt.legend(ncols=2, loc=\"lower center\", bbox_to_anchor=(-0.05,-0.35))\n",
    "if save_fig:\n",
    "    plt.savefig('results/plots/indicators_pv_reduction_horizontal.pdf', bbox_inches='tight')"
   ]
  },
  {
   "cell_type": "code",
   "execution_count": 35,
   "id": "c37e5ecc",
   "metadata": {},
   "outputs": [
    {
     "data": {
      "image/png": "[encoded data removed]",
      "text/plain": [
       "<Figure size 396x180 with 2 Axes>"
      ]
     },
     "metadata": {
      "needs_background": "light"
     },
     "output_type": "display_data"
    }
   ],
   "source": [
    "# calculate division into usage- and capacity-related costs\n",
    "cost_contribution_ur = pd.read_csv(\"data/cost_contribution_ur.csv\", index_col=0,\n",
    "                                   dtype={0: int})\n",
    "cost_contribution_ur.columns = cost_contribution_ur.columns.astype(int)\n",
    "cost_contribution_cr = 1 - cost_contribution_ur\n",
    "cost_contribution_ur.rename(index=scenario_names, columns=alternative_names)\n",
    "fig, axes = plt.subplots(1, 2, figsize=(5.5, 2.5))\n",
    "correlation = pd.DataFrame(columns=alternatives)\n",
    "slope = pd.DataFrame(columns=alternatives)\n",
    "for alternative in range(1, nr_alternatives + 1):\n",
    "    for idx, scenario in enumerate(scenarios):\n",
    "        tmp = dt[(dt['Scenario'] == scenario) & (dt['Alternative'] == alternative)]\n",
    "        cost_share = tmp[\"Cost Share\"].values/100\n",
    "        energy_share = tmp['Energy Share'].values/100\n",
    "        # extract correlation, Eq.()\n",
    "        correlation.loc[scenario, alternative] = \\\n",
    "            np.corrcoef(cost_share, energy_share)[0, 1]\n",
    "        # extract slope, Eq. () Todo: is a slope > 1 bad? Punishment too high then\n",
    "        beta_3 = np.polyfit(cost_share, energy_share, 1)[0]\n",
    "        slope.loc[scenario, alternative] = 1 - abs(1 - beta_3)\n",
    "        # Plot scatters\n",
    "        plot_df = pd.DataFrame()\n",
    "        y = \"Cost Share\"\n",
    "        x = \"Electricity Share\"\n",
    "        plot_df[y] = cost_share\n",
    "        plot_df[x] = energy_share\n",
    "        plot_df.plot.scatter(x=x, y=y, ax=axes[idx], label=alternative_names[alternative], \n",
    "                             color=colors[alternative-1], marker=markers[alternative-1])\n",
    "        if idx == 1:\n",
    "            axes[idx].set_ylabel(\"\")\n",
    "            axes[idx].set_yticklabels(\"\")\n",
    "        \n",
    "# add reference line with slope = 1\n",
    "plot_df = pd.DataFrame()\n",
    "plot_df[\"Perfect Reflection\"] = [0, 1]\n",
    "for idx, scenario in enumerate(scenarios):\n",
    "    plot_df.plot(ax=axes[idx], color=\"gray\", linestyle=\"--\")\n",
    "    axes[idx].set_title(scenario_names_full[scenario])\n",
    "    axes[idx].legend().remove()\n",
    "plt.tight_layout()\n",
    "plt.legend(ncols=3, loc=\"lower center\", bbox_to_anchor=(-0.12,-0.6))\n",
    "if save_fig:\n",
    "    plt.savefig('results/plots/indicators_roe.pdf', bbox_inches='tight')"
   ]
  },
  {
   "cell_type": "code",
   "execution_count": 36,
   "id": "f907a339",
   "metadata": {},
   "outputs": [
    {
     "data": {
      "image/png": "[encoded data removed]",
      "text/plain": [
       "<Figure size 396x342 with 3 Axes>"
      ]
     },
     "metadata": {
      "needs_background": "light"
     },
     "output_type": "display_data"
    }
   ],
   "source": [
    "xlim = (0, 1.0)\n",
    "ylim = (-0.55,1.55)\n",
    "bar_width = 0.8\n",
    "plot_values = True\n",
    "fig, axes = plt.subplots(2,2, figsize=(5.5, 4.75))\n",
    "# Efficient use of electricity\n",
    "ax = axes[0,0]\n",
    "plot_indicator_horizontal(\"Indicator for reduction of\\npurchased electricity $PER$\", \"get_reduction_of_purchased_electricity\", \n",
    "               ax, xlim=xlim, ylim=ylim, plot_values=plot_values)\n",
    "fig.delaxes(axes[0,1])\n",
    "# Plot correlation\n",
    "ax = axes[1,0]\n",
    "plot_values_horizontal(correlation, \"Correlation indicator for re-\\nflection of electricity $ROE^{corr}$\", \n",
    "                       ax, xlim, ylim, plot_values, bar_width)\n",
    "# Plot slope\n",
    "ax = axes[1,1]\n",
    "plot_values_horizontal(slope, \"Slope indicator for reflec-\\ntion of electricity $ROE^{slope}$\", \n",
    "                       ax, xlim, ylim, plot_values, bar_width, [])\n",
    "\n",
    "plt.tight_layout()\n",
    "plt.legend(ncols=1, loc=\"lower center\", bbox_to_anchor=(0.5,1.5))\n",
    "if save_fig:\n",
    "    plt.savefig('results/plots/indicators_efficient_electricity_usage_horizontal.pdf', bbox_inches='tight')"
   ]
  },
  {
   "cell_type": "markdown",
   "id": "28400209",
   "metadata": {},
   "source": [
    "## Overall Ranking"
   ]
  },
  {
   "cell_type": "code",
   "execution_count": 37,
   "id": "367868ed",
   "metadata": {},
   "outputs": [],
   "source": [
    "scenario_names = {\n",
    "    'Scenario 1': \"Scenario 1: High Inflexibility\",\n",
    "    'Scenario 2': \"Scenario 2: Increase in Peak-Consumption\",\n",
    "    'Scenario 3': \"Scenario 3: Increase in Local Production\", \n",
    "    'Scenario 4': \"Scenario 4: High Flexibility\"\n",
    "}"
   ]
  },
  {
   "cell_type": "code",
   "execution_count": 38,
   "id": "32be577a",
   "metadata": {},
   "outputs": [],
   "source": [
    "scenario_names_reduced = {\n",
    "    'Scenario 1': \"Scenario 1: Low Flexibility\",\n",
    "    'Scenario 4': \"Scenario 2: High Flexibility\"\n",
    "}"
   ]
  },
  {
   "cell_type": "code",
   "execution_count": 39,
   "id": "aecc2594",
   "metadata": {},
   "outputs": [],
   "source": [
    "results = {}\n",
    "scenarios = ['Scenario 1', 'Scenario 2', 'Scenario 3', 'Scenario 4']\n",
    "tmp = pd.read_csv(f\"results/end_rating.csv\", index_col=0)\n",
    "tmp=tmp.set_index(\"Network Tariff\")\n",
    "for scenario in scenarios:\n",
    "    results[scenario] = tmp.loc[tmp.Scenario==scenario].T.drop(\"Scenario\")"
   ]
  },
  {
   "cell_type": "code",
   "execution_count": 40,
   "id": "1f263b75",
   "metadata": {},
   "outputs": [
    {
     "data": {
      "text/html": [
       "<div>\n",
       "<style scoped>\n",
       "    .dataframe tbody tr th:only-of-type {\n",
       "        vertical-align: middle;\n",
       "    }\n",
       "\n",
       "    .dataframe tbody tr th {\n",
       "        vertical-align: top;\n",
       "    }\n",
       "\n",
       "    .dataframe thead th {\n",
       "        text-align: right;\n",
       "    }\n",
       "</style>\n",
       "<table border=\"1\" class=\"dataframe\">\n",
       "  <thead>\n",
       "    <tr style=\"text-align: right;\">\n",
       "      <th>Network Tariff</th>\n",
       "      <th>Volumetric Tariff</th>\n",
       "      <th>Monthly Power Peak</th>\n",
       "      <th>Yearly Power Peak</th>\n",
       "      <th>Capacity Tariff</th>\n",
       "    </tr>\n",
       "  </thead>\n",
       "  <tbody>\n",
       "    <tr>\n",
       "      <th>Equal Weights</th>\n",
       "      <td>0.659855</td>\n",
       "      <td>0.800319</td>\n",
       "      <td>0.78636</td>\n",
       "      <td>0.779498</td>\n",
       "    </tr>\n",
       "    <tr>\n",
       "      <th>Authority</th>\n",
       "      <td>0.632404</td>\n",
       "      <td>0.823969</td>\n",
       "      <td>0.829722</td>\n",
       "      <td>0.815873</td>\n",
       "    </tr>\n",
       "    <tr>\n",
       "      <th>Politics</th>\n",
       "      <td>0.673718</td>\n",
       "      <td>0.798009</td>\n",
       "      <td>0.766286</td>\n",
       "      <td>0.759488</td>\n",
       "    </tr>\n",
       "    <tr>\n",
       "      <th>Third Party</th>\n",
       "      <td>0.677179</td>\n",
       "      <td>0.763898</td>\n",
       "      <td>0.767842</td>\n",
       "      <td>0.745667</td>\n",
       "    </tr>\n",
       "    <tr>\n",
       "      <th>DSO</th>\n",
       "      <td>0.626723</td>\n",
       "      <td>0.832971</td>\n",
       "      <td>0.839158</td>\n",
       "      <td>0.823057</td>\n",
       "    </tr>\n",
       "    <tr>\n",
       "      <th>Regulator</th>\n",
       "      <td>0.629012</td>\n",
       "      <td>0.829619</td>\n",
       "      <td>0.837032</td>\n",
       "      <td>0.818288</td>\n",
       "    </tr>\n",
       "  </tbody>\n",
       "</table>\n",
       "</div>"
      ],
      "text/plain": [
       "Network Tariff Volumetric Tariff Monthly Power Peak Yearly Power Peak  \\\n",
       "Equal Weights           0.659855           0.800319           0.78636   \n",
       "Authority               0.632404           0.823969          0.829722   \n",
       "Politics                0.673718           0.798009          0.766286   \n",
       "Third Party             0.677179           0.763898          0.767842   \n",
       "DSO                     0.626723           0.832971          0.839158   \n",
       "Regulator               0.629012           0.829619          0.837032   \n",
       "\n",
       "Network Tariff Capacity Tariff  \n",
       "Equal Weights         0.779498  \n",
       "Authority             0.815873  \n",
       "Politics              0.759488  \n",
       "Third Party           0.745667  \n",
       "DSO                   0.823057  \n",
       "Regulator             0.818288  "
      ]
     },
     "execution_count": 40,
     "metadata": {},
     "output_type": "execute_result"
    }
   ],
   "source": [
    "results[scenario]"
   ]
  },
  {
   "cell_type": "code",
   "execution_count": 41,
   "id": "6d1c2911",
   "metadata": {},
   "outputs": [],
   "source": [
    "tmp = sns.color_palette(\"Paired\")\n",
    "colors = [tmp[1], tmp[6], tmp[5], \"k\"]\n",
    "colors[0] = tuple((color*0.8 for color in colors[0]))"
   ]
  },
  {
   "cell_type": "code",
   "execution_count": 42,
   "id": "0cb5c5bf",
   "metadata": {},
   "outputs": [
    {
     "data": {
      "image/png": "[encoded data removed]",
      "text/plain": [
       "<Figure size 396x396 with 4 Axes>"
      ]
     },
     "metadata": {
      "needs_background": "light"
     },
     "output_type": "display_data"
    }
   ],
   "source": [
    "fig, axes = plt.subplots(4, figsize=(5.5, 5.5))\n",
    "for idx, ax in enumerate(axes):\n",
    "    results[scenarios[idx]].plot.bar(color=colors, width=0.8, ax=ax)\n",
    "    ax.legend().remove()\n",
    "    if idx==3:\n",
    "        ax.set_xticklabels(ax.get_xticklabels(), rotation=0)\n",
    "    else:\n",
    "        ax.set_xticklabels([])\n",
    "    ax.set_title(scenario_names[scenarios[idx]])\n",
    "    ax.set_ylim((0,1))\n",
    "plt.tight_layout()\n",
    "plt.legend(ncols=2, loc=\"lower center\", bbox_to_anchor=(0.475,-1.45))\n",
    "if save_fig:\n",
    "    plt.savefig('results/plots/ranking.pdf', bbox_inches='tight')"
   ]
  },
  {
   "cell_type": "code",
   "execution_count": 43,
   "id": "f15f9858",
   "metadata": {},
   "outputs": [
    {
     "data": {
      "image/png": "[encoded data removed]",
      "text/plain": [
       "<Figure size 396x396 with 2 Axes>"
      ]
     },
     "metadata": {
      "needs_background": "light"
     },
     "output_type": "display_data"
    }
   ],
   "source": [
    "rename_dict = {\n",
    "    \"Equal Weights\": \"Equal\\nWeights\",\n",
    "    \"Third Party\": \"Third\\nParty\"\n",
    "}\n",
    "scaling_value = 0.5\n",
    "xlim = (0, 0.75)\n",
    "ylim = None\n",
    "bar_width = 0.8\n",
    "fig, axes = plt.subplots(1,2, figsize=(5.5, 5.5))\n",
    "ylabels = [None, []]\n",
    "for idx, scenario in enumerate([\"Scenario 1\", \"Scenario 4\"]):\n",
    "    ax=axes[idx]\n",
    "    scaling = scaling_value/results[scenario][\"Volumetric Tariff\"]\n",
    "    plot_values_horizontal(results[scenario].T.multiply(scaling).T.rename(rename_dict), \n",
    "                           \"Final Rating $I_{NW}$\"+f\" for\\n{scenario_names_reduced[scenario]}\", \n",
    "                       ax, xlim, ylim, plot_values, bar_width, ylabels[idx])\n",
    "plt.tight_layout()\n",
    "plt.legend(ncols=2, loc=\"lower center\", bbox_to_anchor=(0.,-0.125))\n",
    "if save_fig:\n",
    "    plt.savefig('results/plots/ranking_reduced_scaled_horizontal.pdf', bbox_inches='tight')"
   ]
  },
  {
   "cell_type": "code",
   "execution_count": 44,
   "id": "9adb3a3f",
   "metadata": {},
   "outputs": [],
   "source": [
    "tmp = results[\"Scenario 1\"]\n",
    "for col in tmp.columns:\n",
    "    tmp[col] = pd.to_numeric(tmp[col])"
   ]
  },
  {
   "cell_type": "code",
   "execution_count": 45,
   "id": "9f3ae982",
   "metadata": {},
   "outputs": [
    {
     "data": {
      "text/plain": [
       "Equal Weights    Monthly Power Peak\n",
       "Authority         Yearly Power Peak\n",
       "Politics         Monthly Power Peak\n",
       "Third Party      Monthly Power Peak\n",
       "DSO               Yearly Power Peak\n",
       "Regulator         Yearly Power Peak\n",
       "dtype: object"
      ]
     },
     "execution_count": 45,
     "metadata": {},
     "output_type": "execute_result"
    }
   ],
   "source": [
    "tmp.idxmax(axis=1)"
   ]
  },
  {
   "cell_type": "code",
   "execution_count": 46,
   "id": "74e6f954",
   "metadata": {},
   "outputs": [
    {
     "data": {
      "text/plain": [
       "Equal Weights      Capacity Tariff\n",
       "Authority        Volumetric Tariff\n",
       "Politics           Capacity Tariff\n",
       "Third Party        Capacity Tariff\n",
       "DSO              Volumetric Tariff\n",
       "Regulator        Volumetric Tariff\n",
       "dtype: object"
      ]
     },
     "execution_count": 46,
     "metadata": {},
     "output_type": "execute_result"
    }
   ],
   "source": [
    "tmp.idxmin(axis=1)"
   ]
  },
  {
   "cell_type": "code",
   "execution_count": 47,
   "id": "ef7e7134",
   "metadata": {},
   "outputs": [],
   "source": [
    "tmp = results[\"Scenario 4\"]\n",
    "for col in tmp.columns:\n",
    "    tmp[col] = pd.to_numeric(tmp[col])"
   ]
  },
  {
   "cell_type": "code",
   "execution_count": 48,
   "id": "754f5480",
   "metadata": {},
   "outputs": [
    {
     "data": {
      "text/plain": [
       "Equal Weights    Monthly Power Peak\n",
       "Authority         Yearly Power Peak\n",
       "Politics         Monthly Power Peak\n",
       "Third Party       Yearly Power Peak\n",
       "DSO               Yearly Power Peak\n",
       "Regulator         Yearly Power Peak\n",
       "dtype: object"
      ]
     },
     "execution_count": 48,
     "metadata": {},
     "output_type": "execute_result"
    }
   ],
   "source": [
    "tmp.idxmax(axis=1)"
   ]
  },
  {
   "cell_type": "code",
   "execution_count": 49,
   "id": "b032d957",
   "metadata": {},
   "outputs": [
    {
     "data": {
      "text/plain": [
       "Equal Weights    Volumetric Tariff\n",
       "Authority        Volumetric Tariff\n",
       "Politics         Volumetric Tariff\n",
       "Third Party      Volumetric Tariff\n",
       "DSO              Volumetric Tariff\n",
       "Regulator        Volumetric Tariff\n",
       "dtype: object"
      ]
     },
     "execution_count": 49,
     "metadata": {},
     "output_type": "execute_result"
    }
   ],
   "source": [
    "tmp.idxmin(axis=1)"
   ]
  },
  {
   "cell_type": "code",
   "execution_count": null,
   "id": "84890825",
   "metadata": {},
   "outputs": [],
   "source": []
  }
 ],
 "metadata": {
  "kernelspec": {
   "display_name": "Python 3",
   "language": "python",
   "name": "python3"
  },
  "language_info": {
   "codemirror_mode": {
    "name": "ipython",
    "version": 3
   },
   "file_extension": ".py",
   "mimetype": "text/x-python",
   "name": "python",
   "nbconvert_exporter": "python",
   "pygments_lexer": "ipython3",
   "version": "3.8.8"
  }
 },
 "nbformat": 4,
 "nbformat_minor": 5
}
