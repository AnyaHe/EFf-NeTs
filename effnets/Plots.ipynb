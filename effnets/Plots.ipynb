{
 "cells": [
  {
   "cell_type": "markdown",
   "id": "1ce929ce",
   "metadata": {},
   "source": [
    "# Plots for Paper"
   ]
  },
  {
   "cell_type": "code",
   "execution_count": 1,
   "id": "3c6f5486",
   "metadata": {},
   "outputs": [
    {
     "name": "stderr",
     "output_type": "stream",
     "text": [
      "C:\\APPS\\Anaconda3\\lib\\site-packages\\numpy\\_distributor_init.py:30: UserWarning: loaded more than 1 DLL from .libs:\n",
      "C:\\APPS\\Anaconda3\\lib\\site-packages\\numpy\\.libs\\libopenblas.PYQHXLVVQ7VESDPUVUADXEVJOBGHJPAY.gfortran-win_amd64.dll\n",
      "C:\\APPS\\Anaconda3\\lib\\site-packages\\numpy\\.libs\\libopenblas64__v0.3.21-gcc_10_3_0.dll\n",
      "  warnings.warn(\"loaded more than 1 DLL from .libs:\"\n"
     ]
    }
   ],
   "source": [
    "import pandas as pd\n",
    "import seaborn as sns\n",
    "import matplotlib.pyplot as plt"
   ]
  },
  {
   "cell_type": "code",
   "execution_count": 2,
   "id": "ae409d05",
   "metadata": {},
   "outputs": [],
   "source": [
    "from matplotlib import rc\n",
    "#rc('font',**{'family':'sans-serif','sans-serif':['Helvetica']})\n",
    "rc('font',**{'family':'serif','serif':['Times'], 'size':12})\n",
    "rc('text', usetex=True)\n",
    "import sys \n",
    "sys.path.append(\"C:/APPS/MiKTeX/21.7/fonts/source/public/rsfs\")"
   ]
  },
  {
   "cell_type": "code",
   "execution_count": 3,
   "id": "f6e376dc",
   "metadata": {},
   "outputs": [],
   "source": [
    "def change_width(ax, new_value) :\n",
    "    for patch in ax.patches :\n",
    "        current_width = patch.get_width()\n",
    "        diff = current_width - new_value\n",
    "\n",
    "        # we change the bar width\n",
    "        patch.set_width(new_value)\n",
    "\n",
    "        # we recenter the bar\n",
    "        patch.set_x(patch.get_x() + diff * .5)"
   ]
  },
  {
   "cell_type": "code",
   "execution_count": 4,
   "id": "bb6af2a3",
   "metadata": {},
   "outputs": [
    {
     "data": {
      "text/html": [
       "<svg  width=\"660\" height=\"55\"><rect x=\"0\" y=\"0\" width=\"55\" height=\"55\" style=\"fill:#a6cee3;stroke-width:2;stroke:rgb(255,255,255)\"/><rect x=\"55\" y=\"0\" width=\"55\" height=\"55\" style=\"fill:#1f78b4;stroke-width:2;stroke:rgb(255,255,255)\"/><rect x=\"110\" y=\"0\" width=\"55\" height=\"55\" style=\"fill:#b2df8a;stroke-width:2;stroke:rgb(255,255,255)\"/><rect x=\"165\" y=\"0\" width=\"55\" height=\"55\" style=\"fill:#33a02c;stroke-width:2;stroke:rgb(255,255,255)\"/><rect x=\"220\" y=\"0\" width=\"55\" height=\"55\" style=\"fill:#fb9a99;stroke-width:2;stroke:rgb(255,255,255)\"/><rect x=\"275\" y=\"0\" width=\"55\" height=\"55\" style=\"fill:#e31a1c;stroke-width:2;stroke:rgb(255,255,255)\"/><rect x=\"330\" y=\"0\" width=\"55\" height=\"55\" style=\"fill:#fdbf6f;stroke-width:2;stroke:rgb(255,255,255)\"/><rect x=\"385\" y=\"0\" width=\"55\" height=\"55\" style=\"fill:#ff7f00;stroke-width:2;stroke:rgb(255,255,255)\"/><rect x=\"440\" y=\"0\" width=\"55\" height=\"55\" style=\"fill:#cab2d6;stroke-width:2;stroke:rgb(255,255,255)\"/><rect x=\"495\" y=\"0\" width=\"55\" height=\"55\" style=\"fill:#6a3d9a;stroke-width:2;stroke:rgb(255,255,255)\"/><rect x=\"550\" y=\"0\" width=\"55\" height=\"55\" style=\"fill:#ffff99;stroke-width:2;stroke:rgb(255,255,255)\"/><rect x=\"605\" y=\"0\" width=\"55\" height=\"55\" style=\"fill:#b15928;stroke-width:2;stroke:rgb(255,255,255)\"/></svg>"
      ],
      "text/plain": [
       "[(0.6509803921568628, 0.807843137254902, 0.8901960784313725),\n",
       " (0.12156862745098039, 0.47058823529411764, 0.7058823529411765),\n",
       " (0.6980392156862745, 0.8745098039215686, 0.5411764705882353),\n",
       " (0.2, 0.6274509803921569, 0.17254901960784313),\n",
       " (0.984313725490196, 0.6039215686274509, 0.6),\n",
       " (0.8901960784313725, 0.10196078431372549, 0.10980392156862745),\n",
       " (0.9921568627450981, 0.7490196078431373, 0.43529411764705883),\n",
       " (1.0, 0.4980392156862745, 0.0),\n",
       " (0.792156862745098, 0.6980392156862745, 0.8392156862745098),\n",
       " (0.41568627450980394, 0.23921568627450981, 0.6039215686274509),\n",
       " (1.0, 1.0, 0.6),\n",
       " (0.6941176470588235, 0.34901960784313724, 0.1568627450980392)]"
      ]
     },
     "execution_count": 4,
     "metadata": {},
     "output_type": "execute_result"
    }
   ],
   "source": [
    "sns.color_palette(\"Paired\")"
   ]
  },
  {
   "cell_type": "markdown",
   "id": "86d09bc5",
   "metadata": {},
   "source": [
    "## Weighting"
   ]
  },
  {
   "cell_type": "code",
   "execution_count": 32,
   "id": "930ebc7e",
   "metadata": {},
   "outputs": [
    {
     "data": {
      "text/html": [
       "<div>\n",
       "<style scoped>\n",
       "    .dataframe tbody tr th:only-of-type {\n",
       "        vertical-align: middle;\n",
       "    }\n",
       "\n",
       "    .dataframe tbody tr th {\n",
       "        vertical-align: top;\n",
       "    }\n",
       "\n",
       "    .dataframe thead th {\n",
       "        text-align: right;\n",
       "    }\n",
       "</style>\n",
       "<table border=\"1\" class=\"dataframe\">\n",
       "  <thead>\n",
       "    <tr style=\"text-align: right;\">\n",
       "      <th></th>\n",
       "      <th>Efficient Grid</th>\n",
       "      <th>Fairness and Customer Acceptance</th>\n",
       "      <th>Expansion of DER</th>\n",
       "      <th>Efficient Electricity Usage</th>\n",
       "    </tr>\n",
       "    <tr>\n",
       "      <th>Stakeholder</th>\n",
       "      <th></th>\n",
       "      <th></th>\n",
       "      <th></th>\n",
       "      <th></th>\n",
       "    </tr>\n",
       "  </thead>\n",
       "  <tbody>\n",
       "    <tr>\n",
       "      <th>DSO</th>\n",
       "      <td>0.785391</td>\n",
       "      <td>0.148815</td>\n",
       "      <td>0.032897</td>\n",
       "      <td>0.032897</td>\n",
       "    </tr>\n",
       "    <tr>\n",
       "      <th>Authority</th>\n",
       "      <td>0.728584</td>\n",
       "      <td>0.162579</td>\n",
       "      <td>0.021767</td>\n",
       "      <td>0.087069</td>\n",
       "    </tr>\n",
       "    <tr>\n",
       "      <th>Regulator</th>\n",
       "      <td>0.795863</td>\n",
       "      <td>0.121149</td>\n",
       "      <td>0.041494</td>\n",
       "      <td>0.041494</td>\n",
       "    </tr>\n",
       "    <tr>\n",
       "      <th>Politics</th>\n",
       "      <td>0.090909</td>\n",
       "      <td>0.454545</td>\n",
       "      <td>0.340909</td>\n",
       "      <td>0.113636</td>\n",
       "    </tr>\n",
       "    <tr>\n",
       "      <th>Third Party</th>\n",
       "      <td>0.454545</td>\n",
       "      <td>0.090909</td>\n",
       "      <td>0.113636</td>\n",
       "      <td>0.340909</td>\n",
       "    </tr>\n",
       "  </tbody>\n",
       "</table>\n",
       "</div>"
      ],
      "text/plain": [
       "             Efficient Grid  Fairness and Customer Acceptance  \\\n",
       "Stakeholder                                                     \n",
       "DSO                0.785391                          0.148815   \n",
       "Authority          0.728584                          0.162579   \n",
       "Regulator          0.795863                          0.121149   \n",
       "Politics           0.090909                          0.454545   \n",
       "Third Party        0.454545                          0.090909   \n",
       "\n",
       "             Expansion of DER  Efficient Electricity Usage  \n",
       "Stakeholder                                                 \n",
       "DSO                  0.032897                     0.032897  \n",
       "Authority            0.021767                     0.087069  \n",
       "Regulator            0.041494                     0.041494  \n",
       "Politics             0.340909                     0.113636  \n",
       "Third Party          0.113636                     0.340909  "
      ]
     },
     "execution_count": 32,
     "metadata": {},
     "output_type": "execute_result"
    }
   ],
   "source": [
    "# import data for weights\n",
    "weights = pd.read_excel(\"results/weighting.xlsx\", index_col=0)\n",
    "weights"
   ]
  },
  {
   "cell_type": "code",
   "execution_count": 8,
   "id": "301123e0",
   "metadata": {},
   "outputs": [],
   "source": [
    "tmp = sns.color_palette(\"Paired\")\n",
    "colors = [tmp[5], tmp[10], tmp[2], tmp[1]]"
   ]
  },
  {
   "cell_type": "code",
   "execution_count": 11,
   "id": "62eb83d0",
   "metadata": {},
   "outputs": [
    {
     "data": {
      "image/png": "[encoded data removed]",
      "text/plain": [
       "<Figure size 396x252 with 1 Axes>"
      ]
     },
     "metadata": {
      "needs_background": "light"
     },
     "output_type": "display_data"
    }
   ],
   "source": [
    "ax = weights.multiply(100).loc[[\"Authority\", \"Politics\", \"Third Party\", \"DSO\", \"Regulator\"]].plot.bar(\n",
    "    stacked=True, color=colors, figsize=(5.5,3.5))#\n",
    "change_width(ax, 0.8)\n",
    "ax.set_xlabel(\"\")\n",
    "ax.set_xticklabels(ax.get_xticklabels(), rotation=0)\n",
    "ax.set_ylim(0,100)\n",
    "ax.set_ylabel(\"Weight [\\%]\")\n",
    "plt.legend(ncols=2, loc=\"lower center\", bbox_to_anchor=(0.45,-0.37))\n",
    "plt.savefig('results/plots/weights.pdf', bbox_inches='tight')"
   ]
  },
  {
   "cell_type": "code",
   "execution_count": 14,
   "id": "b011958f",
   "metadata": {},
   "outputs": [
    {
     "data": {
      "image/png": "[encoded data removed]",
      "text/plain": [
       "<Figure size 396x180 with 1 Axes>"
      ]
     },
     "metadata": {
      "needs_background": "light"
     },
     "output_type": "display_data"
    }
   ],
   "source": [
    "ax = weights.multiply(100).loc[[\"Authority\", \"Politics\", \"Third Party\", \"DSO\", \"Regulator\"]].plot.bar(\n",
    "    stacked=True, color=colors, figsize=(5.5,2.5))#\n",
    "change_width(ax, 0.8)\n",
    "ax.set_xlabel(\"\")\n",
    "ax.set_xticklabels(ax.get_xticklabels(), rotation=0)\n",
    "ax.set_ylim(0,100)\n",
    "ax.set_ylabel(\"Weight [\\%]\")\n",
    "plt.legend(ncols=2, loc=\"lower center\", bbox_to_anchor=(0.46,-0.45))\n",
    "plt.savefig('results/plots/weights.pdf', bbox_inches='tight')"
   ]
  },
  {
   "cell_type": "code",
   "execution_count": 9,
   "id": "e7309927",
   "metadata": {},
   "outputs": [
    {
     "data": {
      "image/png": "[encoded data removed]",
      "text/plain": [
       "<Figure size 396x180 with 1 Axes>"
      ]
     },
     "metadata": {
      "needs_background": "light"
     },
     "output_type": "display_data"
    }
   ],
   "source": [
    "ax = weights.multiply(100).loc[[\"Authority\", \"Politics\", \"Third Party\", \"DSO\", \"Regulator\"]].plot.bar(\n",
    "    stacked=True, color=colors, figsize=(5.5,2.5))#\n",
    "change_width(ax, 0.8)\n",
    "ax.set_xlabel(\"\")\n",
    "ax.set_xticklabels(ax.get_xticklabels(), rotation=0)\n",
    "ax.set_ylim(0,100)\n",
    "ax.set_ylabel(\"Weight [\\%]\")\n",
    "plt.legend(ncols=2, loc=\"lower center\", bbox_to_anchor=(0.45,-0.6))\n",
    "plt.savefig('results/plots/weights.pdf', bbox_inches='tight')"
   ]
  },
  {
   "cell_type": "markdown",
   "id": "b9d2f693",
   "metadata": {},
   "source": [
    "## Level of Fulfillment"
   ]
  },
  {
   "cell_type": "code",
   "execution_count": 14,
   "id": "96129a1b",
   "metadata": {},
   "outputs": [
    {
     "data": {
      "text/html": [
       "<div>\n",
       "<style scoped>\n",
       "    .dataframe tbody tr th:only-of-type {\n",
       "        vertical-align: middle;\n",
       "    }\n",
       "\n",
       "    .dataframe tbody tr th {\n",
       "        vertical-align: top;\n",
       "    }\n",
       "\n",
       "    .dataframe thead th {\n",
       "        text-align: right;\n",
       "    }\n",
       "</style>\n",
       "<table border=\"1\" class=\"dataframe\">\n",
       "  <thead>\n",
       "    <tr style=\"text-align: right;\">\n",
       "      <th></th>\n",
       "      <th>Volumetric Tariff</th>\n",
       "      <th>Monthly Power Peak</th>\n",
       "      <th>Yearly Power Peak</th>\n",
       "      <th>Capacity Tariff</th>\n",
       "      <th>Criteria</th>\n",
       "      <th>Scenario</th>\n",
       "    </tr>\n",
       "  </thead>\n",
       "  <tbody>\n",
       "    <tr>\n",
       "      <th>Efficient Grid</th>\n",
       "      <td>0.727145</td>\n",
       "      <td>0.741558</td>\n",
       "      <td>0.745429</td>\n",
       "      <td>0.748073</td>\n",
       "      <td>Efficient Grid</td>\n",
       "      <td>1</td>\n",
       "    </tr>\n",
       "    <tr>\n",
       "      <th>Fairness and Customer Acceptance</th>\n",
       "      <td>0.500000</td>\n",
       "      <td>0.545728</td>\n",
       "      <td>0.539677</td>\n",
       "      <td>0.535830</td>\n",
       "      <td>Fairness and Customer Acceptance</td>\n",
       "      <td>1</td>\n",
       "    </tr>\n",
       "    <tr>\n",
       "      <th>Expansion of DER</th>\n",
       "      <td>0.660894</td>\n",
       "      <td>0.512089</td>\n",
       "      <td>0.505215</td>\n",
       "      <td>0.500000</td>\n",
       "      <td>Expansion of DER</td>\n",
       "      <td>1</td>\n",
       "    </tr>\n",
       "    <tr>\n",
       "      <th>Efficient Electricity Usage</th>\n",
       "      <td>0.750000</td>\n",
       "      <td>0.721540</td>\n",
       "      <td>0.725351</td>\n",
       "      <td>0.727559</td>\n",
       "      <td>Efficient Electricity Usage</td>\n",
       "      <td>1</td>\n",
       "    </tr>\n",
       "    <tr>\n",
       "      <th>Efficient Grid</th>\n",
       "      <td>0.701414</td>\n",
       "      <td>0.723082</td>\n",
       "      <td>0.734286</td>\n",
       "      <td>0.739793</td>\n",
       "      <td>Efficient Grid</td>\n",
       "      <td>2</td>\n",
       "    </tr>\n",
       "    <tr>\n",
       "      <th>Fairness and Customer Acceptance</th>\n",
       "      <td>0.576840</td>\n",
       "      <td>0.728227</td>\n",
       "      <td>0.695446</td>\n",
       "      <td>0.676341</td>\n",
       "      <td>Fairness and Customer Acceptance</td>\n",
       "      <td>2</td>\n",
       "    </tr>\n",
       "    <tr>\n",
       "      <th>Expansion of DER</th>\n",
       "      <td>0.653122</td>\n",
       "      <td>0.510657</td>\n",
       "      <td>0.504467</td>\n",
       "      <td>0.500000</td>\n",
       "      <td>Expansion of DER</td>\n",
       "      <td>2</td>\n",
       "    </tr>\n",
       "    <tr>\n",
       "      <th>Efficient Electricity Usage</th>\n",
       "      <td>0.750000</td>\n",
       "      <td>0.686311</td>\n",
       "      <td>0.697072</td>\n",
       "      <td>0.701393</td>\n",
       "      <td>Efficient Electricity Usage</td>\n",
       "      <td>2</td>\n",
       "    </tr>\n",
       "    <tr>\n",
       "      <th>Efficient Grid</th>\n",
       "      <td>0.563843</td>\n",
       "      <td>0.733056</td>\n",
       "      <td>0.766497</td>\n",
       "      <td>0.772613</td>\n",
       "      <td>Efficient Grid</td>\n",
       "      <td>3</td>\n",
       "    </tr>\n",
       "    <tr>\n",
       "      <th>Fairness and Customer Acceptance</th>\n",
       "      <td>0.575685</td>\n",
       "      <td>0.758570</td>\n",
       "      <td>0.725463</td>\n",
       "      <td>0.739485</td>\n",
       "      <td>Fairness and Customer Acceptance</td>\n",
       "      <td>3</td>\n",
       "    </tr>\n",
       "    <tr>\n",
       "      <th>Expansion of DER</th>\n",
       "      <td>0.649696</td>\n",
       "      <td>0.510026</td>\n",
       "      <td>0.504137</td>\n",
       "      <td>0.500000</td>\n",
       "      <td>Expansion of DER</td>\n",
       "      <td>3</td>\n",
       "    </tr>\n",
       "    <tr>\n",
       "      <th>Efficient Electricity Usage</th>\n",
       "      <td>0.750000</td>\n",
       "      <td>0.656469</td>\n",
       "      <td>0.698574</td>\n",
       "      <td>0.651921</td>\n",
       "      <td>Efficient Electricity Usage</td>\n",
       "      <td>3</td>\n",
       "    </tr>\n",
       "    <tr>\n",
       "      <th>Efficient Grid</th>\n",
       "      <td>0.617336</td>\n",
       "      <td>0.842954</td>\n",
       "      <td>0.861407</td>\n",
       "      <td>0.833895</td>\n",
       "      <td>Efficient Grid</td>\n",
       "      <td>4</td>\n",
       "    </tr>\n",
       "    <tr>\n",
       "      <th>Fairness and Customer Acceptance</th>\n",
       "      <td>0.614950</td>\n",
       "      <td>0.869423</td>\n",
       "      <td>0.823386</td>\n",
       "      <td>0.878447</td>\n",
       "      <td>Fairness and Customer Acceptance</td>\n",
       "      <td>4</td>\n",
       "    </tr>\n",
       "    <tr>\n",
       "      <th>Expansion of DER</th>\n",
       "      <td>0.644214</td>\n",
       "      <td>0.509016</td>\n",
       "      <td>0.503609</td>\n",
       "      <td>0.500000</td>\n",
       "      <td>Expansion of DER</td>\n",
       "      <td>4</td>\n",
       "    </tr>\n",
       "    <tr>\n",
       "      <th>Efficient Electricity Usage</th>\n",
       "      <td>0.750000</td>\n",
       "      <td>0.644128</td>\n",
       "      <td>0.657998</td>\n",
       "      <td>0.640895</td>\n",
       "      <td>Efficient Electricity Usage</td>\n",
       "      <td>4</td>\n",
       "    </tr>\n",
       "  </tbody>\n",
       "</table>\n",
       "</div>"
      ],
      "text/plain": [
       "                                  Volumetric Tariff  Monthly Power Peak  \\\n",
       "Efficient Grid                             0.727145            0.741558   \n",
       "Fairness and Customer Acceptance           0.500000            0.545728   \n",
       "Expansion of DER                           0.660894            0.512089   \n",
       "Efficient Electricity Usage                0.750000            0.721540   \n",
       "Efficient Grid                             0.701414            0.723082   \n",
       "Fairness and Customer Acceptance           0.576840            0.728227   \n",
       "Expansion of DER                           0.653122            0.510657   \n",
       "Efficient Electricity Usage                0.750000            0.686311   \n",
       "Efficient Grid                             0.563843            0.733056   \n",
       "Fairness and Customer Acceptance           0.575685            0.758570   \n",
       "Expansion of DER                           0.649696            0.510026   \n",
       "Efficient Electricity Usage                0.750000            0.656469   \n",
       "Efficient Grid                             0.617336            0.842954   \n",
       "Fairness and Customer Acceptance           0.614950            0.869423   \n",
       "Expansion of DER                           0.644214            0.509016   \n",
       "Efficient Electricity Usage                0.750000            0.644128   \n",
       "\n",
       "                                  Yearly Power Peak  Capacity Tariff  \\\n",
       "Efficient Grid                             0.745429         0.748073   \n",
       "Fairness and Customer Acceptance           0.539677         0.535830   \n",
       "Expansion of DER                           0.505215         0.500000   \n",
       "Efficient Electricity Usage                0.725351         0.727559   \n",
       "Efficient Grid                             0.734286         0.739793   \n",
       "Fairness and Customer Acceptance           0.695446         0.676341   \n",
       "Expansion of DER                           0.504467         0.500000   \n",
       "Efficient Electricity Usage                0.697072         0.701393   \n",
       "Efficient Grid                             0.766497         0.772613   \n",
       "Fairness and Customer Acceptance           0.725463         0.739485   \n",
       "Expansion of DER                           0.504137         0.500000   \n",
       "Efficient Electricity Usage                0.698574         0.651921   \n",
       "Efficient Grid                             0.861407         0.833895   \n",
       "Fairness and Customer Acceptance           0.823386         0.878447   \n",
       "Expansion of DER                           0.503609         0.500000   \n",
       "Efficient Electricity Usage                0.657998         0.640895   \n",
       "\n",
       "                                                          Criteria  Scenario  \n",
       "Efficient Grid                                      Efficient Grid         1  \n",
       "Fairness and Customer Acceptance  Fairness and Customer Acceptance         1  \n",
       "Expansion of DER                                  Expansion of DER         1  \n",
       "Efficient Electricity Usage            Efficient Electricity Usage         1  \n",
       "Efficient Grid                                      Efficient Grid         2  \n",
       "Fairness and Customer Acceptance  Fairness and Customer Acceptance         2  \n",
       "Expansion of DER                                  Expansion of DER         2  \n",
       "Efficient Electricity Usage            Efficient Electricity Usage         2  \n",
       "Efficient Grid                                      Efficient Grid         3  \n",
       "Fairness and Customer Acceptance  Fairness and Customer Acceptance         3  \n",
       "Expansion of DER                                  Expansion of DER         3  \n",
       "Efficient Electricity Usage            Efficient Electricity Usage         3  \n",
       "Efficient Grid                                      Efficient Grid         4  \n",
       "Fairness and Customer Acceptance  Fairness and Customer Acceptance         4  \n",
       "Expansion of DER                                  Expansion of DER         4  \n",
       "Efficient Electricity Usage            Efficient Electricity Usage         4  "
      ]
     },
     "execution_count": 14,
     "metadata": {},
     "output_type": "execute_result"
    }
   ],
   "source": [
    "results = pd.read_excel(\"results/resultmatrix.xlsx\", index_col=0)\n",
    "results"
   ]
  },
  {
   "cell_type": "code",
   "execution_count": 15,
   "id": "53c05325",
   "metadata": {},
   "outputs": [],
   "source": [
    "tariffs = ['Volumetric Tariff', 'Monthly Power Peak', 'Yearly Power Peak', 'Capacity Tariff']"
   ]
  },
  {
   "cell_type": "code",
   "execution_count": 16,
   "id": "912efd9d",
   "metadata": {},
   "outputs": [],
   "source": [
    "scenarios = [1, 2, 3, 4]\n",
    "scenario_names = {\n",
    "    1: \"Scenario 1: High Inflexibility\",\n",
    "    2: \"Scenario 2: Increase in Peak-Consumption\",\n",
    "    3: \"Scenario 3: Increase in Local Production\", \n",
    "    4: \"Scenario 4: High Flexibility\"\n",
    "}"
   ]
  },
  {
   "cell_type": "code",
   "execution_count": 17,
   "id": "0b0589c3",
   "metadata": {},
   "outputs": [],
   "source": [
    "criteria_translation = {\n",
    "    \"Reflection of Costs\": 'Reflection\\nof Costs',\n",
    "    \"Reflection of Usage-Related Costs\": 'Reflection\\nof Usage-\\nRelated Costs',\n",
    "    \"Reflection of Capacity-Related Costs\": 'Reflection\\nof Capacity-\\nRelated Costs',\n",
    "    \"Fairness and Customer Acceptance\": 'Fairness and\\nCustomer\\nAcceptance',\n",
    "    \"Expansion of DER\": 'Expansion\\nof DER', \n",
    "    \"Efficient Electricity Usage\": 'Efficient\\nElectricity\\nUsage',\n",
    "    \"Efficient Grid\": 'Efficient\\nGrid'}"
   ]
  },
  {
   "cell_type": "code",
   "execution_count": 18,
   "id": "4427da9b",
   "metadata": {},
   "outputs": [
    {
     "data": {
      "image/png": "[encoded data removed]",
      "text/plain": [
       "<Figure size 432x396 with 4 Axes>"
      ]
     },
     "metadata": {
      "needs_background": "light"
     },
     "output_type": "display_data"
    }
   ],
   "source": [
    "tmp = sns.color_palette(\"Paired\")\n",
    "colors = [tmp[1], tmp[6], tmp[5], \"k\"]\n",
    "fig, axes = plt.subplots(4, figsize=(6, 5.5))\n",
    "for idx, ax in enumerate(axes):\n",
    "    plot_df = results.loc[results[\"Scenario\"]==scenarios[idx]][tariffs].rename(index=criteria_translation)\n",
    "    plot_df.plot.bar(color=colors, width=0.8, ax=ax)\n",
    "    ax.legend().remove()\n",
    "    if idx==3:\n",
    "        ax.set_xticklabels(ax.get_xticklabels(), rotation=0)\n",
    "    else:\n",
    "        ax.set_xticklabels([])\n",
    "    ax.set_title(scenario_names[scenarios[idx]])\n",
    "    ax.set_ylim((0,1.1))\n",
    "plt.tight_layout()\n",
    "plt.legend(ncols=2, loc=\"lower center\", bbox_to_anchor=(0.475,-1.4))\n",
    "plt.savefig('results/plots/fulfillment.pdf', bbox_inches='tight')"
   ]
  },
  {
   "cell_type": "code",
   "execution_count": 37,
   "id": "e7338b80",
   "metadata": {},
   "outputs": [
    {
     "data": {
      "image/png": "[encoded data removed]",
      "text/plain": [
       "<Figure size 432x396 with 4 Axes>"
      ]
     },
     "metadata": {
      "needs_background": "light"
     },
     "output_type": "display_data"
    }
   ],
   "source": [
    "tmp = sns.color_palette(\"Paired\")\n",
    "colors = [tmp[1], tmp[6], tmp[5], \"k\"]\n",
    "fig, axes = plt.subplots(4, figsize=(6, 5.5))\n",
    "for idx, ax in enumerate(axes):\n",
    "    plot_df = results.loc[results[\"Scenario\"]==scenarios[idx]][tariffs].rename(index=criteria_translation)\n",
    "    plot_df.plot.bar(color=colors, width=0.8, ax=ax)\n",
    "    ax.legend().remove()\n",
    "    if idx==3:\n",
    "        ax.set_xticklabels(ax.get_xticklabels(), rotation=0)\n",
    "    else:\n",
    "        ax.set_xticklabels([])\n",
    "    ax.set_title(scenario_names[scenarios[idx]])\n",
    "    ax.set_ylim((0,1.1))\n",
    "plt.tight_layout()\n",
    "plt.legend(ncols=2, loc=\"lower center\", bbox_to_anchor=(0.475,-1.4))\n",
    "plt.savefig('results/plots/fulfillment.pdf', bbox_inches='tight')"
   ]
  },
  {
   "cell_type": "code",
   "execution_count": 19,
   "id": "057f13e6",
   "metadata": {},
   "outputs": [],
   "source": [
    "scenario_names_reduced = {\n",
    "    1: \"Scenario 1: Low Flexibility\",\n",
    "    4: \"Scenario 2: High Flexibility\"\n",
    "}"
   ]
  },
  {
   "cell_type": "code",
   "execution_count": 20,
   "id": "43dd9ab9",
   "metadata": {},
   "outputs": [
    {
     "data": {
      "image/png": "[encoded data removed]",
      "text/plain": [
       "<Figure size 432x252 with 2 Axes>"
      ]
     },
     "metadata": {
      "needs_background": "light"
     },
     "output_type": "display_data"
    }
   ],
   "source": [
    "tmp = sns.color_palette(\"Paired\")\n",
    "colors = [tmp[1], tmp[6], tmp[5], \"k\"]\n",
    "colors[0] = tuple((color*0.8 for color in colors[0]))\n",
    "fig, axes = plt.subplots(2, figsize=(6, 3.5))\n",
    "for idx, scenario in enumerate([1, 4]):\n",
    "    ax=axes[idx]\n",
    "    plot_df = results.loc[results[\"Scenario\"]==scenario][tariffs].rename(index=criteria_translation)\n",
    "    plot_df.plot.bar(color=colors, width=0.8, ax=ax)\n",
    "    ax.legend().remove()\n",
    "    if idx==1:\n",
    "        ax.set_xticklabels(ax.get_xticklabels(), rotation=0)\n",
    "    else:\n",
    "        ax.set_xticklabels([])\n",
    "    ax.set_title(scenario_names_reduced[scenario])\n",
    "    ax.set_ylim((0,1.1))\n",
    "    ax.set_ylabel(\"Indicator Value $I^i$\")\n",
    "plt.tight_layout()\n",
    "plt.legend(ncols=2, loc=\"lower center\", bbox_to_anchor=(0.475,-1.1))\n",
    "plt.savefig('results/plots/fulfillment_reduced.pdf', bbox_inches='tight')"
   ]
  },
  {
   "cell_type": "code",
   "execution_count": 10,
   "id": "fc00f3b0",
   "metadata": {},
   "outputs": [
    {
     "data": {
      "image/png": "[encoded data removed]",
      "text/plain": [
       "<Figure size 432x252 with 2 Axes>"
      ]
     },
     "metadata": {
      "needs_background": "light"
     },
     "output_type": "display_data"
    }
   ],
   "source": [
    "tmp = sns.color_palette(\"Paired\")\n",
    "colors = [tmp[1], tmp[6], tmp[5], \"k\"]\n",
    "colors[0] = tuple((color*0.8 for color in colors[0]))\n",
    "fig, axes = plt.subplots(2, figsize=(6, 3.5))\n",
    "for idx, scenario in enumerate([1, 4]):\n",
    "    ax=axes[idx]\n",
    "    plot_df = results.loc[results[\"Scenario\"]==scenario][tariffs].rename(index=criteria_translation)\n",
    "    plot_df.plot.bar(color=colors, width=0.8, ax=ax)\n",
    "    ax.legend().remove()\n",
    "    if idx==1:\n",
    "        ax.set_xticklabels(ax.get_xticklabels(), rotation=0)\n",
    "    else:\n",
    "        ax.set_xticklabels([])\n",
    "    ax.set_title(scenario_names_reduced[scenario])\n",
    "    ax.set_ylim((0,1.1))\n",
    "    ax.set_ylabel(\"Indicator Value $I^i$\")\n",
    "plt.tight_layout()\n",
    "plt.legend(ncols=2, loc=\"lower center\", bbox_to_anchor=(0.475,-1.1))\n",
    "plt.savefig('results/plots/fulfillment_reduced.pdf', bbox_inches='tight')"
   ]
  },
  {
   "cell_type": "code",
   "execution_count": 21,
   "id": "2da8725b",
   "metadata": {},
   "outputs": [
    {
     "data": {
      "image/png": "[encoded data removed]",
      "text/plain": [
       "<Figure size 396x396 with 4 Axes>"
      ]
     },
     "metadata": {
      "needs_background": "light"
     },
     "output_type": "display_data"
    }
   ],
   "source": [
    "tmp = sns.color_palette(\"Paired\")\n",
    "colors = [tmp[5], tmp[10], tmp[2], tmp[1]]#[tmp[5], tmp[6], tmp[10], tmp[2], tmp[1], tmp[9]]\n",
    "fig, axes = plt.subplots(4, figsize=(5.5, 5.5))\n",
    "for idx, ax in enumerate(axes):\n",
    "    plot_df = results.loc[results[\"Scenario\"]==scenarios[idx]][tariffs].rename(index=criteria_translation)\n",
    "    plot_df.T.plot.bar(color=colors, width=0.8, ax=ax, stacked=True)\n",
    "    ax.legend().remove()\n",
    "    if idx==3:\n",
    "        ax.set_xticklabels(ax.get_xticklabels(), rotation=0)\n",
    "    else:\n",
    "        ax.set_xticklabels([])\n",
    "    ax.set_title(scenario_names[scenarios[idx]])\n",
    "plt.tight_layout()"
   ]
  },
  {
   "cell_type": "code",
   "execution_count": 23,
   "id": "f09fa94d",
   "metadata": {},
   "outputs": [
    {
     "data": {
      "image/png": "[encoded data removed]",
      "text/plain": [
       "<Figure size 396x396 with 4 Axes>"
      ]
     },
     "metadata": {
      "needs_background": "light"
     },
     "output_type": "display_data"
    }
   ],
   "source": [
    "tmp = sns.color_palette(\"Paired\")\n",
    "colors = [tmp[5], tmp[10], tmp[2], tmp[1]]#[tmp[5], tmp[6], tmp[10], tmp[2], tmp[1], tmp[9]]\n",
    "fig, axes = plt.subplots(4, figsize=(5.5, 5.5))\n",
    "for idx, ax in enumerate(axes):\n",
    "    plot_df = results.loc[results[\"Scenario\"]==scenarios[idx]][tariffs].rename(index=criteria_translation)\n",
    "    plot_df.T.plot.bar(color=colors, width=0.8, ax=ax, stacked=True)\n",
    "    ax.legend().remove()\n",
    "    if idx==3:\n",
    "        ax.set_xticklabels(ax.get_xticklabels(), rotation=0)\n",
    "    else:\n",
    "        ax.set_xticklabels([])\n",
    "    ax.set_title(scenario_names[scenarios[idx]])\n",
    "plt.tight_layout()"
   ]
  },
  {
   "cell_type": "code",
   "execution_count": 25,
   "id": "439aab04",
   "metadata": {},
   "outputs": [
    {
     "data": {
      "text/html": [
       "<div>\n",
       "<style scoped>\n",
       "    .dataframe tbody tr th:only-of-type {\n",
       "        vertical-align: middle;\n",
       "    }\n",
       "\n",
       "    .dataframe tbody tr th {\n",
       "        vertical-align: top;\n",
       "    }\n",
       "\n",
       "    .dataframe thead th {\n",
       "        text-align: right;\n",
       "    }\n",
       "</style>\n",
       "<table border=\"1\" class=\"dataframe\">\n",
       "  <thead>\n",
       "    <tr style=\"text-align: right;\">\n",
       "      <th></th>\n",
       "      <th>Volumetric Tariff</th>\n",
       "      <th>Monthly Power Peak</th>\n",
       "      <th>Yearly Power Peak</th>\n",
       "      <th>Capacity Tariff</th>\n",
       "      <th>Criteria</th>\n",
       "      <th>Scenario</th>\n",
       "    </tr>\n",
       "  </thead>\n",
       "  <tbody>\n",
       "    <tr>\n",
       "      <th>Fairness and Customer Acceptance</th>\n",
       "      <td>0.500000</td>\n",
       "      <td>0.560480</td>\n",
       "      <td>0.539677</td>\n",
       "      <td>0.535830</td>\n",
       "      <td>Fairness and Customer Acceptance</td>\n",
       "      <td>1</td>\n",
       "    </tr>\n",
       "    <tr>\n",
       "      <th>Fairness and Customer Acceptance</th>\n",
       "      <td>0.576840</td>\n",
       "      <td>0.747552</td>\n",
       "      <td>0.695446</td>\n",
       "      <td>0.676341</td>\n",
       "      <td>Fairness and Customer Acceptance</td>\n",
       "      <td>2</td>\n",
       "    </tr>\n",
       "    <tr>\n",
       "      <th>Fairness and Customer Acceptance</th>\n",
       "      <td>0.575685</td>\n",
       "      <td>0.829875</td>\n",
       "      <td>0.725463</td>\n",
       "      <td>0.739485</td>\n",
       "      <td>Fairness and Customer Acceptance</td>\n",
       "      <td>3</td>\n",
       "    </tr>\n",
       "    <tr>\n",
       "      <th>Fairness and Customer Acceptance</th>\n",
       "      <td>0.614950</td>\n",
       "      <td>1.013788</td>\n",
       "      <td>0.823386</td>\n",
       "      <td>0.878447</td>\n",
       "      <td>Fairness and Customer Acceptance</td>\n",
       "      <td>4</td>\n",
       "    </tr>\n",
       "  </tbody>\n",
       "</table>\n",
       "</div>"
      ],
      "text/plain": [
       "                                  Volumetric Tariff  Monthly Power Peak  \\\n",
       "Fairness and Customer Acceptance           0.500000            0.560480   \n",
       "Fairness and Customer Acceptance           0.576840            0.747552   \n",
       "Fairness and Customer Acceptance           0.575685            0.829875   \n",
       "Fairness and Customer Acceptance           0.614950            1.013788   \n",
       "\n",
       "                                  Yearly Power Peak  Capacity Tariff  \\\n",
       "Fairness and Customer Acceptance           0.539677         0.535830   \n",
       "Fairness and Customer Acceptance           0.695446         0.676341   \n",
       "Fairness and Customer Acceptance           0.725463         0.739485   \n",
       "Fairness and Customer Acceptance           0.823386         0.878447   \n",
       "\n",
       "                                                          Criteria  Scenario  \n",
       "Fairness and Customer Acceptance  Fairness and Customer Acceptance         1  \n",
       "Fairness and Customer Acceptance  Fairness and Customer Acceptance         2  \n",
       "Fairness and Customer Acceptance  Fairness and Customer Acceptance         3  \n",
       "Fairness and Customer Acceptance  Fairness and Customer Acceptance         4  "
      ]
     },
     "execution_count": 25,
     "metadata": {},
     "output_type": "execute_result"
    }
   ],
   "source": [
    "results.loc[\"Fairness and Customer Acceptance\"]"
   ]
  },
  {
   "cell_type": "markdown",
   "id": "adb3f3cd",
   "metadata": {},
   "source": [
    "## Individual Indicators"
   ]
  },
  {
   "cell_type": "code",
   "execution_count": 5,
   "id": "d52389b4",
   "metadata": {},
   "outputs": [],
   "source": [
    "# import packages\n",
    "import matplotlib.patches as mpatches\n",
    "import matplotlib.pyplot as plt\n",
    "import numpy as np\n",
    "import pandas as pd\n",
    "import seaborn as sns\n",
    "\n",
    "import indicators as ind\n",
    "from data.data_preparation import import_data"
   ]
  },
  {
   "cell_type": "code",
   "execution_count": 6,
   "id": "f1012c53",
   "metadata": {},
   "outputs": [],
   "source": [
    "#from matplotlib import rcParams\n",
    "#rcParams[\"mathtext.default\"] = \"regular\""
   ]
  },
  {
   "cell_type": "code",
   "execution_count": 6,
   "id": "7bf725be",
   "metadata": {},
   "outputs": [],
   "source": [
    "def plot_indicator(name, method_name, ax):\n",
    "    indicator_df = pd.DataFrame(columns=alternatives)\n",
    "    for scenario in scenarios:\n",
    "        indicator_df.loc[scenario] = getattr(ind, method_name)(dt, scenario, nr_alternatives).loc[0]\n",
    "    indicator_df.rename(index=scenario_names, columns=alternative_names).plot.bar(\n",
    "        color=colors, width=0.8, figsize=(5.5, 3.5), ax=ax)\n",
    "    ax.set_xticklabels(ax.get_xticklabels(), rotation=0)\n",
    "    ax.set_ylabel(name)\n",
    "    ax.legend().remove()\n",
    "    ax.set_ylim((0,1.05))"
   ]
  },
  {
   "cell_type": "code",
   "execution_count": 7,
   "id": "302fa4ae",
   "metadata": {},
   "outputs": [],
   "source": [
    "# import input data from simulated network\n",
    "dt = import_data()"
   ]
  },
  {
   "cell_type": "code",
   "execution_count": 9,
   "id": "94ea1fe9",
   "metadata": {},
   "outputs": [],
   "source": [
    "# Number of scenarios\n",
    "nr_scenarios = 4\n",
    "scenarios = [1, 4]\n",
    "scenario_names = {1: \"S1: Low Flex\", 4: \"S2: High Flex\" }\n",
    "scenario_names_full = {\n",
    "    1: \"Scenario 1: Low Flexibility\",\n",
    "    4: \"Scenario 2: High Flexibility\"\n",
    "}\n",
    "# Number of alternatives\n",
    "nr_alternatives = 4\n",
    "alternatives = [i+1 for i in range(nr_alternatives)]\n",
    "alternative_names = {1: \"Volumetric Tariff\", 2: \"Monthly Power Peak\", 3: \"Yearly Power Peak\", 4: \"Capacity Tariff\"}\n",
    "# Number of criteria\n",
    "nr_criteria = 5\n",
    "# Customer Groups\n",
    "consumers = [\"Inflexible\", \"PV Owners\", \"EV Owners\", \"PV plus Battery\", \"EV, PV, Battery\"]"
   ]
  },
  {
   "cell_type": "code",
   "execution_count": 10,
   "id": "5af491ba",
   "metadata": {},
   "outputs": [],
   "source": [
    "tmp = sns.color_palette(\"Paired\")\n",
    "colors = [tmp[1], tmp[6], tmp[5], \"k\"]\n",
    "markers = [\"o\", \"v\", \"d\", \"*\"]\n",
    "colors[0] = tuple((color*0.8 for color in colors[0]))"
   ]
  },
  {
   "cell_type": "code",
   "execution_count": 11,
   "id": "fe4fb7d9",
   "metadata": {},
   "outputs": [
    {
     "data": {
      "text/plain": [
       "(0.09725490196078432, 0.3764705882352941, 0.5647058823529413)"
      ]
     },
     "execution_count": 11,
     "metadata": {},
     "output_type": "execute_result"
    }
   ],
   "source": [
    "colors[0]"
   ]
  },
  {
   "cell_type": "code",
   "execution_count": 13,
   "id": "b3821fa0",
   "metadata": {},
   "outputs": [
    {
     "data": {
      "image/png": "[encoded data removed]",
      "text/plain": [
       "<Figure size 396x180 with 2 Axes>"
      ]
     },
     "metadata": {
      "needs_background": "light"
     },
     "output_type": "display_data"
    }
   ],
   "source": [
    "# calculate division into usage- and capacity-related costs\n",
    "cost_contribution_ur = pd.read_csv(\"data/cost_contribution_ur.csv\", index_col=0,\n",
    "                                   dtype={0: int})\n",
    "cost_contribution_ur.columns = cost_contribution_ur.columns.astype(int)\n",
    "cost_contribution_cr = 1 - cost_contribution_ur\n",
    "cost_contribution_ur.rename(index=scenario_names, columns=alternative_names)\n",
    "fig, axes = plt.subplots(1, 2, figsize=(5.5, 2.5))\n",
    "correlation = pd.DataFrame(columns=alternatives)\n",
    "slope = pd.DataFrame(columns=alternatives)\n",
    "for alternative in range(1, nr_alternatives + 1):\n",
    "    for idx, scenario in enumerate(scenarios):\n",
    "        tmp = dt[(dt['Scenario'] == scenario) & (dt['Alternative'] == alternative)]\n",
    "        cost_share = tmp[\"Cost Share\"].values/100\n",
    "        peak_share = tmp['Peak Share'].values/100\n",
    "        capacity_share = tmp['Capacity Share'].values/100\n",
    "        # scale to costs, Eq. (8)\n",
    "        peak_share_scaled = \\\n",
    "            cost_contribution_ur.loc[scenario, alternative] * peak_share\n",
    "        # scale to costs, Eq. (9)\n",
    "        capacity_share_scaled = \\\n",
    "            cost_contribution_cr.loc[scenario, alternative] * capacity_share\n",
    "        # extract correlation, Eq.()\n",
    "        correlation.loc[scenario, alternative] = \\\n",
    "            np.corrcoef(cost_share, peak_share_scaled + capacity_share_scaled)[0, 1]\n",
    "        # extract slope, Eq. () Todo: is a slope > 1 bad? Punishment too high then\n",
    "        beta_1 = np.polyfit(cost_share, peak_share_scaled + capacity_share_scaled, 1)[0]\n",
    "        slope.loc[scenario, alternative] = 1 - abs(1-beta_1)\n",
    "        # Plot scatters\n",
    "        plot_df = pd.DataFrame()\n",
    "        y = \"Cost Share\"\n",
    "        x = \"Cost Contribution\"\n",
    "        plot_df[y] = cost_share\n",
    "        plot_df[x] = peak_share_scaled + capacity_share_scaled\n",
    "        plot_df.plot.scatter(x=x, y=y, ax=axes[idx], label=alternative_names[alternative], \n",
    "                             color=colors[alternative-1], marker=markers[alternative-1])\n",
    "        if idx == 1:\n",
    "            axes[idx].set_ylabel(\"\")\n",
    "            axes[idx].set_yticklabels(\"\")\n",
    "        \n",
    "# add reference line with slope = 1\n",
    "plot_df = pd.DataFrame()\n",
    "plot_df[\"Perfect Reflection\"] = [0, 1]\n",
    "for idx, scenario in enumerate(scenarios):\n",
    "    plot_df.plot(ax=axes[idx], color=\"gray\", linestyle=\"--\")\n",
    "    axes[idx].set_title(scenario_names_full[scenario])\n",
    "    axes[idx].legend().remove()\n",
    "plt.tight_layout()\n",
    "plt.legend(ncols=3, loc=\"lower center\", bbox_to_anchor=(-0.12,-0.6))\n",
    "plt.savefig('results/plots/indicators_roc.pdf', bbox_inches='tight')"
   ]
  },
  {
   "cell_type": "code",
   "execution_count": 14,
   "id": "915e330f",
   "metadata": {},
   "outputs": [
    {
     "data": {
      "image/png": "[encoded data removed]",
      "text/plain": [
       "<Figure size 396x252 with 4 Axes>"
      ]
     },
     "metadata": {
      "needs_background": "light"
     },
     "output_type": "display_data"
    }
   ],
   "source": [
    "fig, axes = plt.subplots(2,2, figsize=(5.5, 3.5))\n",
    "# Reduction of usage-related costs - using \"Simultaneous Peak\"\n",
    "plot_indicator(\"UCR\", \"get_reduction_of_usage_related_costs\", axes[0,0])\n",
    "# Reduction of capacity-related costs - using \"Contracted Capacity\"\n",
    "plot_indicator(\"CCR\", \"get_reduction_of_capacity_related_costs\", axes[0,1])\n",
    "# Plot correlation\n",
    "ax = axes[1,0]\n",
    "correlation.rename(index=scenario_names, columns=alternative_names).plot.bar(\n",
    "    color=colors, width=0.8, ax=ax)\n",
    "ax.set_xticklabels(ax.get_xticklabels(), rotation=0)\n",
    "ax.legend().remove()\n",
    "ax.set_ylabel(\"ROC$^{corr}$\")\n",
    "ax.set_ylim((0,1.05))\n",
    "# Plot slope\n",
    "ax = axes[1,1]\n",
    "slope.rename(index=scenario_names, columns=alternative_names).plot.bar(\n",
    "    color=colors, width=0.8, ax=ax)\n",
    "ax.set_xticklabels(ax.get_xticklabels(), rotation=0)\n",
    "ax.legend().remove()\n",
    "ax.set_ylabel(\"ROC$^{slope}$\")\n",
    "ax.set_ylim((0,1.05))\n",
    "plt.tight_layout()\n",
    "plt.legend(ncols=2, loc=\"lower center\", bbox_to_anchor=(-0.2,-0.6))\n",
    "plt.savefig('results/plots/indicators_efficient_grid.pdf', bbox_inches='tight')"
   ]
  },
  {
   "cell_type": "code",
   "execution_count": 21,
   "id": "35d9e96e",
   "metadata": {},
   "outputs": [
    {
     "data": {
      "image/png": "[encoded data removed]",
      "text/plain": [
       "<Figure size 396x252 with 4 Axes>"
      ]
     },
     "metadata": {
      "needs_background": "light"
     },
     "output_type": "display_data"
    }
   ],
   "source": [
    "fig, axes = plt.subplots(2,2, figsize=(5.5, 3.5))\n",
    "# Reduction of usage-related costs - using \"Simultaneous Peak\"\n",
    "plot_indicator(\"UCR\", \"get_reduction_of_usage_related_costs\", axes[0,0])\n",
    "# Reduction of capacity-related costs - using \"Contracted Capacity\"\n",
    "plot_indicator(\"CCR\", \"get_reduction_of_capacity_related_costs\", axes[0,1])\n",
    "# Plot correlation\n",
    "ax = axes[1,0]\n",
    "correlation.rename(index=scenario_names, columns=alternative_names).plot.bar(\n",
    "    color=colors, width=0.8, ax=ax)\n",
    "ax.set_xticklabels(ax.get_xticklabels(), rotation=0)\n",
    "ax.legend().remove()\n",
    "ax.set_ylabel(\"ROC$^{corr}$\")\n",
    "ax.set_ylim((0,1.05))\n",
    "# Plot slope\n",
    "ax = axes[1,1]\n",
    "slope.rename(index=scenario_names, columns=alternative_names).plot.bar(\n",
    "    color=colors, width=0.8, ax=ax)\n",
    "ax.set_xticklabels(ax.get_xticklabels(), rotation=0)\n",
    "ax.legend().remove()\n",
    "ax.set_ylabel(\"ROC$^{slope}$\")\n",
    "ax.set_ylim((0,1.05))\n",
    "plt.tight_layout()\n",
    "plt.legend(ncols=2, loc=\"lower center\", bbox_to_anchor=(-0.2,-0.6))\n",
    "plt.savefig('results/plots/indicators_efficient_grid.pdf', bbox_inches='tight')"
   ]
  },
  {
   "cell_type": "code",
   "execution_count": 15,
   "id": "17de3a30",
   "metadata": {},
   "outputs": [
    {
     "data": {
      "image/png": "[encoded data removed]",
      "text/plain": [
       "<Figure size 396x136.8 with 2 Axes>"
      ]
     },
     "metadata": {
      "needs_background": "light"
     },
     "output_type": "display_data"
    }
   ],
   "source": [
    "# plot cost-driving factors\n",
    "fig, axes = plt.subplots(1,2, figsize=(5.5, 1.9))\n",
    "peak = pd.DataFrame(columns=alternatives)\n",
    "capacity = pd.DataFrame(columns=alternatives)\n",
    "for idx, scenario in enumerate(scenarios):\n",
    "    for alternative in range(1, nr_alternatives + 1):\n",
    "        peak.loc[scenario, alternative] = dt[(dt['Scenario'] == scenario) &\n",
    "                      (dt['Alternative'] == alternative)]['Simultaneous Peak'].sum()\n",
    "        capacity.loc[scenario, alternative] = \\\n",
    "                dt[(dt['Scenario'] == scenario) &\n",
    "                   (dt['Alternative'] == alternative)]['Contracted Capacity'].sum()\n",
    "# usage-related\n",
    "ax=axes[0]\n",
    "peak.divide(1e3).rename(index=scenario_names, columns=alternative_names).plot.bar(\n",
    "    color=colors, width=0.8, ax=ax)\n",
    "ax.set_xticklabels(ax.get_xticklabels(), rotation=0)\n",
    "ax.legend().remove()\n",
    "ax.set_ylabel(\"P$^{peak}$ [MW]\")\n",
    "# capacity-related\n",
    "ax=axes[1]\n",
    "capacity.divide(1e3).rename(index=scenario_names, columns=alternative_names).plot.bar(\n",
    "    color=colors, width=0.8, ax=ax)\n",
    "ax.set_xticklabels(ax.get_xticklabels(), rotation=0)\n",
    "ax.legend().remove()\n",
    "ax.set_ylabel(\"CC [MW]\")\n",
    "plt.tight_layout()\n",
    "plt.legend(ncols=2, loc=\"lower center\", bbox_to_anchor=(-0.2,-0.6))\n",
    "plt.savefig('results/plots/indicators_cost_driving_factors.pdf', bbox_inches='tight')"
   ]
  },
  {
   "cell_type": "code",
   "execution_count": 13,
   "id": "a1c96d0c",
   "metadata": {},
   "outputs": [
    {
     "data": {
      "image/png": "[encoded data removed]",
      "text/plain": [
       "<Figure size 324x180 with 1 Axes>"
      ]
     },
     "metadata": {
      "needs_background": "light"
     },
     "output_type": "display_data"
    }
   ],
   "source": [
    "# new calculations\n",
    "tmp = pd.read_csv(\"data/pv_cost_reduction.csv\", index_col=0).rename(columns={\n",
    "    \"VT\": \"Volumetric Tariff\", \"MPT\": \"Monthly Power Peak\", \"YPT\": \"Yearly Power Peak\", \"CT\": \"Capacity Tariff\"})\n",
    "ax=tmp.plot.bar(\n",
    "    color=colors, width=0.8, figsize=(4.5, 2.5))\n",
    "ax.set_xticklabels([\"Inflex.+PV\", \"Inflex.+PV \\n\\& Battery\", \"EV+PV\", \"EV+PV \\n\\& Battery\"], rotation=0)\n",
    "ax.set_ylabel(\"cr$_{u+DERs}$\")\n",
    "plt.legend(ncols=2, loc=\"lower center\", bbox_to_anchor=(0.475,-0.5))\n",
    "plt.savefig('results/plots/indicators_pv_reduction.pdf', bbox_inches='tight')"
   ]
  },
  {
   "cell_type": "code",
   "execution_count": 21,
   "id": "199ed893",
   "metadata": {},
   "outputs": [
    {
     "data": {
      "image/png": "[encoded data removed]",
      "text/plain": [
       "<Figure size 324x180 with 1 Axes>"
      ]
     },
     "metadata": {
      "needs_background": "light"
     },
     "output_type": "display_data"
    }
   ],
   "source": [
    "# new calculations - PROXY\n",
    "tmp = pd.read_csv(\"data/pv_cost_reduction.csv\", index_col=0).rename(columns={\n",
    "    \"VT\": \"Volumetric Tariff\", \"MPT\": \"Monthly Power Peak\", \"YPT\": \"Yearly Power Peak\", \"CT\": \"Capacity Tariff\"}).drop(index=[\"EV_PV\"])\n",
    "ax=tmp.plot.bar(\n",
    "    color=colors, width=0.8, figsize=(4.5, 2.5))\n",
    "ax.set_xticklabels([\"Inflex.+PV\", \"Inflex.+PV \\n\\& Battery\", \"EV+PV \\n\\& Battery\"], rotation=0)\n",
    "ax.set_ylabel(\"cr$_{u+DERs}$\")\n",
    "plt.legend(ncols=2, loc=\"lower center\", bbox_to_anchor=(0.475,-0.5))\n",
    "plt.savefig('results/plots/indicators_pv_reduction.pdf', bbox_inches='tight')"
   ]
  },
  {
   "cell_type": "code",
   "execution_count": 22,
   "id": "c37e5ecc",
   "metadata": {},
   "outputs": [
    {
     "data": {
      "image/png": "[encoded data removed]",
      "text/plain": [
       "<Figure size 396x180 with 2 Axes>"
      ]
     },
     "metadata": {
      "needs_background": "light"
     },
     "output_type": "display_data"
    }
   ],
   "source": [
    "# calculate division into usage- and capacity-related costs\n",
    "cost_contribution_ur = pd.read_csv(\"data/cost_contribution_ur.csv\", index_col=0,\n",
    "                                   dtype={0: int})\n",
    "cost_contribution_ur.columns = cost_contribution_ur.columns.astype(int)\n",
    "cost_contribution_cr = 1 - cost_contribution_ur\n",
    "cost_contribution_ur.rename(index=scenario_names, columns=alternative_names)\n",
    "fig, axes = plt.subplots(1, 2, figsize=(5.5, 2.5))\n",
    "correlation = pd.DataFrame(columns=alternatives)\n",
    "slope = pd.DataFrame(columns=alternatives)\n",
    "for alternative in range(1, nr_alternatives + 1):\n",
    "    for idx, scenario in enumerate(scenarios):\n",
    "        tmp = dt[(dt['Scenario'] == scenario) & (dt['Alternative'] == alternative)]\n",
    "        cost_share = tmp[\"Cost Share\"].values/100\n",
    "        energy_share = tmp['Energy Share'].values/100\n",
    "        # extract correlation, Eq.()\n",
    "        correlation.loc[scenario, alternative] = \\\n",
    "            np.corrcoef(cost_share, energy_share)[0, 1]\n",
    "        # extract slope, Eq. () Todo: is a slope > 1 bad? Punishment too high then\n",
    "        beta_3 = np.polyfit(cost_share, energy_share, 1)[0]\n",
    "        slope.loc[scenario, alternative] = 1 - abs(1 - beta_3)\n",
    "        # Plot scatters\n",
    "        plot_df = pd.DataFrame()\n",
    "        y = \"Cost Share\"\n",
    "        x = \"Electricity Share\"\n",
    "        plot_df[y] = cost_share\n",
    "        plot_df[x] = energy_share\n",
    "        plot_df.plot.scatter(x=x, y=y, ax=axes[idx], label=alternative_names[alternative], \n",
    "                             color=colors[alternative-1], marker=markers[alternative-1])\n",
    "        if idx == 1:\n",
    "            axes[idx].set_ylabel(\"\")\n",
    "            axes[idx].set_yticklabels(\"\")\n",
    "        \n",
    "# add reference line with slope = 1\n",
    "plot_df = pd.DataFrame()\n",
    "plot_df[\"Perfect Reflection\"] = [0, 1]\n",
    "for idx, scenario in enumerate(scenarios):\n",
    "    plot_df.plot(ax=axes[idx], color=\"gray\", linestyle=\"--\")\n",
    "    axes[idx].set_title(scenario_names_full[scenario])\n",
    "    axes[idx].legend().remove()\n",
    "plt.tight_layout()\n",
    "plt.legend(ncols=3, loc=\"lower center\", bbox_to_anchor=(-0.12,-0.6))\n",
    "plt.savefig('results/plots/indicators_roe.pdf', bbox_inches='tight')"
   ]
  },
  {
   "cell_type": "code",
   "execution_count": 23,
   "id": "f907a339",
   "metadata": {},
   "outputs": [
    {
     "data": {
      "image/png": "[encoded data removed]",
      "text/plain": [
       "<Figure size 396x252 with 3 Axes>"
      ]
     },
     "metadata": {
      "needs_background": "light"
     },
     "output_type": "display_data"
    }
   ],
   "source": [
    "# Efficient use of electricity\n",
    "fig, axes = plt.subplots(2,2, figsize=(5.5, 3.5))\n",
    "# Reduction of usage-related costs - using \"Simultaneous Peak\"\n",
    "plot_indicator(\"PER\", \"get_reduction_of_purchased_electricity\", axes[0,0])\n",
    "# Reduction of capacity-related costs - using \"Contracted Capacity\"\n",
    "fig.delaxes(axes[0,1])\n",
    "# Plot correlation\n",
    "ax = axes[1,0]\n",
    "correlation.rename(index=scenario_names, columns=alternative_names).plot.bar(\n",
    "    color=colors, width=0.8, ax=ax)\n",
    "ax.set_xticklabels(ax.get_xticklabels(), rotation=0)\n",
    "ax.legend().remove()\n",
    "ax.set_ylabel(\"ROE$^{corr}$\")\n",
    "ax.set_ylim((0,1.05))\n",
    "# Plot slope\n",
    "ax = axes[1,1]\n",
    "slope.rename(index=scenario_names, columns=alternative_names).plot.bar(\n",
    "    color=colors, width=0.8, ax=ax)\n",
    "ax.set_xticklabels(ax.get_xticklabels(), rotation=0)\n",
    "ax.legend().remove()\n",
    "ax.set_ylabel(\"ROE$^{slope}$\")\n",
    "ax.set_ylim((0,1.05))\n",
    "plt.tight_layout()\n",
    "plt.legend(ncols=1, loc=\"lower center\", bbox_to_anchor=(0.4,1.35))\n",
    "plt.savefig('results/plots/indicators_efficient_electricity_usage.pdf', bbox_inches='tight')"
   ]
  },
  {
   "cell_type": "code",
   "execution_count": 22,
   "id": "cb36389c",
   "metadata": {},
   "outputs": [
    {
     "data": {
      "image/png": "[encoded data removed]",
      "text/plain": [
       "<Figure size 396x252 with 3 Axes>"
      ]
     },
     "metadata": {
      "needs_background": "light"
     },
     "output_type": "display_data"
    }
   ],
   "source": [
    "# Efficient use of electricity\n",
    "fig, axes = plt.subplots(2,2, figsize=(5.5, 3.5))\n",
    "# Reduction of usage-related costs - using \"Simultaneous Peak\"\n",
    "plot_indicator(\"PER\", \"get_reduction_of_purchased_electricity\", axes[0,0])\n",
    "# Reduction of capacity-related costs - using \"Contracted Capacity\"\n",
    "fig.delaxes(axes[0,1])\n",
    "# Plot correlation\n",
    "ax = axes[1,0]\n",
    "correlation.rename(index=scenario_names, columns=alternative_names).plot.bar(\n",
    "    color=colors, width=0.8, ax=ax)\n",
    "ax.set_xticklabels(ax.get_xticklabels(), rotation=0)\n",
    "ax.legend().remove()\n",
    "ax.set_ylabel(\"ROE$^{corr}$\")\n",
    "ax.set_ylim((0,1.05))\n",
    "# Plot slope\n",
    "ax = axes[1,1]\n",
    "slope.rename(index=scenario_names, columns=alternative_names).plot.bar(\n",
    "    color=colors, width=0.8, ax=ax)\n",
    "ax.set_xticklabels(ax.get_xticklabels(), rotation=0)\n",
    "ax.legend().remove()\n",
    "ax.set_ylabel(\"ROE$^{slope}$\")\n",
    "ax.set_ylim((0,1.05))\n",
    "plt.tight_layout()\n",
    "plt.legend(ncols=1, loc=\"lower center\", bbox_to_anchor=(0.4,1.35))\n",
    "plt.savefig('results/plots/indicators_efficient_electricity_usage.pdf', bbox_inches='tight')"
   ]
  },
  {
   "cell_type": "markdown",
   "id": "28400209",
   "metadata": {},
   "source": [
    "## Overall Ranking"
   ]
  },
  {
   "cell_type": "code",
   "execution_count": 24,
   "id": "367868ed",
   "metadata": {},
   "outputs": [],
   "source": [
    "scenario_names = {\n",
    "    'Scenario 1': \"Scenario 1: High Inflexibility\",\n",
    "    'Scenario 2': \"Scenario 2: Increase in Peak-Consumption\",\n",
    "    'Scenario 3': \"Scenario 3: Increase in Local Production\", \n",
    "    'Scenario 4': \"Scenario 4: High Flexibility\"\n",
    "}"
   ]
  },
  {
   "cell_type": "code",
   "execution_count": 25,
   "id": "32be577a",
   "metadata": {},
   "outputs": [],
   "source": [
    "scenario_names_reduced = {\n",
    "    'Scenario 1': \"Scenario 1: Low Flexibility\",\n",
    "    'Scenario 4': \"Scenario 2: High Flexibility\"\n",
    "}"
   ]
  },
  {
   "cell_type": "code",
   "execution_count": 26,
   "id": "aecc2594",
   "metadata": {},
   "outputs": [],
   "source": [
    "results = {}\n",
    "scenarios = ['Scenario 1', 'Scenario 2', 'Scenario 3', 'Scenario 4']\n",
    "for scenario in scenarios:\n",
    "    tmp = pd.read_csv(f\"results/end_rating_{scenario}.csv\", index_col=0)\n",
    "    tmp.index = ['Volumetric Tariff', 'Monthly Power Peak', 'Yearly Power Peak', 'Capacity Tariff']\n",
    "    results[scenario] = tmp.T"
   ]
  },
  {
   "cell_type": "code",
   "execution_count": 30,
   "id": "6d1c2911",
   "metadata": {},
   "outputs": [],
   "source": [
    "tmp = sns.color_palette(\"Paired\")\n",
    "colors = [tmp[1], tmp[6], tmp[5], \"k\"]\n",
    "colors[0] = tuple((color*0.8 for color in colors[0]))"
   ]
  },
  {
   "cell_type": "code",
   "execution_count": 31,
   "id": "0cb5c5bf",
   "metadata": {},
   "outputs": [
    {
     "data": {
      "image/png": "[encoded data removed]",
      "text/plain": [
       "<Figure size 396x396 with 4 Axes>"
      ]
     },
     "metadata": {
      "needs_background": "light"
     },
     "output_type": "display_data"
    }
   ],
   "source": [
    "fig, axes = plt.subplots(4, figsize=(5.5, 5.5))\n",
    "for idx, ax in enumerate(axes):\n",
    "    results[scenarios[idx]].plot.bar(color=colors, width=0.8, ax=ax)\n",
    "    ax.legend().remove()\n",
    "    if idx==3:\n",
    "        ax.set_xticklabels(ax.get_xticklabels(), rotation=0)\n",
    "    else:\n",
    "        ax.set_xticklabels([])\n",
    "    ax.set_title(scenario_names[scenarios[idx]])\n",
    "    ax.set_ylim((0,1))\n",
    "plt.tight_layout()\n",
    "plt.legend(ncols=2, loc=\"lower center\", bbox_to_anchor=(0.475,-1.45))\n",
    "plt.savefig('results/plots/ranking.pdf', bbox_inches='tight')"
   ]
  },
  {
   "cell_type": "code",
   "execution_count": 43,
   "id": "122c07e0",
   "metadata": {},
   "outputs": [
    {
     "data": {
      "image/png": "[encoded data removed]",
      "text/plain": [
       "<Figure size 396x396 with 4 Axes>"
      ]
     },
     "metadata": {
      "needs_background": "light"
     },
     "output_type": "display_data"
    }
   ],
   "source": [
    "tmp = sns.color_palette(\"Paired\")\n",
    "colors = [tmp[1], tmp[6], tmp[5], \"k\"]\n",
    "fig, axes = plt.subplots(4, figsize=(5.5, 5.5))\n",
    "for idx, ax in enumerate(axes):\n",
    "    results[scenarios[idx]].plot.bar(color=colors, width=0.8, ax=ax)\n",
    "    ax.legend().remove()\n",
    "    if idx==3:\n",
    "        ax.set_xticklabels(ax.get_xticklabels(), rotation=0)\n",
    "    else:\n",
    "        ax.set_xticklabels([])\n",
    "    ax.set_title(scenario_names[scenarios[idx]])\n",
    "    ax.set_ylim((0,1))\n",
    "plt.tight_layout()\n",
    "plt.legend(ncols=2, loc=\"lower center\", bbox_to_anchor=(0.475,-1.45))\n",
    "plt.savefig('results/plots/ranking.pdf', bbox_inches='tight')"
   ]
  },
  {
   "cell_type": "code",
   "execution_count": 32,
   "id": "f15f9858",
   "metadata": {},
   "outputs": [
    {
     "data": {
      "image/png": "[encoded data removed]",
      "text/plain": [
       "<Figure size 396x396 with 4 Axes>"
      ]
     },
     "metadata": {
      "needs_background": "light"
     },
     "output_type": "display_data"
    }
   ],
   "source": [
    "scaling_value = 0.5\n",
    "fig, axes = plt.subplots(4, figsize=(5.5, 5.5))\n",
    "for idx, ax in enumerate(axes):\n",
    "    scaling = scaling_value/results[scenarios[idx]][\"Volumetric Tariff\"]\n",
    "    results[scenarios[idx]].T.multiply(scaling).T.plot.bar(color=colors, width=0.8, ax=ax)\n",
    "    ax.legend().remove()\n",
    "    if idx==3:\n",
    "        ax.set_xticklabels(ax.get_xticklabels(), rotation=0)\n",
    "    else:\n",
    "        ax.set_xticklabels([])\n",
    "    ax.set_title(scenario_names[scenarios[idx]])\n",
    "    ax.set_ylim((0,0.85))\n",
    "plt.tight_layout()\n",
    "plt.legend(ncols=2, loc=\"lower center\", bbox_to_anchor=(0.475,-1.))\n",
    "plt.savefig('results/plots/ranking_scaled.pdf', bbox_inches='tight')"
   ]
  },
  {
   "cell_type": "code",
   "execution_count": 32,
   "id": "5115e5d8",
   "metadata": {},
   "outputs": [
    {
     "data": {
      "image/png": "[encoded data removed]",
      "text/plain": [
       "<Figure size 396x396 with 4 Axes>"
      ]
     },
     "metadata": {
      "needs_background": "light"
     },
     "output_type": "display_data"
    }
   ],
   "source": [
    "scaling_value = 0.5\n",
    "tmp = sns.color_palette(\"Paired\")\n",
    "colors = [tmp[1], tmp[6], tmp[5], \"k\"]\n",
    "fig, axes = plt.subplots(4, figsize=(5.5, 5.5))\n",
    "for idx, ax in enumerate(axes):\n",
    "    scaling = scaling_value/results[scenarios[idx]][\"Volumetric Tariff\"]\n",
    "    results[scenarios[idx]].T.multiply(scaling).T.plot.bar(color=colors, width=0.8, ax=ax)\n",
    "    ax.legend().remove()\n",
    "    if idx==3:\n",
    "        ax.set_xticklabels(ax.get_xticklabels(), rotation=0)\n",
    "    else:\n",
    "        ax.set_xticklabels([])\n",
    "    ax.set_title(scenario_names[scenarios[idx]])\n",
    "    ax.set_ylim((0,0.85))\n",
    "plt.tight_layout()\n",
    "plt.legend(ncols=2, loc=\"lower center\", bbox_to_anchor=(0.475,-1.))\n",
    "plt.savefig('results/plots/ranking_scaled.pdf', bbox_inches='tight')"
   ]
  },
  {
   "cell_type": "code",
   "execution_count": 33,
   "id": "ee5fdefa",
   "metadata": {},
   "outputs": [
    {
     "data": {
      "image/png": "[encoded data removed]",
      "text/plain": [
       "<Figure size 396x252 with 2 Axes>"
      ]
     },
     "metadata": {
      "needs_background": "light"
     },
     "output_type": "display_data"
    }
   ],
   "source": [
    "fig, axes = plt.subplots(2, figsize=(5.5, 3.5))\n",
    "for idx, scenario in enumerate([\"Scenario 1\", \"Scenario 4\"]):\n",
    "    ax=axes[idx]\n",
    "    results[scenario].plot.bar(color=colors, width=0.8, ax=ax)\n",
    "    ax.legend().remove()\n",
    "    if idx==1:\n",
    "        ax.set_xticklabels(ax.get_xticklabels(), rotation=0)\n",
    "    else:\n",
    "        ax.set_xticklabels([])\n",
    "    ax.set_title(scenario_names_reduced[scenario])\n",
    "    ax.set_ylim((0,1.0))\n",
    "plt.tight_layout()\n",
    "plt.legend(ncols=2, loc=\"lower center\", bbox_to_anchor=(0.475,-0.75))\n",
    "plt.savefig('results/plots/ranking_reduced.pdf', bbox_inches='tight')"
   ]
  },
  {
   "cell_type": "code",
   "execution_count": 28,
   "id": "71a7871d",
   "metadata": {},
   "outputs": [
    {
     "data": {
      "image/png": "[encoded data removed]",
      "text/plain": [
       "<Figure size 396x252 with 2 Axes>"
      ]
     },
     "metadata": {
      "needs_background": "light"
     },
     "output_type": "display_data"
    }
   ],
   "source": [
    "tmp = sns.color_palette(\"Paired\")\n",
    "colors = [tmp[1], tmp[6], tmp[5], \"k\"]\n",
    "fig, axes = plt.subplots(2, figsize=(5.5, 3.5))\n",
    "for idx, scenario in enumerate([\"Scenario 1\", \"Scenario 4\"]):\n",
    "    ax=axes[idx]\n",
    "    results[scenario].plot.bar(color=colors, width=0.8, ax=ax)\n",
    "    ax.legend().remove()\n",
    "    if idx==1:\n",
    "        ax.set_xticklabels(ax.get_xticklabels(), rotation=0)\n",
    "    else:\n",
    "        ax.set_xticklabels([])\n",
    "    ax.set_title(scenario_names_reduced[scenario])\n",
    "    ax.set_ylim((0,1.0))\n",
    "plt.tight_layout()\n",
    "plt.legend(ncols=2, loc=\"lower center\", bbox_to_anchor=(0.475,-0.75))\n",
    "plt.savefig('results/plots/ranking_reduced.pdf', bbox_inches='tight')"
   ]
  },
  {
   "cell_type": "code",
   "execution_count": 34,
   "id": "e3c4a43d",
   "metadata": {},
   "outputs": [
    {
     "data": {
      "image/png": "[encoded data removed]",
      "text/plain": [
       "<Figure size 396x252 with 2 Axes>"
      ]
     },
     "metadata": {
      "needs_background": "light"
     },
     "output_type": "display_data"
    }
   ],
   "source": [
    "scaling_value = 0.5\n",
    "fig, axes = plt.subplots(2, figsize=(5.5, 3.5))\n",
    "for idx, scenario in enumerate([\"Scenario 1\", \"Scenario 4\"]):\n",
    "    ax=axes[idx]\n",
    "    scaling = scaling_value/results[scenario][\"Volumetric Tariff\"]\n",
    "    results[scenario].T.multiply(scaling).T.plot.bar(color=colors, width=0.8, ax=ax)\n",
    "    ax.legend().remove()\n",
    "    if idx==1:\n",
    "        ax.set_xticklabels(ax.get_xticklabels(), rotation=0)\n",
    "    else:\n",
    "        ax.set_xticklabels([])\n",
    "    ax.set_title(scenario_names_reduced[scenario])\n",
    "    ax.set_ylim((0,0.85))\n",
    "    ax.set_ylabel(\"Final Rating $I_{NW}$\")\n",
    "plt.tight_layout()\n",
    "plt.legend(ncols=2, loc=\"lower center\", bbox_to_anchor=(0.475,-0.75))\n",
    "plt.savefig('results/plots/ranking_reduced_scaled.pdf', bbox_inches='tight')"
   ]
  },
  {
   "cell_type": "code",
   "execution_count": 49,
   "id": "a78ea51a",
   "metadata": {},
   "outputs": [
    {
     "data": {
      "image/png": "[encoded data removed]",
      "text/plain": [
       "<Figure size 396x252 with 2 Axes>"
      ]
     },
     "metadata": {
      "needs_background": "light"
     },
     "output_type": "display_data"
    }
   ],
   "source": [
    "scaling_value = 0.5\n",
    "tmp = sns.color_palette(\"Paired\")\n",
    "colors = [tmp[1], tmp[6], tmp[5], \"k\"]\n",
    "fig, axes = plt.subplots(2, figsize=(5.5, 3.5))\n",
    "for idx, scenario in enumerate([\"Scenario 1\", \"Scenario 4\"]):\n",
    "    ax=axes[idx]\n",
    "    scaling = scaling_value/results[scenario][\"Volumetric Tariff\"]\n",
    "    results[scenario].T.multiply(scaling).T.plot.bar(color=colors, width=0.8, ax=ax)\n",
    "    ax.legend().remove()\n",
    "    if idx==1:\n",
    "        ax.set_xticklabels(ax.get_xticklabels(), rotation=0)\n",
    "    else:\n",
    "        ax.set_xticklabels([])\n",
    "    ax.set_title(scenario_names_reduced[scenario])\n",
    "    ax.set_ylim((0,0.85))\n",
    "    ax.set_ylabel(\"Final Rating $I_{NW}$\")\n",
    "plt.tight_layout()\n",
    "plt.legend(ncols=2, loc=\"lower center\", bbox_to_anchor=(0.475,-0.75))\n",
    "plt.savefig('results/plots/ranking_reduced_scaled.pdf', bbox_inches='tight')"
   ]
  },
  {
   "cell_type": "code",
   "execution_count": 52,
   "id": "9adb3a3f",
   "metadata": {},
   "outputs": [
    {
     "data": {
      "text/html": [
       "<div>\n",
       "<style scoped>\n",
       "    .dataframe tbody tr th:only-of-type {\n",
       "        vertical-align: middle;\n",
       "    }\n",
       "\n",
       "    .dataframe tbody tr th {\n",
       "        vertical-align: top;\n",
       "    }\n",
       "\n",
       "    .dataframe thead th {\n",
       "        text-align: right;\n",
       "    }\n",
       "</style>\n",
       "<table border=\"1\" class=\"dataframe\">\n",
       "  <thead>\n",
       "    <tr style=\"text-align: right;\">\n",
       "      <th></th>\n",
       "      <th>Volumetric Tariff</th>\n",
       "      <th>Monthly Power Peak</th>\n",
       "      <th>Yearly Power Peak</th>\n",
       "      <th>Capacity Tariff</th>\n",
       "    </tr>\n",
       "  </thead>\n",
       "  <tbody>\n",
       "    <tr>\n",
       "      <th>Equal Weights</th>\n",
       "      <td>0.628999</td>\n",
       "      <td>0.613921</td>\n",
       "      <td>0.615374</td>\n",
       "      <td>0.617681</td>\n",
       "    </tr>\n",
       "    <tr>\n",
       "      <th>Authority</th>\n",
       "      <td>0.688779</td>\n",
       "      <td>0.693695</td>\n",
       "      <td>0.702550</td>\n",
       "      <td>0.704397</td>\n",
       "    </tr>\n",
       "    <tr>\n",
       "      <th>Politics</th>\n",
       "      <td>0.572822</td>\n",
       "      <td>0.535512</td>\n",
       "      <td>0.530997</td>\n",
       "      <td>0.534455</td>\n",
       "    </tr>\n",
       "    <tr>\n",
       "      <th>Third Party</th>\n",
       "      <td>0.696396</td>\n",
       "      <td>0.669337</td>\n",
       "      <td>0.679993</td>\n",
       "      <td>0.683245</td>\n",
       "    </tr>\n",
       "    <tr>\n",
       "      <th>DSO</th>\n",
       "      <td>0.688915</td>\n",
       "      <td>0.693440</td>\n",
       "      <td>0.702659</td>\n",
       "      <td>0.704736</td>\n",
       "    </tr>\n",
       "    <tr>\n",
       "      <th>Regulator</th>\n",
       "      <td>0.694042</td>\n",
       "      <td>0.695053</td>\n",
       "      <td>0.705181</td>\n",
       "      <td>0.707532</td>\n",
       "    </tr>\n",
       "  </tbody>\n",
       "</table>\n",
       "</div>"
      ],
      "text/plain": [
       "               Volumetric Tariff  Monthly Power Peak  Yearly Power Peak  \\\n",
       "Equal Weights           0.628999            0.613921           0.615374   \n",
       "Authority               0.688779            0.693695           0.702550   \n",
       "Politics                0.572822            0.535512           0.530997   \n",
       "Third Party             0.696396            0.669337           0.679993   \n",
       "DSO                     0.688915            0.693440           0.702659   \n",
       "Regulator               0.694042            0.695053           0.705181   \n",
       "\n",
       "               Capacity Tariff  \n",
       "Equal Weights         0.617681  \n",
       "Authority             0.704397  \n",
       "Politics              0.534455  \n",
       "Third Party           0.683245  \n",
       "DSO                   0.704736  \n",
       "Regulator             0.707532  "
      ]
     },
     "execution_count": 52,
     "metadata": {},
     "output_type": "execute_result"
    }
   ],
   "source": [
    "results[\"Scenario 1\"]"
   ]
  },
  {
   "cell_type": "code",
   "execution_count": 35,
   "id": "9f3ae982",
   "metadata": {},
   "outputs": [
    {
     "data": {
      "text/plain": [
       "Equal Weights    Volumetric Tariff\n",
       "Authority          Capacity Tariff\n",
       "Politics         Volumetric Tariff\n",
       "Third Party      Volumetric Tariff\n",
       "DSO                Capacity Tariff\n",
       "Regulator          Capacity Tariff\n",
       "dtype: object"
      ]
     },
     "execution_count": 35,
     "metadata": {},
     "output_type": "execute_result"
    }
   ],
   "source": [
    "results[\"Scenario 1\"].idxmax(axis=1)"
   ]
  },
  {
   "cell_type": "code",
   "execution_count": 53,
   "id": "d5baff33",
   "metadata": {},
   "outputs": [
    {
     "data": {
      "text/plain": [
       "Equal Weights    Volumetric Tariff\n",
       "Authority          Capacity Tariff\n",
       "Politics         Volumetric Tariff\n",
       "Third Party      Volumetric Tariff\n",
       "DSO                Capacity Tariff\n",
       "Regulator          Capacity Tariff\n",
       "dtype: object"
      ]
     },
     "execution_count": 53,
     "metadata": {},
     "output_type": "execute_result"
    }
   ],
   "source": [
    "results[\"Scenario 1\"].idxmax(axis=1)"
   ]
  },
  {
   "cell_type": "code",
   "execution_count": 36,
   "id": "74e6f954",
   "metadata": {},
   "outputs": [
    {
     "data": {
      "text/plain": [
       "Equal Weights       Capacity Tariff\n",
       "Authority         Volumetric Tariff\n",
       "Politics            Capacity Tariff\n",
       "Third Party      Monthly Power Peak\n",
       "DSO               Volumetric Tariff\n",
       "Regulator         Volumetric Tariff\n",
       "dtype: object"
      ]
     },
     "execution_count": 36,
     "metadata": {},
     "output_type": "execute_result"
    }
   ],
   "source": [
    "results[\"Scenario 1\"].idxmin(axis=1)"
   ]
  },
  {
   "cell_type": "code",
   "execution_count": 54,
   "id": "a95f5d14",
   "metadata": {},
   "outputs": [
    {
     "data": {
      "text/plain": [
       "Equal Weights    Monthly Power Peak\n",
       "Authority         Volumetric Tariff\n",
       "Politics          Yearly Power Peak\n",
       "Third Party      Monthly Power Peak\n",
       "DSO               Volumetric Tariff\n",
       "Regulator         Volumetric Tariff\n",
       "dtype: object"
      ]
     },
     "execution_count": 54,
     "metadata": {},
     "output_type": "execute_result"
    }
   ],
   "source": [
    "results[\"Scenario 1\"].idxmin(axis=1)"
   ]
  },
  {
   "cell_type": "code",
   "execution_count": 55,
   "id": "ef7e7134",
   "metadata": {},
   "outputs": [
    {
     "data": {
      "text/html": [
       "<div>\n",
       "<style scoped>\n",
       "    .dataframe tbody tr th:only-of-type {\n",
       "        vertical-align: middle;\n",
       "    }\n",
       "\n",
       "    .dataframe tbody tr th {\n",
       "        vertical-align: top;\n",
       "    }\n",
       "\n",
       "    .dataframe thead th {\n",
       "        text-align: right;\n",
       "    }\n",
       "</style>\n",
       "<table border=\"1\" class=\"dataframe\">\n",
       "  <thead>\n",
       "    <tr style=\"text-align: right;\">\n",
       "      <th></th>\n",
       "      <th>Volumetric Tariff</th>\n",
       "      <th>Monthly Power Peak</th>\n",
       "      <th>Yearly Power Peak</th>\n",
       "      <th>Capacity Tariff</th>\n",
       "    </tr>\n",
       "  </thead>\n",
       "  <tbody>\n",
       "    <tr>\n",
       "      <th>Equal Weights</th>\n",
       "      <td>0.616339</td>\n",
       "      <td>0.771339</td>\n",
       "      <td>0.746105</td>\n",
       "      <td>0.751642</td>\n",
       "    </tr>\n",
       "    <tr>\n",
       "      <th>Authority</th>\n",
       "      <td>0.596045</td>\n",
       "      <td>0.800010</td>\n",
       "      <td>0.832866</td>\n",
       "      <td>0.819151</td>\n",
       "    </tr>\n",
       "    <tr>\n",
       "      <th>Politics</th>\n",
       "      <td>0.611170</td>\n",
       "      <td>0.747076</td>\n",
       "      <td>0.676699</td>\n",
       "      <td>0.696544</td>\n",
       "    </tr>\n",
       "    <tr>\n",
       "      <th>Third Party</th>\n",
       "      <td>0.637332</td>\n",
       "      <td>0.701321</td>\n",
       "      <td>0.743183</td>\n",
       "      <td>0.728969</td>\n",
       "    </tr>\n",
       "    <tr>\n",
       "      <th>DSO</th>\n",
       "      <td>0.585911</td>\n",
       "      <td>0.803574</td>\n",
       "      <td>0.840037</td>\n",
       "      <td>0.824823</td>\n",
       "    </tr>\n",
       "    <tr>\n",
       "      <th>Regulator</th>\n",
       "      <td>0.586257</td>\n",
       "      <td>0.792585</td>\n",
       "      <td>0.835753</td>\n",
       "      <td>0.818549</td>\n",
       "    </tr>\n",
       "  </tbody>\n",
       "</table>\n",
       "</div>"
      ],
      "text/plain": [
       "               Volumetric Tariff  Monthly Power Peak  Yearly Power Peak  \\\n",
       "Equal Weights           0.616339            0.771339           0.746105   \n",
       "Authority               0.596045            0.800010           0.832866   \n",
       "Politics                0.611170            0.747076           0.676699   \n",
       "Third Party             0.637332            0.701321           0.743183   \n",
       "DSO                     0.585911            0.803574           0.840037   \n",
       "Regulator               0.586257            0.792585           0.835753   \n",
       "\n",
       "               Capacity Tariff  \n",
       "Equal Weights         0.751642  \n",
       "Authority             0.819151  \n",
       "Politics              0.696544  \n",
       "Third Party           0.728969  \n",
       "DSO                   0.824823  \n",
       "Regulator             0.818549  "
      ]
     },
     "execution_count": 55,
     "metadata": {},
     "output_type": "execute_result"
    }
   ],
   "source": [
    "results[\"Scenario 4\"]"
   ]
  },
  {
   "cell_type": "code",
   "execution_count": 56,
   "id": "754f5480",
   "metadata": {},
   "outputs": [
    {
     "data": {
      "text/plain": [
       "Equal Weights    Monthly Power Peak\n",
       "Authority         Yearly Power Peak\n",
       "Politics         Monthly Power Peak\n",
       "Third Party       Yearly Power Peak\n",
       "DSO               Yearly Power Peak\n",
       "Regulator         Yearly Power Peak\n",
       "dtype: object"
      ]
     },
     "execution_count": 56,
     "metadata": {},
     "output_type": "execute_result"
    }
   ],
   "source": [
    "results[\"Scenario 4\"].idxmax(axis=1)"
   ]
  },
  {
   "cell_type": "code",
   "execution_count": 37,
   "id": "34dc609b",
   "metadata": {},
   "outputs": [
    {
     "data": {
      "text/plain": [
       "Equal Weights    Monthly Power Peak\n",
       "Authority         Yearly Power Peak\n",
       "Politics         Monthly Power Peak\n",
       "Third Party       Yearly Power Peak\n",
       "DSO               Yearly Power Peak\n",
       "Regulator         Yearly Power Peak\n",
       "dtype: object"
      ]
     },
     "execution_count": 37,
     "metadata": {},
     "output_type": "execute_result"
    }
   ],
   "source": [
    "results[\"Scenario 4\"].idxmax(axis=1)"
   ]
  },
  {
   "cell_type": "code",
   "execution_count": 57,
   "id": "b032d957",
   "metadata": {},
   "outputs": [
    {
     "data": {
      "text/plain": [
       "Equal Weights    Volumetric Tariff\n",
       "Authority        Volumetric Tariff\n",
       "Politics         Volumetric Tariff\n",
       "Third Party      Volumetric Tariff\n",
       "DSO              Volumetric Tariff\n",
       "Regulator        Volumetric Tariff\n",
       "dtype: object"
      ]
     },
     "execution_count": 57,
     "metadata": {},
     "output_type": "execute_result"
    }
   ],
   "source": [
    "results[\"Scenario 4\"].idxmin(axis=1)"
   ]
  },
  {
   "cell_type": "code",
   "execution_count": 38,
   "id": "59b24346",
   "metadata": {},
   "outputs": [
    {
     "data": {
      "text/plain": [
       "Equal Weights    Volumetric Tariff\n",
       "Authority        Volumetric Tariff\n",
       "Politics         Volumetric Tariff\n",
       "Third Party      Volumetric Tariff\n",
       "DSO              Volumetric Tariff\n",
       "Regulator        Volumetric Tariff\n",
       "dtype: object"
      ]
     },
     "execution_count": 38,
     "metadata": {},
     "output_type": "execute_result"
    }
   ],
   "source": [
    "results[\"Scenario 4\"].idxmin(axis=1)"
   ]
  },
  {
   "cell_type": "code",
   "execution_count": null,
   "id": "84890825",
   "metadata": {},
   "outputs": [],
   "source": []
  }
 ],
 "metadata": {
  "kernelspec": {
   "display_name": "Python 3",
   "language": "python",
   "name": "python3"
  },
  "language_info": {
   "codemirror_mode": {
    "name": "ipython",
    "version": 3
   },
   "file_extension": ".py",
   "mimetype": "text/x-python",
   "name": "python",
   "nbconvert_exporter": "python",
   "pygments_lexer": "ipython3",
   "version": "3.8.8"
  }
 },
 "nbformat": 4,
 "nbformat_minor": 5
}