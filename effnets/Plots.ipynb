{
 "cells": [
  {
   "cell_type": "markdown",
   "id": "1ce929ce",
   "metadata": {},
   "source": [
    "# Plots for Paper"
   ]
  },
  {
   "cell_type": "code",
   "execution_count": 30,
   "id": "3c6f5486",
   "metadata": {},
   "outputs": [],
   "source": [
    "import pandas as pd\n",
    "import seaborn as sns\n",
    "import matplotlib.pyplot as plt"
   ]
  },
  {
   "cell_type": "code",
   "execution_count": 31,
   "id": "ae409d05",
   "metadata": {},
   "outputs": [],
   "source": [
    "from matplotlib import rc\n",
    "#rc('font',**{'family':'sans-serif','sans-serif':['Helvetica']})\n",
    "rc('font',**{'family':'serif','serif':['Times'], 'size':12})\n",
    "rc('text', usetex=True)\n",
    "import sys \n",
    "sys.path.append(\"C:/APPS/MiKTeX/21.7/fonts/source/public/rsfs\")"
   ]
  },
  {
   "cell_type": "code",
   "execution_count": 32,
   "id": "f6e376dc",
   "metadata": {},
   "outputs": [],
   "source": [
    "def change_width(ax, new_value) :\n",
    "    for patch in ax.patches :\n",
    "        current_width = patch.get_width()\n",
    "        diff = current_width - new_value\n",
    "\n",
    "        # we change the bar width\n",
    "        patch.set_width(new_value)\n",
    "\n",
    "        # we recenter the bar\n",
    "        patch.set_x(patch.get_x() + diff * .5)"
   ]
  },
  {
   "cell_type": "code",
   "execution_count": 36,
   "id": "51501112",
   "metadata": {},
   "outputs": [
    {
     "data": {
      "text/html": [
       "<svg  width=\"660\" height=\"55\"><rect x=\"0\" y=\"0\" width=\"55\" height=\"55\" style=\"fill:#a6cee3;stroke-width:2;stroke:rgb(255,255,255)\"/><rect x=\"55\" y=\"0\" width=\"55\" height=\"55\" style=\"fill:#1f78b4;stroke-width:2;stroke:rgb(255,255,255)\"/><rect x=\"110\" y=\"0\" width=\"55\" height=\"55\" style=\"fill:#b2df8a;stroke-width:2;stroke:rgb(255,255,255)\"/><rect x=\"165\" y=\"0\" width=\"55\" height=\"55\" style=\"fill:#33a02c;stroke-width:2;stroke:rgb(255,255,255)\"/><rect x=\"220\" y=\"0\" width=\"55\" height=\"55\" style=\"fill:#fb9a99;stroke-width:2;stroke:rgb(255,255,255)\"/><rect x=\"275\" y=\"0\" width=\"55\" height=\"55\" style=\"fill:#e31a1c;stroke-width:2;stroke:rgb(255,255,255)\"/><rect x=\"330\" y=\"0\" width=\"55\" height=\"55\" style=\"fill:#fdbf6f;stroke-width:2;stroke:rgb(255,255,255)\"/><rect x=\"385\" y=\"0\" width=\"55\" height=\"55\" style=\"fill:#ff7f00;stroke-width:2;stroke:rgb(255,255,255)\"/><rect x=\"440\" y=\"0\" width=\"55\" height=\"55\" style=\"fill:#cab2d6;stroke-width:2;stroke:rgb(255,255,255)\"/><rect x=\"495\" y=\"0\" width=\"55\" height=\"55\" style=\"fill:#6a3d9a;stroke-width:2;stroke:rgb(255,255,255)\"/><rect x=\"550\" y=\"0\" width=\"55\" height=\"55\" style=\"fill:#ffff99;stroke-width:2;stroke:rgb(255,255,255)\"/><rect x=\"605\" y=\"0\" width=\"55\" height=\"55\" style=\"fill:#b15928;stroke-width:2;stroke:rgb(255,255,255)\"/></svg>"
      ],
      "text/plain": [
       "[(0.6509803921568628, 0.807843137254902, 0.8901960784313725),\n",
       " (0.12156862745098039, 0.47058823529411764, 0.7058823529411765),\n",
       " (0.6980392156862745, 0.8745098039215686, 0.5411764705882353),\n",
       " (0.2, 0.6274509803921569, 0.17254901960784313),\n",
       " (0.984313725490196, 0.6039215686274509, 0.6),\n",
       " (0.8901960784313725, 0.10196078431372549, 0.10980392156862745),\n",
       " (0.9921568627450981, 0.7490196078431373, 0.43529411764705883),\n",
       " (1.0, 0.4980392156862745, 0.0),\n",
       " (0.792156862745098, 0.6980392156862745, 0.8392156862745098),\n",
       " (0.41568627450980394, 0.23921568627450981, 0.6039215686274509),\n",
       " (1.0, 1.0, 0.6),\n",
       " (0.6941176470588235, 0.34901960784313724, 0.1568627450980392)]"
      ]
     },
     "execution_count": 36,
     "metadata": {},
     "output_type": "execute_result"
    }
   ],
   "source": [
    "sns.color_palette(\"Paired\")"
   ]
  },
  {
   "cell_type": "markdown",
   "id": "86d09bc5",
   "metadata": {},
   "source": [
    "## Weighting"
   ]
  },
  {
   "cell_type": "code",
   "execution_count": 38,
   "id": "930ebc7e",
   "metadata": {},
   "outputs": [
    {
     "data": {
      "text/html": [
       "<div>\n",
       "<style scoped>\n",
       "    .dataframe tbody tr th:only-of-type {\n",
       "        vertical-align: middle;\n",
       "    }\n",
       "\n",
       "    .dataframe tbody tr th {\n",
       "        vertical-align: top;\n",
       "    }\n",
       "\n",
       "    .dataframe thead th {\n",
       "        text-align: right;\n",
       "    }\n",
       "</style>\n",
       "<table border=\"1\" class=\"dataframe\">\n",
       "  <thead>\n",
       "    <tr style=\"text-align: right;\">\n",
       "      <th></th>\n",
       "      <th>Reflection of Costs</th>\n",
       "      <th>Reflection of Usage-Related Costs</th>\n",
       "      <th>Reflection of Capacity-Related Costs</th>\n",
       "      <th>Fairness and Customer Acceptance</th>\n",
       "      <th>Expansion of DER</th>\n",
       "      <th>Efficient Electricity Usage</th>\n",
       "    </tr>\n",
       "    <tr>\n",
       "      <th>Stakeholder</th>\n",
       "      <th></th>\n",
       "      <th></th>\n",
       "      <th></th>\n",
       "      <th></th>\n",
       "      <th></th>\n",
       "      <th></th>\n",
       "    </tr>\n",
       "  </thead>\n",
       "  <tbody>\n",
       "    <tr>\n",
       "      <th>DSO</th>\n",
       "      <td>0.392696</td>\n",
       "      <td>0.065449</td>\n",
       "      <td>0.327246</td>\n",
       "      <td>0.148815</td>\n",
       "      <td>0.032897</td>\n",
       "      <td>0.032897</td>\n",
       "    </tr>\n",
       "    <tr>\n",
       "      <th>Authority</th>\n",
       "      <td>0.364292</td>\n",
       "      <td>0.273219</td>\n",
       "      <td>0.091073</td>\n",
       "      <td>0.162579</td>\n",
       "      <td>0.021767</td>\n",
       "      <td>0.087069</td>\n",
       "    </tr>\n",
       "    <tr>\n",
       "      <th>Regulator</th>\n",
       "      <td>0.397931</td>\n",
       "      <td>0.049741</td>\n",
       "      <td>0.348190</td>\n",
       "      <td>0.121149</td>\n",
       "      <td>0.041494</td>\n",
       "      <td>0.041494</td>\n",
       "    </tr>\n",
       "    <tr>\n",
       "      <th>Politics</th>\n",
       "      <td>0.045455</td>\n",
       "      <td>0.037879</td>\n",
       "      <td>0.007576</td>\n",
       "      <td>0.454545</td>\n",
       "      <td>0.340909</td>\n",
       "      <td>0.113636</td>\n",
       "    </tr>\n",
       "    <tr>\n",
       "      <th>Third Party</th>\n",
       "      <td>0.227273</td>\n",
       "      <td>0.189394</td>\n",
       "      <td>0.037879</td>\n",
       "      <td>0.090909</td>\n",
       "      <td>0.113636</td>\n",
       "      <td>0.340909</td>\n",
       "    </tr>\n",
       "  </tbody>\n",
       "</table>\n",
       "</div>"
      ],
      "text/plain": [
       "             Reflection of Costs  Reflection of Usage-Related Costs  \\\n",
       "Stakeholder                                                           \n",
       "DSO                     0.392696                           0.065449   \n",
       "Authority               0.364292                           0.273219   \n",
       "Regulator               0.397931                           0.049741   \n",
       "Politics                0.045455                           0.037879   \n",
       "Third Party             0.227273                           0.189394   \n",
       "\n",
       "             Reflection of Capacity-Related Costs  \\\n",
       "Stakeholder                                         \n",
       "DSO                                      0.327246   \n",
       "Authority                                0.091073   \n",
       "Regulator                                0.348190   \n",
       "Politics                                 0.007576   \n",
       "Third Party                              0.037879   \n",
       "\n",
       "             Fairness and Customer Acceptance  Expansion of DER  \\\n",
       "Stakeholder                                                       \n",
       "DSO                                  0.148815          0.032897   \n",
       "Authority                            0.162579          0.021767   \n",
       "Regulator                            0.121149          0.041494   \n",
       "Politics                             0.454545          0.340909   \n",
       "Third Party                          0.090909          0.113636   \n",
       "\n",
       "             Efficient Electricity Usage  \n",
       "Stakeholder                               \n",
       "DSO                             0.032897  \n",
       "Authority                       0.087069  \n",
       "Regulator                       0.041494  \n",
       "Politics                        0.113636  \n",
       "Third Party                     0.340909  "
      ]
     },
     "execution_count": 38,
     "metadata": {},
     "output_type": "execute_result"
    }
   ],
   "source": [
    "# import data for weights\n",
    "weights = pd.read_excel(\"results/weighting.xlsx\", index_col=0)\n",
    "weights"
   ]
  },
  {
   "cell_type": "code",
   "execution_count": 39,
   "id": "301123e0",
   "metadata": {},
   "outputs": [],
   "source": [
    "tmp = sns.color_palette(\"Paired\")\n",
    "colors = [tmp[5], tmp[6], tmp[10], tmp[2], tmp[1], tmp[9]]"
   ]
  },
  {
   "cell_type": "code",
   "execution_count": 38,
   "id": "62eb83d0",
   "metadata": {},
   "outputs": [
    {
     "data": {
      "image/png": "[encoded data removed]",
      "text/plain": [
       "<Figure size 396x252 with 1 Axes>"
      ]
     },
     "metadata": {
      "needs_background": "light"
     },
     "output_type": "display_data"
    }
   ],
   "source": [
    "ax = weights.multiply(100).loc[[\"Authority\", \"Politics\", \"Third\", \"DSO\", \"Regulator\"]].plot.bar(\n",
    "    stacked=True, color=colors, figsize=(5.5,3.5))#\n",
    "change_width(ax, 0.8)\n",
    "ax.set_xlabel(\"\")\n",
    "ax.set_xticklabels(ax.get_xticklabels(), rotation=0)\n",
    "ax.set_ylim(0,100)\n",
    "ax.set_ylabel(\"Weight [\\%]\")\n",
    "plt.legend(ncols=2, loc=\"lower center\", bbox_to_anchor=(0.45,-0.37))\n",
    "plt.savefig('results/plots/weights.pdf', bbox_inches='tight')"
   ]
  },
  {
   "cell_type": "code",
   "execution_count": 43,
   "id": "e7309927",
   "metadata": {},
   "outputs": [
    {
     "data": {
      "image/png": "[encoded data removed]",
      "text/plain": [
       "<Figure size 396x180 with 1 Axes>"
      ]
     },
     "metadata": {
      "needs_background": "light"
     },
     "output_type": "display_data"
    }
   ],
   "source": [
    "ax = weights.multiply(100).loc[[\"Authority\", \"Politics\", \"Third Party\", \"DSO\", \"Regulator\"]].plot.bar(\n",
    "    stacked=True, color=colors, figsize=(5.5,2.5))#\n",
    "change_width(ax, 0.8)\n",
    "ax.set_xlabel(\"\")\n",
    "ax.set_xticklabels(ax.get_xticklabels(), rotation=0)\n",
    "ax.set_ylim(0,100)\n",
    "ax.set_ylabel(\"Weight [\\%]\")\n",
    "plt.legend(ncols=2, loc=\"lower center\", bbox_to_anchor=(0.45,-0.6))\n",
    "plt.savefig('results/plots/weights.pdf', bbox_inches='tight')"
   ]
  },
  {
   "cell_type": "markdown",
   "id": "b9d2f693",
   "metadata": {},
   "source": [
    "## Level of Fulfillment"
   ]
  },
  {
   "cell_type": "code",
   "execution_count": 44,
   "id": "0d91e561",
   "metadata": {},
   "outputs": [
    {
     "data": {
      "text/html": [
       "<div>\n",
       "<style scoped>\n",
       "    .dataframe tbody tr th:only-of-type {\n",
       "        vertical-align: middle;\n",
       "    }\n",
       "\n",
       "    .dataframe tbody tr th {\n",
       "        vertical-align: top;\n",
       "    }\n",
       "\n",
       "    .dataframe thead th {\n",
       "        text-align: right;\n",
       "    }\n",
       "</style>\n",
       "<table border=\"1\" class=\"dataframe\">\n",
       "  <thead>\n",
       "    <tr style=\"text-align: right;\">\n",
       "      <th></th>\n",
       "      <th>Volumetric Tariff</th>\n",
       "      <th>Monthly Power Peak</th>\n",
       "      <th>Yearly Power Peak</th>\n",
       "      <th>Capacity Tariff</th>\n",
       "      <th>Criteria</th>\n",
       "      <th>Scenario</th>\n",
       "    </tr>\n",
       "  </thead>\n",
       "  <tbody>\n",
       "    <tr>\n",
       "      <th>Reflection of Costs</th>\n",
       "      <td>0.954289</td>\n",
       "      <td>0.945443</td>\n",
       "      <td>0.975437</td>\n",
       "      <td>0.982881</td>\n",
       "      <td>Reflection of Costs</td>\n",
       "      <td>1</td>\n",
       "    </tr>\n",
       "    <tr>\n",
       "      <th>Reflection of Usage-Related Costs</th>\n",
       "      <td>0.000000</td>\n",
       "      <td>0.002488</td>\n",
       "      <td>0.001614</td>\n",
       "      <td>0.001071</td>\n",
       "      <td>Reflection of Usage-Related Costs</td>\n",
       "      <td>1</td>\n",
       "    </tr>\n",
       "    <tr>\n",
       "      <th>Reflection of Capacity-Related Costs</th>\n",
       "      <td>0.000000</td>\n",
       "      <td>0.025165</td>\n",
       "      <td>0.025165</td>\n",
       "      <td>0.022022</td>\n",
       "      <td>Reflection of Capacity-Related Costs</td>\n",
       "      <td>1</td>\n",
       "    </tr>\n",
       "    <tr>\n",
       "      <th>Fairness and Customer Acceptance</th>\n",
       "      <td>0.000000</td>\n",
       "      <td>0.060480</td>\n",
       "      <td>0.039677</td>\n",
       "      <td>0.035830</td>\n",
       "      <td>Fairness and Customer Acceptance</td>\n",
       "      <td>1</td>\n",
       "    </tr>\n",
       "    <tr>\n",
       "      <th>Expansion of DER</th>\n",
       "      <td>0.069707</td>\n",
       "      <td>-0.107635</td>\n",
       "      <td>-0.102170</td>\n",
       "      <td>-0.088408</td>\n",
       "      <td>Expansion of DER</td>\n",
       "      <td>1</td>\n",
       "    </tr>\n",
       "    <tr>\n",
       "      <th>Efficient Electricity Usage</th>\n",
       "      <td>0.500000</td>\n",
       "      <td>0.459016</td>\n",
       "      <td>0.474250</td>\n",
       "      <td>0.476629</td>\n",
       "      <td>Efficient Electricity Usage</td>\n",
       "      <td>1</td>\n",
       "    </tr>\n",
       "    <tr>\n",
       "      <th>Reflection of Costs</th>\n",
       "      <td>0.902827</td>\n",
       "      <td>0.867431</td>\n",
       "      <td>0.938277</td>\n",
       "      <td>0.952311</td>\n",
       "      <td>Reflection of Costs</td>\n",
       "      <td>2</td>\n",
       "    </tr>\n",
       "    <tr>\n",
       "      <th>Reflection of Usage-Related Costs</th>\n",
       "      <td>0.000000</td>\n",
       "      <td>0.005265</td>\n",
       "      <td>0.004280</td>\n",
       "      <td>0.003930</td>\n",
       "      <td>Reflection of Usage-Related Costs</td>\n",
       "      <td>2</td>\n",
       "    </tr>\n",
       "    <tr>\n",
       "      <th>Reflection of Capacity-Related Costs</th>\n",
       "      <td>0.000000</td>\n",
       "      <td>0.044104</td>\n",
       "      <td>0.044104</td>\n",
       "      <td>0.040209</td>\n",
       "      <td>Reflection of Capacity-Related Costs</td>\n",
       "      <td>2</td>\n",
       "    </tr>\n",
       "    <tr>\n",
       "      <th>Fairness and Customer Acceptance</th>\n",
       "      <td>0.076840</td>\n",
       "      <td>0.247552</td>\n",
       "      <td>0.195446</td>\n",
       "      <td>0.176341</td>\n",
       "      <td>Fairness and Customer Acceptance</td>\n",
       "      <td>2</td>\n",
       "    </tr>\n",
       "    <tr>\n",
       "      <th>Expansion of DER</th>\n",
       "      <td>0.069707</td>\n",
       "      <td>-0.064806</td>\n",
       "      <td>-0.054146</td>\n",
       "      <td>-0.053964</td>\n",
       "      <td>Expansion of DER</td>\n",
       "      <td>2</td>\n",
       "    </tr>\n",
       "    <tr>\n",
       "      <th>Efficient Electricity Usage</th>\n",
       "      <td>0.500000</td>\n",
       "      <td>0.408392</td>\n",
       "      <td>0.443610</td>\n",
       "      <td>0.447819</td>\n",
       "      <td>Efficient Electricity Usage</td>\n",
       "      <td>2</td>\n",
       "    </tr>\n",
       "    <tr>\n",
       "      <th>Reflection of Costs</th>\n",
       "      <td>0.627685</td>\n",
       "      <td>0.822637</td>\n",
       "      <td>0.927993</td>\n",
       "      <td>0.957223</td>\n",
       "      <td>Reflection of Costs</td>\n",
       "      <td>3</td>\n",
       "    </tr>\n",
       "    <tr>\n",
       "      <th>Reflection of Usage-Related Costs</th>\n",
       "      <td>0.000000</td>\n",
       "      <td>0.041142</td>\n",
       "      <td>0.038259</td>\n",
       "      <td>0.034151</td>\n",
       "      <td>Reflection of Usage-Related Costs</td>\n",
       "      <td>3</td>\n",
       "    </tr>\n",
       "    <tr>\n",
       "      <th>Reflection of Capacity-Related Costs</th>\n",
       "      <td>0.000000</td>\n",
       "      <td>0.165483</td>\n",
       "      <td>0.165483</td>\n",
       "      <td>0.134781</td>\n",
       "      <td>Reflection of Capacity-Related Costs</td>\n",
       "      <td>3</td>\n",
       "    </tr>\n",
       "    <tr>\n",
       "      <th>Fairness and Customer Acceptance</th>\n",
       "      <td>0.075685</td>\n",
       "      <td>0.329875</td>\n",
       "      <td>0.225463</td>\n",
       "      <td>0.239485</td>\n",
       "      <td>Fairness and Customer Acceptance</td>\n",
       "      <td>3</td>\n",
       "    </tr>\n",
       "    <tr>\n",
       "      <th>Expansion of DER</th>\n",
       "      <td>0.069707</td>\n",
       "      <td>-0.066071</td>\n",
       "      <td>-0.066054</td>\n",
       "      <td>-0.065014</td>\n",
       "      <td>Expansion of DER</td>\n",
       "      <td>3</td>\n",
       "    </tr>\n",
       "    <tr>\n",
       "      <th>Efficient Electricity Usage</th>\n",
       "      <td>0.500000</td>\n",
       "      <td>0.361912</td>\n",
       "      <td>0.448574</td>\n",
       "      <td>0.390930</td>\n",
       "      <td>Efficient Electricity Usage</td>\n",
       "      <td>3</td>\n",
       "    </tr>\n",
       "    <tr>\n",
       "      <th>Reflection of Costs</th>\n",
       "      <td>0.648429</td>\n",
       "      <td>0.835803</td>\n",
       "      <td>0.992364</td>\n",
       "      <td>0.970834</td>\n",
       "      <td>Reflection of Costs</td>\n",
       "      <td>4</td>\n",
       "    </tr>\n",
       "    <tr>\n",
       "      <th>Reflection of Usage-Related Costs</th>\n",
       "      <td>0.000000</td>\n",
       "      <td>0.014639</td>\n",
       "      <td>0.020424</td>\n",
       "      <td>0.022376</td>\n",
       "      <td>Reflection of Usage-Related Costs</td>\n",
       "      <td>4</td>\n",
       "    </tr>\n",
       "    <tr>\n",
       "      <th>Reflection of Capacity-Related Costs</th>\n",
       "      <td>0.000000</td>\n",
       "      <td>0.356875</td>\n",
       "      <td>0.357150</td>\n",
       "      <td>0.292111</td>\n",
       "      <td>Reflection of Capacity-Related Costs</td>\n",
       "      <td>4</td>\n",
       "    </tr>\n",
       "    <tr>\n",
       "      <th>Fairness and Customer Acceptance</th>\n",
       "      <td>0.114950</td>\n",
       "      <td>0.513788</td>\n",
       "      <td>0.323386</td>\n",
       "      <td>0.378447</td>\n",
       "      <td>Fairness and Customer Acceptance</td>\n",
       "      <td>4</td>\n",
       "    </tr>\n",
       "    <tr>\n",
       "      <th>Expansion of DER</th>\n",
       "      <td>0.069707</td>\n",
       "      <td>-0.067772</td>\n",
       "      <td>-0.063590</td>\n",
       "      <td>-0.065353</td>\n",
       "      <td>Expansion of DER</td>\n",
       "      <td>4</td>\n",
       "    </tr>\n",
       "    <tr>\n",
       "      <th>Efficient Electricity Usage</th>\n",
       "      <td>0.500000</td>\n",
       "      <td>0.341905</td>\n",
       "      <td>0.407998</td>\n",
       "      <td>0.390895</td>\n",
       "      <td>Efficient Electricity Usage</td>\n",
       "      <td>4</td>\n",
       "    </tr>\n",
       "  </tbody>\n",
       "</table>\n",
       "</div>"
      ],
      "text/plain": [
       "                                      Volumetric Tariff  Monthly Power Peak  \\\n",
       "Reflection of Costs                            0.954289            0.945443   \n",
       "Reflection of Usage-Related Costs              0.000000            0.002488   \n",
       "Reflection of Capacity-Related Costs           0.000000            0.025165   \n",
       "Fairness and Customer Acceptance               0.000000            0.060480   \n",
       "Expansion of DER                               0.069707           -0.107635   \n",
       "Efficient Electricity Usage                    0.500000            0.459016   \n",
       "Reflection of Costs                            0.902827            0.867431   \n",
       "Reflection of Usage-Related Costs              0.000000            0.005265   \n",
       "Reflection of Capacity-Related Costs           0.000000            0.044104   \n",
       "Fairness and Customer Acceptance               0.076840            0.247552   \n",
       "Expansion of DER                               0.069707           -0.064806   \n",
       "Efficient Electricity Usage                    0.500000            0.408392   \n",
       "Reflection of Costs                            0.627685            0.822637   \n",
       "Reflection of Usage-Related Costs              0.000000            0.041142   \n",
       "Reflection of Capacity-Related Costs           0.000000            0.165483   \n",
       "Fairness and Customer Acceptance               0.075685            0.329875   \n",
       "Expansion of DER                               0.069707           -0.066071   \n",
       "Efficient Electricity Usage                    0.500000            0.361912   \n",
       "Reflection of Costs                            0.648429            0.835803   \n",
       "Reflection of Usage-Related Costs              0.000000            0.014639   \n",
       "Reflection of Capacity-Related Costs           0.000000            0.356875   \n",
       "Fairness and Customer Acceptance               0.114950            0.513788   \n",
       "Expansion of DER                               0.069707           -0.067772   \n",
       "Efficient Electricity Usage                    0.500000            0.341905   \n",
       "\n",
       "                                      Yearly Power Peak  Capacity Tariff  \\\n",
       "Reflection of Costs                            0.975437         0.982881   \n",
       "Reflection of Usage-Related Costs              0.001614         0.001071   \n",
       "Reflection of Capacity-Related Costs           0.025165         0.022022   \n",
       "Fairness and Customer Acceptance               0.039677         0.035830   \n",
       "Expansion of DER                              -0.102170        -0.088408   \n",
       "Efficient Electricity Usage                    0.474250         0.476629   \n",
       "Reflection of Costs                            0.938277         0.952311   \n",
       "Reflection of Usage-Related Costs              0.004280         0.003930   \n",
       "Reflection of Capacity-Related Costs           0.044104         0.040209   \n",
       "Fairness and Customer Acceptance               0.195446         0.176341   \n",
       "Expansion of DER                              -0.054146        -0.053964   \n",
       "Efficient Electricity Usage                    0.443610         0.447819   \n",
       "Reflection of Costs                            0.927993         0.957223   \n",
       "Reflection of Usage-Related Costs              0.038259         0.034151   \n",
       "Reflection of Capacity-Related Costs           0.165483         0.134781   \n",
       "Fairness and Customer Acceptance               0.225463         0.239485   \n",
       "Expansion of DER                              -0.066054        -0.065014   \n",
       "Efficient Electricity Usage                    0.448574         0.390930   \n",
       "Reflection of Costs                            0.992364         0.970834   \n",
       "Reflection of Usage-Related Costs              0.020424         0.022376   \n",
       "Reflection of Capacity-Related Costs           0.357150         0.292111   \n",
       "Fairness and Customer Acceptance               0.323386         0.378447   \n",
       "Expansion of DER                              -0.063590        -0.065353   \n",
       "Efficient Electricity Usage                    0.407998         0.390895   \n",
       "\n",
       "                                                                  Criteria  \\\n",
       "Reflection of Costs                                    Reflection of Costs   \n",
       "Reflection of Usage-Related Costs        Reflection of Usage-Related Costs   \n",
       "Reflection of Capacity-Related Costs  Reflection of Capacity-Related Costs   \n",
       "Fairness and Customer Acceptance          Fairness and Customer Acceptance   \n",
       "Expansion of DER                                          Expansion of DER   \n",
       "Efficient Electricity Usage                    Efficient Electricity Usage   \n",
       "Reflection of Costs                                    Reflection of Costs   \n",
       "Reflection of Usage-Related Costs        Reflection of Usage-Related Costs   \n",
       "Reflection of Capacity-Related Costs  Reflection of Capacity-Related Costs   \n",
       "Fairness and Customer Acceptance          Fairness and Customer Acceptance   \n",
       "Expansion of DER                                          Expansion of DER   \n",
       "Efficient Electricity Usage                    Efficient Electricity Usage   \n",
       "Reflection of Costs                                    Reflection of Costs   \n",
       "Reflection of Usage-Related Costs        Reflection of Usage-Related Costs   \n",
       "Reflection of Capacity-Related Costs  Reflection of Capacity-Related Costs   \n",
       "Fairness and Customer Acceptance          Fairness and Customer Acceptance   \n",
       "Expansion of DER                                          Expansion of DER   \n",
       "Efficient Electricity Usage                    Efficient Electricity Usage   \n",
       "Reflection of Costs                                    Reflection of Costs   \n",
       "Reflection of Usage-Related Costs        Reflection of Usage-Related Costs   \n",
       "Reflection of Capacity-Related Costs  Reflection of Capacity-Related Costs   \n",
       "Fairness and Customer Acceptance          Fairness and Customer Acceptance   \n",
       "Expansion of DER                                          Expansion of DER   \n",
       "Efficient Electricity Usage                    Efficient Electricity Usage   \n",
       "\n",
       "                                      Scenario  \n",
       "Reflection of Costs                          1  \n",
       "Reflection of Usage-Related Costs            1  \n",
       "Reflection of Capacity-Related Costs         1  \n",
       "Fairness and Customer Acceptance             1  \n",
       "Expansion of DER                             1  \n",
       "Efficient Electricity Usage                  1  \n",
       "Reflection of Costs                          2  \n",
       "Reflection of Usage-Related Costs            2  \n",
       "Reflection of Capacity-Related Costs         2  \n",
       "Fairness and Customer Acceptance             2  \n",
       "Expansion of DER                             2  \n",
       "Efficient Electricity Usage                  2  \n",
       "Reflection of Costs                          3  \n",
       "Reflection of Usage-Related Costs            3  \n",
       "Reflection of Capacity-Related Costs         3  \n",
       "Fairness and Customer Acceptance             3  \n",
       "Expansion of DER                             3  \n",
       "Efficient Electricity Usage                  3  \n",
       "Reflection of Costs                          4  \n",
       "Reflection of Usage-Related Costs            4  \n",
       "Reflection of Capacity-Related Costs         4  \n",
       "Fairness and Customer Acceptance             4  \n",
       "Expansion of DER                             4  \n",
       "Efficient Electricity Usage                  4  "
      ]
     },
     "execution_count": 44,
     "metadata": {},
     "output_type": "execute_result"
    }
   ],
   "source": [
    "results = pd.read_excel(\"results/resultmatrix.xlsx\", index_col=0)\n",
    "results"
   ]
  },
  {
   "cell_type": "code",
   "execution_count": 45,
   "id": "8d6c0257",
   "metadata": {},
   "outputs": [],
   "source": [
    "tariffs = ['Volumetric Tariff', 'Monthly Power Peak', 'Yearly Power Peak', 'Capacity Tariff']"
   ]
  },
  {
   "cell_type": "code",
   "execution_count": 46,
   "id": "912efd9d",
   "metadata": {},
   "outputs": [],
   "source": [
    "scenarios = [1, 2, 3, 4]\n",
    "scenario_names = {\n",
    "    1: \"Scenario 1: High Inflexibility\",\n",
    "    2: \"Scenario 2: Increase in Peak-Consumption\",\n",
    "    3: \"Scenario 3: Increase in Local Production\", \n",
    "    4: \"Scenario 4: High Flexibility\"\n",
    "}"
   ]
  },
  {
   "cell_type": "code",
   "execution_count": 47,
   "id": "cd8f2632",
   "metadata": {},
   "outputs": [],
   "source": [
    "criteria_translation = {\n",
    "    \"Reflection of Costs\": 'Reflection\\nof Costs',\n",
    "    \"Reflection of Usage-Related Costs\": 'Reflection\\nof Usage-\\nRelated Costs',\n",
    "    \"Reflection of Capacity-Related Costs\": 'Reflection\\nof Capacity-\\nRelated Costs',\n",
    "    \"Fairness and Customer Acceptance\": 'Fairness and\\nCustomer\\nAcceptance',\n",
    "    \"Expansion of DER\": 'Expansion\\nof DER', \n",
    "    \"Efficient Electricity Usage\": 'Efficient\\nElectricity\\nUsage'}"
   ]
  },
  {
   "cell_type": "code",
   "execution_count": 48,
   "id": "f888b91b",
   "metadata": {},
   "outputs": [
    {
     "data": {
      "image/png": "[encoded data removed]",
      "text/plain": [
       "<Figure size 432x288 with 1 Axes>"
      ]
     },
     "metadata": {
      "needs_background": "light"
     },
     "output_type": "display_data"
    }
   ],
   "source": [
    "tmp = sns.color_palette(\"Paired\")\n",
    "colors = [tmp[1], tmp[5], tmp[6], \"k\"]\n",
    "plot_df = results.loc[results[\"Scenario\"]==1][tariffs].rename(index=criteria_translation)\n",
    "ax=plot_df.plot.bar(color=colors, width=0.8)"
   ]
  },
  {
   "cell_type": "code",
   "execution_count": 54,
   "id": "e7338b80",
   "metadata": {},
   "outputs": [
    {
     "data": {
      "text/plain": [
       "<matplotlib.legend.Legend at 0x284cd82e460>"
      ]
     },
     "execution_count": 54,
     "metadata": {},
     "output_type": "execute_result"
    },
    {
     "data": {
      "image/png": "[encoded data removed]",
      "text/plain": [
       "<Figure size 432x396 with 4 Axes>"
      ]
     },
     "metadata": {
      "needs_background": "light"
     },
     "output_type": "display_data"
    }
   ],
   "source": [
    "tmp = sns.color_palette(\"Paired\")\n",
    "colors = [tmp[1], tmp[5], tmp[6], \"k\"]\n",
    "fig, axes = plt.subplots(4, figsize=(6, 5.5))\n",
    "for idx, ax in enumerate(axes):\n",
    "    plot_df = results.loc[results[\"Scenario\"]==scenarios[idx]][tariffs].rename(index=criteria_translation)\n",
    "    plot_df.plot.bar(color=colors, width=0.8, ax=ax)\n",
    "    ax.legend().remove()\n",
    "    if idx==3:\n",
    "        ax.set_xticklabels(ax.get_xticklabels(), rotation=0)\n",
    "    else:\n",
    "        ax.set_xticklabels([])\n",
    "    ax.set_title(scenario_names[scenarios[idx]])\n",
    "plt.tight_layout()\n",
    "plt.legend(ncols=2, loc=\"lower center\", bbox_to_anchor=(0.475,-1.7))\n",
    "#plt.savefig('results/plots/fulfillment.pdf', bbox_inches='tight')"
   ]
  },
  {
   "cell_type": "code",
   "execution_count": 55,
   "id": "057f13e6",
   "metadata": {},
   "outputs": [],
   "source": [
    "scenario_names_reduced = {\n",
    "    1: \"Scenario 1: Low Flexibility\",\n",
    "    4: \"Scenario 2: High Flexibility\"\n",
    "}"
   ]
  },
  {
   "cell_type": "code",
   "execution_count": 59,
   "id": "fc00f3b0",
   "metadata": {},
   "outputs": [
    {
     "data": {
      "text/plain": [
       "<matplotlib.legend.Legend at 0x284cdff0820>"
      ]
     },
     "execution_count": 59,
     "metadata": {},
     "output_type": "execute_result"
    },
    {
     "data": {
      "image/png": "[encoded data removed]",
      "text/plain": [
       "<Figure size 432x252 with 2 Axes>"
      ]
     },
     "metadata": {
      "needs_background": "light"
     },
     "output_type": "display_data"
    }
   ],
   "source": [
    "tmp = sns.color_palette(\"Paired\")\n",
    "colors = [tmp[1], tmp[5], tmp[6], \"k\"]\n",
    "fig, axes = plt.subplots(2, figsize=(6, 3.5))\n",
    "for idx, scenario in enumerate([1, 4]):\n",
    "    ax=axes[idx]\n",
    "    plot_df = results.loc[results[\"Scenario\"]==scenario][tariffs].rename(index=criteria_translation)\n",
    "    plot_df.plot.bar(color=colors, width=0.8, ax=ax)\n",
    "    ax.legend().remove()\n",
    "    if idx==1:\n",
    "        ax.set_xticklabels(ax.get_xticklabels(), rotation=0)\n",
    "    else:\n",
    "        ax.set_xticklabels([])\n",
    "    ax.set_title(scenario_names_reduced[scenario])\n",
    "plt.tight_layout()\n",
    "plt.legend(ncols=2, loc=\"lower center\", bbox_to_anchor=(0.475,-1.4))\n",
    "#plt.savefig('results/plots/fulfillment_reduced.pdf', bbox_inches='tight')"
   ]
  },
  {
   "cell_type": "code",
   "execution_count": 61,
   "id": "f09fa94d",
   "metadata": {},
   "outputs": [
    {
     "data": {
      "image/png": "[encoded data removed]",
      "text/plain": [
       "<Figure size 396x396 with 4 Axes>"
      ]
     },
     "metadata": {
      "needs_background": "light"
     },
     "output_type": "display_data"
    }
   ],
   "source": [
    "tmp = sns.color_palette(\"Paired\")\n",
    "colors = [tmp[5], tmp[6], tmp[10], tmp[2], tmp[1], tmp[9]]\n",
    "fig, axes = plt.subplots(4, figsize=(5.5, 5.5))\n",
    "for idx, ax in enumerate(axes):\n",
    "    plot_df = results.loc[results[\"Scenario\"]==scenarios[idx]][tariffs].rename(index=criteria_translation)\n",
    "    plot_df.T.plot.bar(color=colors, width=0.8, ax=ax, stacked=True)\n",
    "    ax.legend().remove()\n",
    "    if idx==3:\n",
    "        ax.set_xticklabels(ax.get_xticklabels(), rotation=0)\n",
    "    else:\n",
    "        ax.set_xticklabels([])\n",
    "    ax.set_title(scenario_names[scenarios[idx]])\n",
    "plt.tight_layout()"
   ]
  },
  {
   "cell_type": "markdown",
   "id": "28400209",
   "metadata": {},
   "source": [
    "## Overall Ranking"
   ]
  },
  {
   "cell_type": "code",
   "execution_count": 62,
   "id": "367868ed",
   "metadata": {},
   "outputs": [],
   "source": [
    "scenario_names = {\n",
    "    'Scenario 1': \"Scenario 1: High Inflexibility\",\n",
    "    'Scenario 2': \"Scenario 2: Increase in Peak-Consumption\",\n",
    "    'Scenario 3': \"Scenario 3: Increase in Local Production\", \n",
    "    'Scenario 4': \"Scenario 4: High Flexibility\"\n",
    "}"
   ]
  },
  {
   "cell_type": "code",
   "execution_count": 63,
   "id": "32be577a",
   "metadata": {},
   "outputs": [],
   "source": [
    "scenario_names_reduced = {\n",
    "    'Scenario 1': \"Scenario 1: Low Flexibility\",\n",
    "    'Scenario 4': \"Scenario 2: High Flexibility\"\n",
    "}"
   ]
  },
  {
   "cell_type": "code",
   "execution_count": 64,
   "id": "aecc2594",
   "metadata": {},
   "outputs": [],
   "source": [
    "results = {}\n",
    "scenarios = ['Scenario 1', 'Scenario 2', 'Scenario 3', 'Scenario 4']\n",
    "for scenario in scenarios:\n",
    "    tmp = pd.read_csv(f\"results/end_rating_{scenario}.csv\", index_col=0)\n",
    "    tmp.index = ['Volumetric Tariff', 'Monthly Power Peak', 'Yearly Power Peak', 'Capacity Tariff']\n",
    "    results[scenario] = tmp.T"
   ]
  },
  {
   "cell_type": "code",
   "execution_count": 65,
   "id": "122c07e0",
   "metadata": {},
   "outputs": [
    {
     "data": {
      "text/plain": [
       "<matplotlib.legend.Legend at 0x284cdd43a30>"
      ]
     },
     "execution_count": 65,
     "metadata": {},
     "output_type": "execute_result"
    },
    {
     "data": {
      "image/png": "[encoded data removed]",
      "text/plain": [
       "<Figure size 396x396 with 4 Axes>"
      ]
     },
     "metadata": {
      "needs_background": "light"
     },
     "output_type": "display_data"
    }
   ],
   "source": [
    "tmp = sns.color_palette(\"Paired\")\n",
    "colors = [tmp[1], tmp[5], tmp[6], \"k\"]\n",
    "fig, axes = plt.subplots(4, figsize=(5.5, 5.5))\n",
    "for idx, ax in enumerate(axes):\n",
    "    results[scenarios[idx]].plot.bar(color=colors, width=0.8, ax=ax)\n",
    "    ax.legend().remove()\n",
    "    if idx==3:\n",
    "        ax.set_xticklabels(ax.get_xticklabels(), rotation=0)\n",
    "    else:\n",
    "        ax.set_xticklabels([])\n",
    "    ax.set_title(scenario_names[scenarios[idx]])\n",
    "plt.tight_layout()\n",
    "plt.legend(ncols=2, loc=\"lower center\", bbox_to_anchor=(0.475,-1.45))\n",
    "#plt.savefig('results/plots/ranking.pdf', bbox_inches='tight')"
   ]
  },
  {
   "cell_type": "code",
   "execution_count": 67,
   "id": "71a7871d",
   "metadata": {},
   "outputs": [
    {
     "data": {
      "text/plain": [
       "<matplotlib.legend.Legend at 0x284cf80d850>"
      ]
     },
     "execution_count": 67,
     "metadata": {},
     "output_type": "execute_result"
    },
    {
     "data": {
      "image/png": "[encoded data removed]",
      "text/plain": [
       "<Figure size 396x252 with 2 Axes>"
      ]
     },
     "metadata": {
      "needs_background": "light"
     },
     "output_type": "display_data"
    }
   ],
   "source": [
    "tmp = sns.color_palette(\"Paired\")\n",
    "colors = [tmp[1], tmp[5], tmp[6], \"k\"]\n",
    "fig, axes = plt.subplots(2, figsize=(5.5, 3.5))\n",
    "for idx, scenario in enumerate([\"Scenario 1\", \"Scenario 4\"]):\n",
    "    ax=axes[idx]\n",
    "    results[scenario].plot.bar(color=colors, width=0.8, ax=ax)\n",
    "    ax.legend().remove()\n",
    "    if idx==1:\n",
    "        ax.set_xticklabels(ax.get_xticklabels(), rotation=0)\n",
    "    else:\n",
    "        ax.set_xticklabels([])\n",
    "    ax.set_title(scenario_names_reduced[scenario])\n",
    "plt.tight_layout()\n",
    "plt.legend(ncols=2, loc=\"lower center\", bbox_to_anchor=(0.475,-0.85))\n",
    "#plt.savefig('results/plots/ranking_reduced.pdf', bbox_inches='tight')"
   ]
  },
  {
   "cell_type": "code",
   "execution_count": null,
   "id": "a78ea51a",
   "metadata": {},
   "outputs": [],
   "source": []
  }
 ],
 "metadata": {
  "kernelspec": {
   "display_name": "Python 3",
   "language": "python",
   "name": "python3"
  },
  "language_info": {
   "codemirror_mode": {
    "name": "ipython",
    "version": 3
   },
   "file_extension": ".py",
   "mimetype": "text/x-python",
   "name": "python",
   "nbconvert_exporter": "python",
   "pygments_lexer": "ipython3",
   "version": "3.8.8"
  }
 },
 "nbformat": 4,
 "nbformat_minor": 5
}
