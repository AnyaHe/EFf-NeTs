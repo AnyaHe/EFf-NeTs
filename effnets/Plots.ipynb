{
 "cells": [
  {
   "cell_type": "markdown",
   "id": "1ce929ce",
   "metadata": {},
   "source": [
    "# Plots for Paper"
   ]
  },
  {
   "cell_type": "code",
   "execution_count": 1,
   "id": "3c6f5486",
   "metadata": {},
   "outputs": [
    {
     "name": "stderr",
     "output_type": "stream",
     "text": [
      "C:\\APPS\\Anaconda3\\lib\\site-packages\\numpy\\_distributor_init.py:30: UserWarning: loaded more than 1 DLL from .libs:\n",
      "C:\\APPS\\Anaconda3\\lib\\site-packages\\numpy\\.libs\\libopenblas.PYQHXLVVQ7VESDPUVUADXEVJOBGHJPAY.gfortran-win_amd64.dll\n",
      "C:\\APPS\\Anaconda3\\lib\\site-packages\\numpy\\.libs\\libopenblas64__v0.3.21-gcc_10_3_0.dll\n",
      "  warnings.warn(\"loaded more than 1 DLL from .libs:\"\n"
     ]
    }
   ],
   "source": [
    "import pandas as pd\n",
    "import seaborn as sns\n",
    "import matplotlib.pyplot as plt"
   ]
  },
  {
   "cell_type": "code",
   "execution_count": 2,
   "id": "ae409d05",
   "metadata": {},
   "outputs": [],
   "source": [
    "from matplotlib import rc\n",
    "#rc('font',**{'family':'sans-serif','sans-serif':['Helvetica']})\n",
    "rc('font',**{'family':'serif','serif':['Times'], 'size':12})\n",
    "rc('text', usetex=True)\n",
    "import sys \n",
    "sys.path.append(\"C:/APPS/MiKTeX/21.7/fonts/source/public/rsfs\")"
   ]
  },
  {
   "cell_type": "code",
   "execution_count": 3,
   "id": "f6e376dc",
   "metadata": {},
   "outputs": [],
   "source": [
    "def change_width(ax, new_value) :\n",
    "    for patch in ax.patches :\n",
    "        current_width = patch.get_width()\n",
    "        diff = current_width - new_value\n",
    "\n",
    "        # we change the bar width\n",
    "        patch.set_width(new_value)\n",
    "\n",
    "        # we recenter the bar\n",
    "        patch.set_x(patch.get_x() + diff * .5)"
   ]
  },
  {
   "cell_type": "markdown",
   "id": "86d09bc5",
   "metadata": {},
   "source": [
    "## Weighting"
   ]
  },
  {
   "cell_type": "code",
   "execution_count": 5,
   "id": "930ebc7e",
   "metadata": {},
   "outputs": [
    {
     "data": {
      "text/html": [
       "<div>\n",
       "<style scoped>\n",
       "    .dataframe tbody tr th:only-of-type {\n",
       "        vertical-align: middle;\n",
       "    }\n",
       "\n",
       "    .dataframe tbody tr th {\n",
       "        vertical-align: top;\n",
       "    }\n",
       "\n",
       "    .dataframe thead th {\n",
       "        text-align: right;\n",
       "    }\n",
       "</style>\n",
       "<table border=\"1\" class=\"dataframe\">\n",
       "  <thead>\n",
       "    <tr style=\"text-align: right;\">\n",
       "      <th></th>\n",
       "      <th>Reflection of Usage-Related Costs</th>\n",
       "      <th>Reflection of Capacity-Related Costs</th>\n",
       "      <th>Fairness and Customer Acceptance</th>\n",
       "      <th>Expansion of DER</th>\n",
       "      <th>Efficient Electricity Usage</th>\n",
       "    </tr>\n",
       "    <tr>\n",
       "      <th>Stakeholder</th>\n",
       "      <th></th>\n",
       "      <th></th>\n",
       "      <th></th>\n",
       "      <th></th>\n",
       "      <th></th>\n",
       "    </tr>\n",
       "  </thead>\n",
       "  <tbody>\n",
       "    <tr>\n",
       "      <th>DSO</th>\n",
       "      <td>0.130899</td>\n",
       "      <td>0.654493</td>\n",
       "      <td>0.148815</td>\n",
       "      <td>0.032897</td>\n",
       "      <td>0.032897</td>\n",
       "    </tr>\n",
       "    <tr>\n",
       "      <th>Authority</th>\n",
       "      <td>0.546438</td>\n",
       "      <td>0.182146</td>\n",
       "      <td>0.162579</td>\n",
       "      <td>0.021767</td>\n",
       "      <td>0.087069</td>\n",
       "    </tr>\n",
       "    <tr>\n",
       "      <th>Regulator</th>\n",
       "      <td>0.099483</td>\n",
       "      <td>0.696380</td>\n",
       "      <td>0.121149</td>\n",
       "      <td>0.041494</td>\n",
       "      <td>0.041494</td>\n",
       "    </tr>\n",
       "    <tr>\n",
       "      <th>Politics</th>\n",
       "      <td>0.075758</td>\n",
       "      <td>0.015152</td>\n",
       "      <td>0.454545</td>\n",
       "      <td>0.340909</td>\n",
       "      <td>0.113636</td>\n",
       "    </tr>\n",
       "    <tr>\n",
       "      <th>Third Party</th>\n",
       "      <td>0.378788</td>\n",
       "      <td>0.075758</td>\n",
       "      <td>0.090909</td>\n",
       "      <td>0.113636</td>\n",
       "      <td>0.340909</td>\n",
       "    </tr>\n",
       "  </tbody>\n",
       "</table>\n",
       "</div>"
      ],
      "text/plain": [
       "             Reflection of Usage-Related Costs  \\\n",
       "Stakeholder                                      \n",
       "DSO                                   0.130899   \n",
       "Authority                             0.546438   \n",
       "Regulator                             0.099483   \n",
       "Politics                              0.075758   \n",
       "Third Party                           0.378788   \n",
       "\n",
       "             Reflection of Capacity-Related Costs  \\\n",
       "Stakeholder                                         \n",
       "DSO                                      0.654493   \n",
       "Authority                                0.182146   \n",
       "Regulator                                0.696380   \n",
       "Politics                                 0.015152   \n",
       "Third Party                              0.075758   \n",
       "\n",
       "             Fairness and Customer Acceptance  Expansion of DER  \\\n",
       "Stakeholder                                                       \n",
       "DSO                                  0.148815          0.032897   \n",
       "Authority                            0.162579          0.021767   \n",
       "Regulator                            0.121149          0.041494   \n",
       "Politics                             0.454545          0.340909   \n",
       "Third Party                          0.090909          0.113636   \n",
       "\n",
       "             Efficient Electricity Usage  \n",
       "Stakeholder                               \n",
       "DSO                             0.032897  \n",
       "Authority                       0.087069  \n",
       "Regulator                       0.041494  \n",
       "Politics                        0.113636  \n",
       "Third Party                     0.340909  "
      ]
     },
     "execution_count": 5,
     "metadata": {},
     "output_type": "execute_result"
    }
   ],
   "source": [
    "# import data for weights\n",
    "weights = pd.read_excel(\"results/weighting.xlsx\", index_col=0)\n",
    "weights"
   ]
  },
  {
   "cell_type": "code",
   "execution_count": 6,
   "id": "d8a6dea1",
   "metadata": {},
   "outputs": [
    {
     "data": {
      "text/html": [
       "<svg  width=\"660\" height=\"55\"><rect x=\"0\" y=\"0\" width=\"55\" height=\"55\" style=\"fill:#a6cee3;stroke-width:2;stroke:rgb(255,255,255)\"/><rect x=\"55\" y=\"0\" width=\"55\" height=\"55\" style=\"fill:#1f78b4;stroke-width:2;stroke:rgb(255,255,255)\"/><rect x=\"110\" y=\"0\" width=\"55\" height=\"55\" style=\"fill:#b2df8a;stroke-width:2;stroke:rgb(255,255,255)\"/><rect x=\"165\" y=\"0\" width=\"55\" height=\"55\" style=\"fill:#33a02c;stroke-width:2;stroke:rgb(255,255,255)\"/><rect x=\"220\" y=\"0\" width=\"55\" height=\"55\" style=\"fill:#fb9a99;stroke-width:2;stroke:rgb(255,255,255)\"/><rect x=\"275\" y=\"0\" width=\"55\" height=\"55\" style=\"fill:#e31a1c;stroke-width:2;stroke:rgb(255,255,255)\"/><rect x=\"330\" y=\"0\" width=\"55\" height=\"55\" style=\"fill:#fdbf6f;stroke-width:2;stroke:rgb(255,255,255)\"/><rect x=\"385\" y=\"0\" width=\"55\" height=\"55\" style=\"fill:#ff7f00;stroke-width:2;stroke:rgb(255,255,255)\"/><rect x=\"440\" y=\"0\" width=\"55\" height=\"55\" style=\"fill:#cab2d6;stroke-width:2;stroke:rgb(255,255,255)\"/><rect x=\"495\" y=\"0\" width=\"55\" height=\"55\" style=\"fill:#6a3d9a;stroke-width:2;stroke:rgb(255,255,255)\"/><rect x=\"550\" y=\"0\" width=\"55\" height=\"55\" style=\"fill:#ffff99;stroke-width:2;stroke:rgb(255,255,255)\"/><rect x=\"605\" y=\"0\" width=\"55\" height=\"55\" style=\"fill:#b15928;stroke-width:2;stroke:rgb(255,255,255)\"/></svg>"
      ],
      "text/plain": [
       "[(0.6509803921568628, 0.807843137254902, 0.8901960784313725),\n",
       " (0.12156862745098039, 0.47058823529411764, 0.7058823529411765),\n",
       " (0.6980392156862745, 0.8745098039215686, 0.5411764705882353),\n",
       " (0.2, 0.6274509803921569, 0.17254901960784313),\n",
       " (0.984313725490196, 0.6039215686274509, 0.6),\n",
       " (0.8901960784313725, 0.10196078431372549, 0.10980392156862745),\n",
       " (0.9921568627450981, 0.7490196078431373, 0.43529411764705883),\n",
       " (1.0, 0.4980392156862745, 0.0),\n",
       " (0.792156862745098, 0.6980392156862745, 0.8392156862745098),\n",
       " (0.41568627450980394, 0.23921568627450981, 0.6039215686274509),\n",
       " (1.0, 1.0, 0.6),\n",
       " (0.6941176470588235, 0.34901960784313724, 0.1568627450980392)]"
      ]
     },
     "execution_count": 6,
     "metadata": {},
     "output_type": "execute_result"
    }
   ],
   "source": [
    "sns.color_palette(\"Paired\")"
   ]
  },
  {
   "cell_type": "code",
   "execution_count": 7,
   "id": "301123e0",
   "metadata": {},
   "outputs": [],
   "source": [
    "tmp = sns.color_palette(\"Paired\")\n",
    "colors = [tmp[5], tmp[6], tmp[10], tmp[2], tmp[1]]"
   ]
  },
  {
   "cell_type": "code",
   "execution_count": 38,
   "id": "62eb83d0",
   "metadata": {},
   "outputs": [
    {
     "data": {
      "image/png": "[encoded data removed]",
      "text/plain": [
       "<Figure size 396x252 with 1 Axes>"
      ]
     },
     "metadata": {
      "needs_background": "light"
     },
     "output_type": "display_data"
    }
   ],
   "source": [
    "ax = weights.multiply(100).loc[[\"Authority\", \"Politics\", \"Third\", \"DSO\", \"Regulator\"]].plot.bar(\n",
    "    stacked=True, color=colors, figsize=(5.5,3.5))#\n",
    "change_width(ax, 0.8)\n",
    "ax.set_xlabel(\"\")\n",
    "ax.set_xticklabels(ax.get_xticklabels(), rotation=0)\n",
    "ax.set_ylim(0,100)\n",
    "ax.set_ylabel(\"Weight [\\%]\")\n",
    "plt.legend(ncols=2, loc=\"lower center\", bbox_to_anchor=(0.45,-0.37))\n",
    "plt.savefig('results/plots/weights.pdf', bbox_inches='tight')"
   ]
  },
  {
   "cell_type": "code",
   "execution_count": 9,
   "id": "e7309927",
   "metadata": {},
   "outputs": [
    {
     "data": {
      "image/png": "[encoded data removed]",
      "text/plain": [
       "<Figure size 396x180 with 1 Axes>"
      ]
     },
     "metadata": {
      "needs_background": "light"
     },
     "output_type": "display_data"
    }
   ],
   "source": [
    "ax = weights.multiply(100).loc[[\"Authority\", \"Politics\", \"Third Party\", \"DSO\", \"Regulator\"]].plot.bar(\n",
    "    stacked=True, color=colors, figsize=(5.5,2.5))#\n",
    "change_width(ax, 0.8)\n",
    "ax.set_xlabel(\"\")\n",
    "ax.set_xticklabels(ax.get_xticklabels(), rotation=0)\n",
    "ax.set_ylim(0,100)\n",
    "ax.set_ylabel(\"Weight [\\%]\")\n",
    "plt.legend(ncols=2, loc=\"lower center\", bbox_to_anchor=(0.45,-0.53))\n",
    "plt.savefig('results/plots/weights.pdf', bbox_inches='tight')"
   ]
  },
  {
   "cell_type": "markdown",
   "id": "b9d2f693",
   "metadata": {},
   "source": [
    "## Level of Fulfillment"
   ]
  },
  {
   "cell_type": "code",
   "execution_count": 12,
   "id": "d15bfae4",
   "metadata": {},
   "outputs": [
    {
     "data": {
      "text/html": [
       "<div>\n",
       "<style scoped>\n",
       "    .dataframe tbody tr th:only-of-type {\n",
       "        vertical-align: middle;\n",
       "    }\n",
       "\n",
       "    .dataframe tbody tr th {\n",
       "        vertical-align: top;\n",
       "    }\n",
       "\n",
       "    .dataframe thead th {\n",
       "        text-align: right;\n",
       "    }\n",
       "</style>\n",
       "<table border=\"1\" class=\"dataframe\">\n",
       "  <thead>\n",
       "    <tr style=\"text-align: right;\">\n",
       "      <th></th>\n",
       "      <th>Volumetric Tariff</th>\n",
       "      <th>Monthly Power Peak</th>\n",
       "      <th>Yearly Power Peak</th>\n",
       "      <th>Capacity Tariff</th>\n",
       "      <th>Criteria</th>\n",
       "      <th>Scenario</th>\n",
       "    </tr>\n",
       "  </thead>\n",
       "  <tbody>\n",
       "    <tr>\n",
       "      <th>Reflection of Usage-Related Costs</th>\n",
       "      <td>0.253731</td>\n",
       "      <td>0.246500</td>\n",
       "      <td>0.249405</td>\n",
       "      <td>0.250364</td>\n",
       "      <td>Reflection of Usage-Related Costs</td>\n",
       "      <td>1</td>\n",
       "    </tr>\n",
       "    <tr>\n",
       "      <th>Reflection of Capacity-Related Costs</th>\n",
       "      <td>0.241522</td>\n",
       "      <td>0.250219</td>\n",
       "      <td>0.253516</td>\n",
       "      <td>0.254743</td>\n",
       "      <td>Reflection of Capacity-Related Costs</td>\n",
       "      <td>1</td>\n",
       "    </tr>\n",
       "    <tr>\n",
       "      <th>Fairness and Customer Acceptance</th>\n",
       "      <td>0.241876</td>\n",
       "      <td>0.256807</td>\n",
       "      <td>0.251086</td>\n",
       "      <td>0.250231</td>\n",
       "      <td>Fairness and Customer Acceptance</td>\n",
       "      <td>1</td>\n",
       "    </tr>\n",
       "    <tr>\n",
       "      <th>Expansion of DER</th>\n",
       "      <td>0.277802</td>\n",
       "      <td>0.241182</td>\n",
       "      <td>0.239374</td>\n",
       "      <td>0.241643</td>\n",
       "      <td>Expansion of DER</td>\n",
       "      <td>1</td>\n",
       "    </tr>\n",
       "    <tr>\n",
       "      <th>Efficient Electricity Usage</th>\n",
       "      <td>0.256339</td>\n",
       "      <td>0.245679</td>\n",
       "      <td>0.248360</td>\n",
       "      <td>0.249621</td>\n",
       "      <td>Efficient Electricity Usage</td>\n",
       "      <td>1</td>\n",
       "    </tr>\n",
       "    <tr>\n",
       "      <th>Reflection of Usage-Related Costs</th>\n",
       "      <td>0.266140</td>\n",
       "      <td>0.239103</td>\n",
       "      <td>0.245315</td>\n",
       "      <td>0.249442</td>\n",
       "      <td>Reflection of Usage-Related Costs</td>\n",
       "      <td>2</td>\n",
       "    </tr>\n",
       "    <tr>\n",
       "      <th>Reflection of Capacity-Related Costs</th>\n",
       "      <td>0.233892</td>\n",
       "      <td>0.247833</td>\n",
       "      <td>0.257016</td>\n",
       "      <td>0.261259</td>\n",
       "      <td>Reflection of Capacity-Related Costs</td>\n",
       "      <td>2</td>\n",
       "    </tr>\n",
       "    <tr>\n",
       "      <th>Fairness and Customer Acceptance</th>\n",
       "      <td>0.223384</td>\n",
       "      <td>0.272627</td>\n",
       "      <td>0.254756</td>\n",
       "      <td>0.249233</td>\n",
       "      <td>Fairness and Customer Acceptance</td>\n",
       "      <td>2</td>\n",
       "    </tr>\n",
       "    <tr>\n",
       "      <th>Expansion of DER</th>\n",
       "      <td>0.260951</td>\n",
       "      <td>0.251461</td>\n",
       "      <td>0.245154</td>\n",
       "      <td>0.242434</td>\n",
       "      <td>Expansion of DER</td>\n",
       "      <td>2</td>\n",
       "    </tr>\n",
       "    <tr>\n",
       "      <th>Efficient Electricity Usage</th>\n",
       "      <td>0.267516</td>\n",
       "      <td>0.238545</td>\n",
       "      <td>0.244768</td>\n",
       "      <td>0.249172</td>\n",
       "      <td>Efficient Electricity Usage</td>\n",
       "      <td>2</td>\n",
       "    </tr>\n",
       "    <tr>\n",
       "      <th>Reflection of Usage-Related Costs</th>\n",
       "      <td>0.264229</td>\n",
       "      <td>0.238413</td>\n",
       "      <td>0.247603</td>\n",
       "      <td>0.249755</td>\n",
       "      <td>Reflection of Usage-Related Costs</td>\n",
       "      <td>3</td>\n",
       "    </tr>\n",
       "    <tr>\n",
       "      <th>Reflection of Capacity-Related Costs</th>\n",
       "      <td>0.212482</td>\n",
       "      <td>0.252122</td>\n",
       "      <td>0.267352</td>\n",
       "      <td>0.268043</td>\n",
       "      <td>Reflection of Capacity-Related Costs</td>\n",
       "      <td>3</td>\n",
       "    </tr>\n",
       "    <tr>\n",
       "      <th>Fairness and Customer Acceptance</th>\n",
       "      <td>0.212857</td>\n",
       "      <td>0.286456</td>\n",
       "      <td>0.246736</td>\n",
       "      <td>0.253951</td>\n",
       "      <td>Fairness and Customer Acceptance</td>\n",
       "      <td>3</td>\n",
       "    </tr>\n",
       "    <tr>\n",
       "      <th>Expansion of DER</th>\n",
       "      <td>0.256622</td>\n",
       "      <td>0.259434</td>\n",
       "      <td>0.240134</td>\n",
       "      <td>0.243809</td>\n",
       "      <td>Expansion of DER</td>\n",
       "      <td>3</td>\n",
       "    </tr>\n",
       "    <tr>\n",
       "      <th>Efficient Electricity Usage</th>\n",
       "      <td>0.271969</td>\n",
       "      <td>0.235321</td>\n",
       "      <td>0.244317</td>\n",
       "      <td>0.248393</td>\n",
       "      <td>Efficient Electricity Usage</td>\n",
       "      <td>3</td>\n",
       "    </tr>\n",
       "    <tr>\n",
       "      <th>Reflection of Usage-Related Costs</th>\n",
       "      <td>0.253202</td>\n",
       "      <td>0.238954</td>\n",
       "      <td>0.255113</td>\n",
       "      <td>0.252730</td>\n",
       "      <td>Reflection of Usage-Related Costs</td>\n",
       "      <td>4</td>\n",
       "    </tr>\n",
       "    <tr>\n",
       "      <th>Reflection of Capacity-Related Costs</th>\n",
       "      <td>0.189040</td>\n",
       "      <td>0.260823</td>\n",
       "      <td>0.279429</td>\n",
       "      <td>0.270708</td>\n",
       "      <td>Reflection of Capacity-Related Costs</td>\n",
       "      <td>4</td>\n",
       "    </tr>\n",
       "    <tr>\n",
       "      <th>Fairness and Customer Acceptance</th>\n",
       "      <td>0.191775</td>\n",
       "      <td>0.321700</td>\n",
       "      <td>0.230038</td>\n",
       "      <td>0.256487</td>\n",
       "      <td>Fairness and Customer Acceptance</td>\n",
       "      <td>4</td>\n",
       "    </tr>\n",
       "    <tr>\n",
       "      <th>Expansion of DER</th>\n",
       "      <td>0.245303</td>\n",
       "      <td>0.276470</td>\n",
       "      <td>0.232859</td>\n",
       "      <td>0.245368</td>\n",
       "      <td>Expansion of DER</td>\n",
       "      <td>4</td>\n",
       "    </tr>\n",
       "    <tr>\n",
       "      <th>Efficient Electricity Usage</th>\n",
       "      <td>0.276131</td>\n",
       "      <td>0.231873</td>\n",
       "      <td>0.245282</td>\n",
       "      <td>0.246715</td>\n",
       "      <td>Efficient Electricity Usage</td>\n",
       "      <td>4</td>\n",
       "    </tr>\n",
       "  </tbody>\n",
       "</table>\n",
       "</div>"
      ],
      "text/plain": [
       "                                      Volumetric Tariff  Monthly Power Peak  \\\n",
       "Reflection of Usage-Related Costs              0.253731            0.246500   \n",
       "Reflection of Capacity-Related Costs           0.241522            0.250219   \n",
       "Fairness and Customer Acceptance               0.241876            0.256807   \n",
       "Expansion of DER                               0.277802            0.241182   \n",
       "Efficient Electricity Usage                    0.256339            0.245679   \n",
       "Reflection of Usage-Related Costs              0.266140            0.239103   \n",
       "Reflection of Capacity-Related Costs           0.233892            0.247833   \n",
       "Fairness and Customer Acceptance               0.223384            0.272627   \n",
       "Expansion of DER                               0.260951            0.251461   \n",
       "Efficient Electricity Usage                    0.267516            0.238545   \n",
       "Reflection of Usage-Related Costs              0.264229            0.238413   \n",
       "Reflection of Capacity-Related Costs           0.212482            0.252122   \n",
       "Fairness and Customer Acceptance               0.212857            0.286456   \n",
       "Expansion of DER                               0.256622            0.259434   \n",
       "Efficient Electricity Usage                    0.271969            0.235321   \n",
       "Reflection of Usage-Related Costs              0.253202            0.238954   \n",
       "Reflection of Capacity-Related Costs           0.189040            0.260823   \n",
       "Fairness and Customer Acceptance               0.191775            0.321700   \n",
       "Expansion of DER                               0.245303            0.276470   \n",
       "Efficient Electricity Usage                    0.276131            0.231873   \n",
       "\n",
       "                                      Yearly Power Peak  Capacity Tariff  \\\n",
       "Reflection of Usage-Related Costs              0.249405         0.250364   \n",
       "Reflection of Capacity-Related Costs           0.253516         0.254743   \n",
       "Fairness and Customer Acceptance               0.251086         0.250231   \n",
       "Expansion of DER                               0.239374         0.241643   \n",
       "Efficient Electricity Usage                    0.248360         0.249621   \n",
       "Reflection of Usage-Related Costs              0.245315         0.249442   \n",
       "Reflection of Capacity-Related Costs           0.257016         0.261259   \n",
       "Fairness and Customer Acceptance               0.254756         0.249233   \n",
       "Expansion of DER                               0.245154         0.242434   \n",
       "Efficient Electricity Usage                    0.244768         0.249172   \n",
       "Reflection of Usage-Related Costs              0.247603         0.249755   \n",
       "Reflection of Capacity-Related Costs           0.267352         0.268043   \n",
       "Fairness and Customer Acceptance               0.246736         0.253951   \n",
       "Expansion of DER                               0.240134         0.243809   \n",
       "Efficient Electricity Usage                    0.244317         0.248393   \n",
       "Reflection of Usage-Related Costs              0.255113         0.252730   \n",
       "Reflection of Capacity-Related Costs           0.279429         0.270708   \n",
       "Fairness and Customer Acceptance               0.230038         0.256487   \n",
       "Expansion of DER                               0.232859         0.245368   \n",
       "Efficient Electricity Usage                    0.245282         0.246715   \n",
       "\n",
       "                                                                  Criteria  \\\n",
       "Reflection of Usage-Related Costs        Reflection of Usage-Related Costs   \n",
       "Reflection of Capacity-Related Costs  Reflection of Capacity-Related Costs   \n",
       "Fairness and Customer Acceptance          Fairness and Customer Acceptance   \n",
       "Expansion of DER                                          Expansion of DER   \n",
       "Efficient Electricity Usage                    Efficient Electricity Usage   \n",
       "Reflection of Usage-Related Costs        Reflection of Usage-Related Costs   \n",
       "Reflection of Capacity-Related Costs  Reflection of Capacity-Related Costs   \n",
       "Fairness and Customer Acceptance          Fairness and Customer Acceptance   \n",
       "Expansion of DER                                          Expansion of DER   \n",
       "Efficient Electricity Usage                    Efficient Electricity Usage   \n",
       "Reflection of Usage-Related Costs        Reflection of Usage-Related Costs   \n",
       "Reflection of Capacity-Related Costs  Reflection of Capacity-Related Costs   \n",
       "Fairness and Customer Acceptance          Fairness and Customer Acceptance   \n",
       "Expansion of DER                                          Expansion of DER   \n",
       "Efficient Electricity Usage                    Efficient Electricity Usage   \n",
       "Reflection of Usage-Related Costs        Reflection of Usage-Related Costs   \n",
       "Reflection of Capacity-Related Costs  Reflection of Capacity-Related Costs   \n",
       "Fairness and Customer Acceptance          Fairness and Customer Acceptance   \n",
       "Expansion of DER                                          Expansion of DER   \n",
       "Efficient Electricity Usage                    Efficient Electricity Usage   \n",
       "\n",
       "                                      Scenario  \n",
       "Reflection of Usage-Related Costs            1  \n",
       "Reflection of Capacity-Related Costs         1  \n",
       "Fairness and Customer Acceptance             1  \n",
       "Expansion of DER                             1  \n",
       "Efficient Electricity Usage                  1  \n",
       "Reflection of Usage-Related Costs            2  \n",
       "Reflection of Capacity-Related Costs         2  \n",
       "Fairness and Customer Acceptance             2  \n",
       "Expansion of DER                             2  \n",
       "Efficient Electricity Usage                  2  \n",
       "Reflection of Usage-Related Costs            3  \n",
       "Reflection of Capacity-Related Costs         3  \n",
       "Fairness and Customer Acceptance             3  \n",
       "Expansion of DER                             3  \n",
       "Efficient Electricity Usage                  3  \n",
       "Reflection of Usage-Related Costs            4  \n",
       "Reflection of Capacity-Related Costs         4  \n",
       "Fairness and Customer Acceptance             4  \n",
       "Expansion of DER                             4  \n",
       "Efficient Electricity Usage                  4  "
      ]
     },
     "execution_count": 12,
     "metadata": {},
     "output_type": "execute_result"
    }
   ],
   "source": [
    "results = pd.read_excel(\"results/resultmatrix.xlsx\", index_col=0)\n",
    "results"
   ]
  },
  {
   "cell_type": "code",
   "execution_count": 15,
   "id": "c8f04ed2",
   "metadata": {},
   "outputs": [],
   "source": [
    "tariffs = ['Volumetric Tariff', 'Monthly Power Peak', 'Yearly Power Peak', 'Capacity Tariff']"
   ]
  },
  {
   "cell_type": "code",
   "execution_count": 19,
   "id": "912efd9d",
   "metadata": {},
   "outputs": [],
   "source": [
    "scenarios = [1, 2, 3, 4]\n",
    "scenario_names = {\n",
    "    1: \"Scenario 1: High Inflexibility\",\n",
    "    2: \"Scenario 2: Increase in Peak-Consumption\",\n",
    "    3: \"Scenario 3: Increase in Local Production\", \n",
    "    4: \"Scenario 4: High Flexibility\"\n",
    "}"
   ]
  },
  {
   "cell_type": "code",
   "execution_count": 17,
   "id": "0655b637",
   "metadata": {},
   "outputs": [],
   "source": [
    "criteria_translation = {\n",
    "    \"Reflection of Usage-Related Costs\": 'Reflection\\nof Usage-\\nRelated Costs',\n",
    "    \"Reflection of Capacity-Related Costs\": 'Reflection\\nof Capacity-\\nRelated Costs',\n",
    "    \"Fairness and Customer Acceptance\": 'Fairness and\\nCustomer\\nAcceptance',\n",
    "    \"Expansion of DER\": 'Expansion\\nof DER', \n",
    "    \"Efficient Electricity Usage\": 'Efficient\\nElectricity\\nUsage'}"
   ]
  },
  {
   "cell_type": "code",
   "execution_count": 18,
   "id": "ae7bc9e5",
   "metadata": {},
   "outputs": [
    {
     "data": {
      "image/png": "[encoded data removed]",
      "text/plain": [
       "<Figure size 432x288 with 1 Axes>"
      ]
     },
     "metadata": {
      "needs_background": "light"
     },
     "output_type": "display_data"
    }
   ],
   "source": [
    "tmp = sns.color_palette(\"Paired\")\n",
    "colors = [tmp[1], tmp[5], tmp[6], \"k\"]\n",
    "plot_df = results.loc[results[\"Scenario\"]==1][tariffs].rename(index=criteria_translation)\n",
    "ax=plot_df.plot.bar(color=colors, width=0.8)"
   ]
  },
  {
   "cell_type": "code",
   "execution_count": 20,
   "id": "e7338b80",
   "metadata": {},
   "outputs": [
    {
     "data": {
      "image/png": "[encoded data removed]",
      "text/plain": [
       "<Figure size 396x396 with 4 Axes>"
      ]
     },
     "metadata": {
      "needs_background": "light"
     },
     "output_type": "display_data"
    }
   ],
   "source": [
    "tmp = sns.color_palette(\"Paired\")\n",
    "colors = [tmp[1], tmp[5], tmp[6], \"k\"]\n",
    "fig, axes = plt.subplots(4, figsize=(5.5, 5.5))\n",
    "for idx, ax in enumerate(axes):\n",
    "    plot_df = results.loc[results[\"Scenario\"]==scenarios[idx]][tariffs].rename(index=criteria_translation)\n",
    "    plot_df.plot.bar(color=colors, width=0.8, ax=ax)\n",
    "    ax.legend().remove()\n",
    "    if idx==3:\n",
    "        ax.set_xticklabels(ax.get_xticklabels(), rotation=0)\n",
    "    else:\n",
    "        ax.set_xticklabels([])\n",
    "    ax.set_title(scenario_names[scenarios[idx]])\n",
    "plt.tight_layout()\n",
    "plt.legend(ncols=2, loc=\"lower center\", bbox_to_anchor=(0.475,-1.45))\n",
    "plt.savefig('results/plots/fulfillment.pdf', bbox_inches='tight')"
   ]
  },
  {
   "cell_type": "code",
   "execution_count": 22,
   "id": "057f13e6",
   "metadata": {},
   "outputs": [],
   "source": [
    "scenario_names_reduced = {\n",
    "    1: \"Scenario 1: Low Flexibility\",\n",
    "    4: \"Scenario 2: High Flexibility\"\n",
    "}"
   ]
  },
  {
   "cell_type": "code",
   "execution_count": 23,
   "id": "fc00f3b0",
   "metadata": {},
   "outputs": [
    {
     "data": {
      "image/png": "[encoded data removed]",
      "text/plain": [
       "<Figure size 396x252 with 2 Axes>"
      ]
     },
     "metadata": {
      "needs_background": "light"
     },
     "output_type": "display_data"
    }
   ],
   "source": [
    "tmp = sns.color_palette(\"Paired\")\n",
    "colors = [tmp[1], tmp[5], tmp[6], \"k\"]\n",
    "fig, axes = plt.subplots(2, figsize=(5.5, 3.5))\n",
    "for idx, scenario in enumerate([1, 4]):\n",
    "    ax=axes[idx]\n",
    "    plot_df = results.loc[results[\"Scenario\"]==scenarios[idx]][tariffs].rename(index=criteria_translation)\n",
    "    plot_df.plot.bar(color=colors, width=0.8, ax=ax)\n",
    "    ax.legend().remove()\n",
    "    if idx==1:\n",
    "        ax.set_xticklabels(ax.get_xticklabels(), rotation=0)\n",
    "    else:\n",
    "        ax.set_xticklabels([])\n",
    "    ax.set_title(scenario_names_reduced[scenario])\n",
    "plt.tight_layout()\n",
    "plt.legend(ncols=2, loc=\"lower center\", bbox_to_anchor=(0.475,-1.1))\n",
    "plt.savefig('results/plots/fulfillment_reduced.pdf', bbox_inches='tight')"
   ]
  },
  {
   "cell_type": "code",
   "execution_count": 24,
   "id": "f09fa94d",
   "metadata": {},
   "outputs": [
    {
     "data": {
      "image/png": "[encoded data removed]",
      "text/plain": [
       "<Figure size 396x396 with 4 Axes>"
      ]
     },
     "metadata": {
      "needs_background": "light"
     },
     "output_type": "display_data"
    }
   ],
   "source": [
    "tmp = sns.color_palette(\"Paired\")\n",
    "colors = [tmp[5], tmp[6], tmp[10], tmp[2], tmp[1]]\n",
    "fig, axes = plt.subplots(4, figsize=(5.5, 5.5))\n",
    "for idx, ax in enumerate(axes):\n",
    "    plot_df = results.loc[results[\"Scenario\"]==scenarios[idx]][tariffs].rename(index=criteria_translation)\n",
    "    plot_df.T.plot.bar(color=colors, width=0.8, ax=ax, stacked=True)\n",
    "    ax.legend().remove()\n",
    "    if idx==3:\n",
    "        ax.set_xticklabels(ax.get_xticklabels(), rotation=0)\n",
    "    else:\n",
    "        ax.set_xticklabels([])\n",
    "    ax.set_title(scenario_names[scenarios[idx]])\n",
    "plt.tight_layout()"
   ]
  },
  {
   "cell_type": "markdown",
   "id": "28400209",
   "metadata": {},
   "source": [
    "## Overall Ranking"
   ]
  },
  {
   "cell_type": "code",
   "execution_count": 25,
   "id": "367868ed",
   "metadata": {},
   "outputs": [],
   "source": [
    "scenario_names = {\n",
    "    'Scenario 1': \"Scenario 1: High Inflexibility\",\n",
    "    'Scenario 2': \"Scenario 2: Increase in Peak-Consumption\",\n",
    "    'Scenario 3': \"Scenario 3: Increase in Local Production\", \n",
    "    'Scenario 4': \"Scenario 4: High Flexibility\"\n",
    "}"
   ]
  },
  {
   "cell_type": "code",
   "execution_count": 26,
   "id": "32be577a",
   "metadata": {},
   "outputs": [],
   "source": [
    "scenario_names_reduced = {\n",
    "    'Scenario 1': \"Scenario 1: Low Flexibility\",\n",
    "    'Scenario 4': \"Scenario 2: High Flexibility\"\n",
    "}"
   ]
  },
  {
   "cell_type": "code",
   "execution_count": 27,
   "id": "aecc2594",
   "metadata": {},
   "outputs": [],
   "source": [
    "results = {}\n",
    "scenarios = ['Scenario 1', 'Scenario 2', 'Scenario 3', 'Scenario 4']\n",
    "for scenario in scenarios:\n",
    "    tmp = pd.read_csv(f\"results/end_rating_{scenario}.csv\", index_col=0)\n",
    "    tmp.index = ['Volumetric Tariff', 'Monthly Power Peak', 'Yearly Power Peak', 'Capacity Tariff']\n",
    "    results[scenario] = tmp.T"
   ]
  },
  {
   "cell_type": "code",
   "execution_count": 28,
   "id": "122c07e0",
   "metadata": {},
   "outputs": [
    {
     "data": {
      "text/plain": [
       "<matplotlib.legend.Legend at 0x284cb118550>"
      ]
     },
     "execution_count": 28,
     "metadata": {},
     "output_type": "execute_result"
    },
    {
     "data": {
      "image/png": "[encoded data removed]",
      "text/plain": [
       "<Figure size 396x396 with 4 Axes>"
      ]
     },
     "metadata": {
      "needs_background": "light"
     },
     "output_type": "display_data"
    }
   ],
   "source": [
    "tmp = sns.color_palette(\"Paired\")\n",
    "colors = [tmp[1], tmp[5], tmp[6], \"k\"]\n",
    "fig, axes = plt.subplots(4, figsize=(5.5, 5.5))\n",
    "for idx, ax in enumerate(axes):\n",
    "    results[scenarios[idx]].plot.bar(color=colors, width=0.8, ax=ax)\n",
    "    ax.legend().remove()\n",
    "    if idx==3:\n",
    "        ax.set_xticklabels(ax.get_xticklabels(), rotation=0)\n",
    "    else:\n",
    "        ax.set_xticklabels([])\n",
    "    ax.set_title(scenario_names[scenarios[idx]])\n",
    "plt.tight_layout()\n",
    "plt.legend(ncols=2, loc=\"lower center\", bbox_to_anchor=(0.475,-1.45))\n",
    "#plt.savefig('results/plots/ranking.pdf', bbox_inches='tight')"
   ]
  },
  {
   "cell_type": "code",
   "execution_count": 29,
   "id": "71a7871d",
   "metadata": {},
   "outputs": [
    {
     "data": {
      "image/png": "[encoded data removed]",
      "text/plain": [
       "<Figure size 396x252 with 2 Axes>"
      ]
     },
     "metadata": {
      "needs_background": "light"
     },
     "output_type": "display_data"
    }
   ],
   "source": [
    "tmp = sns.color_palette(\"Paired\")\n",
    "colors = [tmp[1], tmp[5], tmp[6], \"k\"]\n",
    "fig, axes = plt.subplots(2, figsize=(5.5, 3.5))\n",
    "for idx, scenario in enumerate([\"Scenario 1\", \"Scenario 4\"]):\n",
    "    ax=axes[idx]\n",
    "    results[scenario].plot.bar(color=colors, width=0.8, ax=ax)\n",
    "    ax.legend().remove()\n",
    "    if idx==1:\n",
    "        ax.set_xticklabels(ax.get_xticklabels(), rotation=0)\n",
    "    else:\n",
    "        ax.set_xticklabels([])\n",
    "    ax.set_title(scenario_names_reduced[scenario])\n",
    "plt.tight_layout()\n",
    "plt.legend(ncols=2, loc=\"lower center\", bbox_to_anchor=(0.475,-0.7))\n",
    "plt.savefig('results/plots/ranking_reduced.pdf', bbox_inches='tight')"
   ]
  },
  {
   "cell_type": "code",
   "execution_count": null,
   "id": "a78ea51a",
   "metadata": {},
   "outputs": [],
   "source": []
  }
 ],
 "metadata": {
  "kernelspec": {
   "display_name": "Python 3",
   "language": "python",
   "name": "python3"
  },
  "language_info": {
   "codemirror_mode": {
    "name": "ipython",
    "version": 3
   },
   "file_extension": ".py",
   "mimetype": "text/x-python",
   "name": "python",
   "nbconvert_exporter": "python",
   "pygments_lexer": "ipython3",
   "version": "3.8.8"
  }
 },
 "nbformat": 4,
 "nbformat_minor": 5
}
